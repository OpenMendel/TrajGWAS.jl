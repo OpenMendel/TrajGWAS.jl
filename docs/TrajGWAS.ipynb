{
 "cells": [
  {
   "cell_type": "markdown",
   "metadata": {},
   "source": [
    "# TrajGWAS.jl"
   ]
  },
  {
   "cell_type": "markdown",
   "metadata": {},
   "source": [
    "TrajGWAS.jl is a Julia package for performing genome-wide association studies (GWAS) for continuous longitudinal phenotypes using a modified linear mixed effects model. It builds upon the [within-subject variance estimation by robust regression (WiSER) method](https://github.com/OpenMendel/WiSER.jl) and can be used to identify variants associated with changes in the mean and within-subject variability of the longitduinal trait. The estimation procedure is robust to distributional misspecifications of both the random effects and the response. A saddlepoint approximation (SPA) option is implemented to provide improved power and calibrated type I error for rare variants. \n",
    "\n",
    "\n",
    "TrajGWAS.jl currently supports [PLINK](https://zzz.bwh.harvard.edu/plink/), [VCF](https://en.wikipedia.org/wiki/Variant_Call_Format) (both dosage and genotype data), and [BGEN](https://www.well.ox.ac.uk/~gav/bgen_format/) file formats. We plan to add [PGEN](https://www.cog-genomics.org/plink/2.0/formats#pgen) support in the future. \n",
    "\n",
    "## Installation\n",
    "\n",
    "This package requires Julia v1.6 or later. The package is registered and can be installed using the command:\n",
    "\n",
    "```julia\n",
    "using Pkg\n",
    "pkg\"add TrajGWAS\"\n",
    "```\n",
    "\n",
    "To run the code in this document, the packages installed by the following command are also necessary:\n",
    "```julia\n",
    "pkg\"add BenchmarkTools CSV Glob PrettyTables\"\n",
    "```"
   ]
  },
  {
   "cell_type": "code",
   "execution_count": 1,
   "metadata": {},
   "outputs": [
    {
     "name": "stdout",
     "output_type": "stream",
     "text": [
      "Julia Version 1.7.1\n",
      "Commit ac5cc99908 (2021-12-22 19:35 UTC)\n",
      "Platform Info:\n",
      "  OS: macOS (x86_64-apple-darwin19.5.0)\n",
      "  CPU: Intel(R) Core(TM) i7-7820HQ CPU @ 2.90GHz\n",
      "  WORD_SIZE: 64\n",
      "  LIBM: libopenlibm\n",
      "  LLVM: libLLVM-12.0.1 (ORCJIT, skylake)\n"
     ]
    }
   ],
   "source": [
    "# machine information for this tutorial\n",
    "versioninfo()"
   ]
  },
  {
   "cell_type": "code",
   "execution_count": 2,
   "metadata": {},
   "outputs": [],
   "source": [
    "# for use in this tutorial\n",
    "ENV[\"COLUMNS\"] = 400\n",
    "using BenchmarkTools, CSV, Glob, SnpArrays, TrajGWAS, PrettyTables"
   ]
  },
  {
   "cell_type": "markdown",
   "metadata": {},
   "source": [
    "## Example data sets\n",
    "\n",
    "The `data` folder of the package contains the example data sets for use with PLINK and VCF Files. In general, the user can locate this folder by command:"
   ]
  },
  {
   "cell_type": "code",
   "execution_count": 3,
   "metadata": {},
   "outputs": [
    {
     "data": {
      "text/plain": [
       "\"/Users/xyz/.julia/dev/TrajGWAS/data/\""
      ]
     },
     "execution_count": 3,
     "metadata": {},
     "output_type": "execute_result"
    }
   ],
   "source": [
    "pvalpath = \"trajgwas.pval.txt\"\n",
    "nullpath = \"trajgwas.null.txt\"\n",
    "const datadir = normpath(joinpath(dirname(pathof(TrajGWAS)), \"../data/\"))"
   ]
  },
  {
   "cell_type": "code",
   "execution_count": 4,
   "metadata": {},
   "outputs": [
    {
     "data": {
      "text/plain": [
       "14-element Vector{String}:\n",
       " \"/Users/xyz/.julia/dev/TrajGWAS/data/bgen_snpsetfile.txt\"\n",
       " \"/Users/xyz/.julia/dev/TrajGWAS/data/covariate.txt\"\n",
       " \"/Users/xyz/.julia/dev/TrajGWAS/data/example.8bits.bgen\"\n",
       " \"/Users/xyz/.julia/dev/TrajGWAS/data/example.8bits.bgen.bgi\"\n",
       " \"/Users/xyz/.julia/dev/TrajGWAS/data/hapmap3.bed\"\n",
       " \"/Users/xyz/.julia/dev/TrajGWAS/data/hapmap3.bim\"\n",
       " \"/Users/xyz/.julia/dev/TrajGWAS/data/hapmap3.fam\"\n",
       " \"/Users/xyz/.julia/dev/TrajGWAS/data/hapmap_snpsetfile.txt\"\n",
       " \"/Users/xyz/.julia/dev/TrajGWAS/data/sim_data.jl\"\n",
       " \"/Users/xyz/.julia/dev/TrajGWAS/data/snpsetfile_vcf.txt\"\n",
       " \"/Users/xyz/.julia/dev/TrajGWAS/data/test_vcf.vcf.gz\"\n",
       " \"/Users/xyz/.julia/dev/TrajGWAS/data/trajgwas_bgen_ex.csv\"\n",
       " \"/Users/xyz/.julia/dev/TrajGWAS/data/trajgwas_plinkex.csv\"\n",
       " \"/Users/xyz/.julia/dev/TrajGWAS/data/trajgwas_vcfex.csv\""
      ]
     },
     "execution_count": 4,
     "metadata": {},
     "output_type": "execute_result"
    }
   ],
   "source": [
    "# content of the data folder\n",
    "readdir(glob\"*.*\", datadir)"
   ]
  },
  {
   "cell_type": "markdown",
   "metadata": {},
   "source": [
    "The `hapmap3` files `trajgwas_plinkex.csv` file correspond to data examples using PLINK formatted files (.bed, .bim, .fam). \n",
    "\n",
    "The `test_vcf.vcf.gz` and `trajgwas_vcfex.csv` files are for an example analysis using VCF formatted files. \n",
    "\n",
    "The `example.8bits.bgen` and `trajgwas_bgen_ex.csv` files are for an example analysis using VCF formatted files. \n"
   ]
  },
  {
   "cell_type": "markdown",
   "metadata": {},
   "source": [
    "## Basic usage\n",
    "\n",
    "The following command performs GWAS using for the hapmap3 PLINK files. The output is the fitted null model.\n",
    "\n",
    "The default type of GWAS performed is a single-snp significance genome-wide scan, this can be changed by the keyword `analysistype` (default is \"singlesnp\"). Other types of analyses are covered later. It outputs the null model, runtime of fitting the null model, and convergence metrics. "
   ]
  },
  {
   "cell_type": "code",
   "execution_count": 5,
   "metadata": {},
   "outputs": [
    {
     "name": "stdout",
     "output_type": "stream",
     "text": [
      "\n",
      "******************************************************************************\n",
      "This program contains Ipopt, a library for large-scale nonlinear optimization.\n",
      " Ipopt is released as open source code under the Eclipse Public License (EPL).\n",
      "         For more information visit https://github.com/coin-or/Ipopt\n",
      "******************************************************************************\n",
      "\n",
      "run = 1, ‖Δβ‖ = 0.037090, ‖Δτ‖ = 0.136339, ‖ΔL‖ = 0.005441, status = LOCALLY_SOLVED, time(s) = 0.602286\n",
      "run = 2, ‖Δβ‖ = 0.000913, ‖Δτ‖ = 0.019810, ‖ΔL‖ = 0.001582, status = LOCALLY_SOLVED, time(s) = 0.040254\n"
     ]
    },
    {
     "data": {
      "text/plain": [
       "\n",
       "Within-subject variance estimation by robust regression (WiSER)\n",
       "\n",
       "Mean Formula:\n",
       "y ~ 1 + sex + onMeds\n",
       "Random Effects Formula:\n",
       "y ~ 1\n",
       "Within-Subject Variance Formula:\n",
       "y ~ 1 + sex + onMeds\n",
       "\n",
       "Number of individuals/clusters: 324\n",
       "Total observations: 3240\n",
       "\n",
       "Fixed-effects parameters:\n",
       "────────────────────────────────────────────────────────\n",
       "                  Estimate  Std. Error       Z  Pr(>|Z|)\n",
       "────────────────────────────────────────────────────────\n",
       "β1: (Intercept)  13.2282     0.146459    90.32    <1e-99\n",
       "β2: sex          -3.29295    0.2101     -15.67    <1e-54\n",
       "β3: onMeds        0.459585   0.0596002    7.71    <1e-13\n",
       "τ1: (Intercept)   0.792508   0.0850728    9.32    <1e-19\n",
       "τ2: sex          -0.2865     0.0970732   -2.95    0.0032\n",
       "τ3: onMeds        0.422303   0.063825     6.62    <1e-10\n",
       "────────────────────────────────────────────────────────\n",
       "Random effects covariance matrix Σγ:\n",
       " \"γ1: (Intercept)\"  3.32057\n",
       "\n"
      ]
     },
     "execution_count": 5,
     "metadata": {},
     "output_type": "execute_result"
    }
   ],
   "source": [
    "trajgwas(@formula(y ~ 1 + sex + onMeds),\n",
    "        @formula(y ~ 1),\n",
    "        @formula(y ~ 1 + sex + onMeds),\n",
    "        :id,\n",
    "        datadir * \"trajgwas_plinkex.csv\",\n",
    "        datadir * \"hapmap3\",\n",
    "        pvalfile = pvalpath,\n",
    "        nullfile = nullpath)"
   ]
  },
  {
   "cell_type": "markdown",
   "metadata": {},
   "source": [
    "For documentation of the `trajgwas` function, type `?trajgwas` in Julia REPL.\n",
    "```@docs\n",
    "trajgwas\n",
    "```"
   ]
  },
  {
   "cell_type": "markdown",
   "metadata": {},
   "source": [
    "### Formula for null model\n",
    "\n",
    "The first three arguments specify the null model without SNP effects. The fourth argument specifies the grouping variable (subject ID, cluster, etc.).\n",
    "\n",
    "- The first term is the mean fixed effects formula e.g., `@formula(y ~ 1 + sex + onMeds)`.\n",
    "- The second argument is the random (location) effects -- `@formula(y ~ 1)` specifies a random intercept, whereas `@formula(y ~ 1 + time)` would specify a random intercept and slope (time).\n",
    "- The third argument specifies the within-subject variance (WSV) formula `@formula(y ~ 1 + sex + onMeds)` models the intra-individual variability of `y` with an intercept, sex, and medication. Note: The WSV formula must have an intercept. \n",
    "- The fourth argument specifies the grouping variable of the longitudinal data. In the example data, the `id` variable specifies the grouping variable the repeated measures are collected on. \n",
    "\n"
   ]
  },
  {
   "cell_type": "markdown",
   "metadata": {},
   "source": [
    "### Input files\n",
    "\n",
    "`trajgwas` expects two input files: one for responses plus covariates (fifth argument) in long format, the other the genetic file(s) for dosages/genotypes (sixth argument).\n",
    "\n",
    "#### Covariate and trait file\n",
    "\n",
    "Covariates and phenotype are provided in a csv file, e.g., `trajgwas_plinkex.csv`, which has one header line for variable names. In this example, variable `y` is continuous variable with repeated measures on individuals specified by `id`. We want to include variable `sex` and `onMeds` as covariates for GWAS."
   ]
  },
  {
   "cell_type": "code",
   "execution_count": 6,
   "metadata": {},
   "outputs": [
    {
     "name": "stdout",
     "output_type": "stream",
     "text": [
      "sex,onMeds,snp1,snp2,snp3,snp4,y,id\n",
      "0.0,1.0,0.0,1.0,2.0,0.0,12.26667411332518,A1\n",
      "0.0,0.0,0.0,1.0,2.0,0.0,10.268123812744903,A1\n",
      "0.0,0.0,0.0,1.0,2.0,0.0,12.165997408822557,A1\n",
      "0.0,0.0,0.0,1.0,2.0,0.0,11.879709602937222,A1\n",
      "0.0,0.0,0.0,1.0,2.0,0.0,12.812705165990007,A1\n",
      "0.0,0.0,0.0,1.0,2.0,0.0,9.987659617201372,A1\n",
      "0.0,0.0,0.0,1.0,2.0,0.0,12.140779426464974,A1\n",
      "0.0,1.0,0.0,1.0,2.0,0.0,13.205778146177705,A1\n",
      "0.0,0.0,0.0,1.0,2.0,0.0,11.363145919060207,A1\n"
     ]
    }
   ],
   "source": [
    "run(`head $(datadir)trajgwas_plinkex.csv`);"
   ]
  },
  {
   "cell_type": "markdown",
   "metadata": {},
   "source": [
    "#### Genetic file(s)\n",
    "\n",
    "TrajGWAS supports PLINK files, VCF files, and BGEN files.\n",
    "\n",
    "- Genotype data is available as binary PLINK files.\n",
    "\n",
    "- TrajGWAS can use dosage or genotype data from VCF files. \n",
    "\n",
    "- TrajGWAS uses dosage data from BGEN files.\n",
    "\n",
    "!!! note\n",
    "\n",
    "    By default, TrajGWAS assumes a set of PLINK files will be used. When using a VCF File, VCF file and type of data (dosage, genotype) must be specified by the `geneticformat` and `vcftype` options (as shown later). Similarly, BGEN must be specified as the `geneticformat` if using a BGEN file. "
   ]
  },
  {
   "cell_type": "code",
   "execution_count": 7,
   "metadata": {},
   "outputs": [
    {
     "data": {
      "text/plain": [
       "3-element Vector{String}:\n",
       " \"/Users/xyz/.julia/dev/TrajGWAS/data/hapmap3.bed\"\n",
       " \"/Users/xyz/.julia/dev/TrajGWAS/data/hapmap3.bim\"\n",
       " \"/Users/xyz/.julia/dev/TrajGWAS/data/hapmap3.fam\""
      ]
     },
     "execution_count": 7,
     "metadata": {},
     "output_type": "execute_result"
    }
   ],
   "source": [
    "readdir(glob\"hapmap3.*\", datadir)"
   ]
  },
  {
   "cell_type": "markdown",
   "metadata": {},
   "source": [
    "In this example, there are 324 samples at 13,928 SNPs."
   ]
  },
  {
   "cell_type": "code",
   "execution_count": 8,
   "metadata": {},
   "outputs": [
    {
     "data": {
      "text/plain": [
       "(324, 13928)"
      ]
     },
     "execution_count": 8,
     "metadata": {},
     "output_type": "execute_result"
    }
   ],
   "source": [
    "size(SnpArray(datadir * \"hapmap3.bed\"))"
   ]
  },
  {
   "cell_type": "markdown",
   "metadata": {},
   "source": [
    "Compressed PLINK and VCF files are supported. For example, if Plink files are `hapmap3.bed.gz`, `hapmap3.bim.gz` and `hapmap3.fam.gz`, the same command\n",
    "```julia\n",
    "trajgwas(@formula(y ~ 1 + sex + onMeds),\n",
    "        @formula(y ~ 1),\n",
    "        @formula(y ~ 1 + sex + onMeds),\n",
    "        :id,\n",
    "        datadir * \"trajgwas_plinkex.csv\",\n",
    "        datadir * \"hapmap3\",\n",
    "        pvalfile = pvalpath,\n",
    "        nullfile = nullpath)\n",
    "```\n",
    "still works. Check all supported compression format by"
   ]
  },
  {
   "cell_type": "code",
   "execution_count": 9,
   "metadata": {},
   "outputs": [
    {
     "data": {
      "text/plain": [
       "6-element Vector{String}:\n",
       " \"gz\"\n",
       " \"zlib\"\n",
       " \"zz\"\n",
       " \"xz\"\n",
       " \"zst\"\n",
       " \"bz2\""
      ]
     },
     "execution_count": 9,
     "metadata": {},
     "output_type": "execute_result"
    }
   ],
   "source": [
    "SnpArrays.ALLOWED_FORMAT"
   ]
  },
  {
   "cell_type": "markdown",
   "metadata": {},
   "source": [
    "### Output files"
   ]
  },
  {
   "cell_type": "markdown",
   "metadata": {},
   "source": [
    "`trajgwas` outputs two files: `trajgwas.null.txt` and `trajgwas.pval.txt`. \n",
    "\n",
    "* `trajgwas.null.txt` lists the estimated null model (without SNPs). "
   ]
  },
  {
   "cell_type": "code",
   "execution_count": 10,
   "metadata": {},
   "outputs": [
    {
     "name": "stdout",
     "output_type": "stream",
     "text": [
      "\n",
      "Within-subject variance estimation by robust regression (WiSER)\n",
      "\n",
      "Mean Formula:\n",
      "y ~ 1 + sex + onMeds\n",
      "Random Effects Formula:\n",
      "y ~ 1\n",
      "Within-Subject Variance Formula:\n",
      "y ~ 1 + sex + onMeds\n",
      "\n",
      "Number of individuals/clusters: 324\n",
      "Total observations: 3240\n",
      "\n",
      "Fixed-effects parameters:\n",
      "────────────────────────────────────────────────────────\n",
      "                  Estimate  Std. Error       Z  Pr(>|Z|)\n",
      "────────────────────────────────────────────────────────\n",
      "β1: (Intercept)  13.2282     0.146459    90.32    <1e-99\n",
      "β2: sex          -3.29295    0.2101     -15.67    <1e-54\n",
      "β3: onMeds        0.459585   0.0596002    7.71    <1e-13\n",
      "τ1: (Intercept)   0.792508   0.0850728    9.32    <1e-19\n",
      "τ2: sex          -0.2865     0.0970732   -2.95    0.0032\n",
      "τ3: onMeds        0.422303   0.063825     6.62    <1e-10\n",
      "────────────────────────────────────────────────────────\n",
      "Random effects covariance matrix Σγ:\n",
      " \"γ1: (Intercept)\"  3.32057\n",
      "\n"
     ]
    }
   ],
   "source": [
    "run(`cat trajgwas.null.txt`);"
   ]
  },
  {
   "cell_type": "markdown",
   "metadata": {},
   "source": [
    "* `trajgwas.pval.txt` tallies the SNPs, their pvalues, and relevant information on each SNP.\n",
    "    - `betapval` represents the p-value of the SNP's effect on the mean of the trait. If `spa=true` (default), then this is the SPA p-value. If `spa=false`, then this is the score test beta p-value. \n",
    "    - `taupval` represents the p-value of the SNP's effect on the within-subject variability of the trait. If `spa=true` (default), then this is the SPA p-value. If `spa=false`, then this is the score test tau p-value. \n",
    "    - `jointpval` represents a joint p-value of the SNP's effect on both the mean and variance. By default `spa=true` this is the harmonic mean of the saddlepoint approximated p-values for beta and tau. If `spa=false`, this is the joint score test p-value."
   ]
  },
  {
   "cell_type": "code",
   "execution_count": 11,
   "metadata": {},
   "outputs": [
    {
     "name": "stdout",
     "output_type": "stream",
     "text": [
      "|\u001b[1m   chr \u001b[0m|\u001b[1m     pos \u001b[0m|\u001b[1m      snpid \u001b[0m|\u001b[1m        maf \u001b[0m|\u001b[1m     hwepval \u001b[0m|\u001b[1m    betapval \u001b[0m|\u001b[1m betadir \u001b[0m|\u001b[1m     taupval \u001b[0m|\u001b[1m taudir \u001b[0m|\u001b[1m   jointpval \u001b[0m|\n",
      "|\u001b[90m Int64 \u001b[0m|\u001b[90m   Int64 \u001b[0m|\u001b[90m   String31 \u001b[0m|\u001b[90m    Float64 \u001b[0m|\u001b[90m     Float64 \u001b[0m|\u001b[90m     Float64 \u001b[0m|\u001b[90m   Int64 \u001b[0m|\u001b[90m     Float64 \u001b[0m|\u001b[90m  Int64 \u001b[0m|\u001b[90m     Float64 \u001b[0m|\n",
      "|-------|---------|------------|------------|-------------|-------------|---------|-------------|--------|-------------|\n",
      "|     1 |  554484 | rs10458597 |        0.0 |         1.0 |         1.0 |       0 |         1.0 |      0 |         1.0 |\n",
      "|     1 |  758311 | rs12562034 |  0.0776398 |    0.409876 |     0.38939 |      -1 |    0.922822 |     -1 |    0.547682 |\n",
      "|     1 |  967643 |  rs2710875 |   0.324074 |  4.07625e-7 |  5.83856e-6 |       1 |  3.35408e-6 |     -1 |  4.93598e-7 |\n",
      "|     1 | 1168108 | rs11260566 |   0.191589 |    0.128568 | 0.000850889 |       1 |   0.0559055 |      1 |  0.00101827 |\n",
      "|     1 | 1375074 |  rs1312568 |   0.441358 |  2.5376e-19 | 0.000171683 |      -1 | 1.84811e-13 |      1 | 2.07091e-15 |\n",
      "|     1 | 1588771 | rs35154105 |        0.0 |         1.0 |         1.0 |       0 |         1.0 |      0 |         1.0 |\n",
      "|     1 | 1789051 | rs16824508 | 0.00462963 |    0.933278 |    0.295035 |       1 |    0.304109 |      1 |    0.299504 |\n",
      "|     1 | 1990452 |  rs2678939 |   0.453704 | 5.07696e-11 |  1.27871e-7 |       1 |  7.73809e-9 |     -1 |   3.3986e-9 |\n"
     ]
    }
   ],
   "source": [
    "pretty_table(first(CSV.read(\"trajgwas.pval.txt\", DataFrame), 8), tf = tf_markdown)"
   ]
  },
  {
   "cell_type": "markdown",
   "metadata": {},
   "source": [
    "Output file names can be changed by the `nullfile` and `pvalfile` keywords respectively. For example, \n",
    "```julia\n",
    "trajgwas(@formula(y ~ 1 + sex + onMeds),\n",
    "        @formula(y ~ 1),\n",
    "        @formula(y ~ 1 + sex + onMeds),\n",
    "        :id,\n",
    "        datadir * \"trajgwas_plinkex.csv\",\n",
    "        datadir * \"hapmap3\",\n",
    "        pvalfile = \"trajgwas.pval.txt.gz\",\n",
    "        nullfile = nullpath)\n",
    "\n",
    "```\n",
    "will output the p-value file in compressed gz format."
   ]
  },
  {
   "cell_type": "markdown",
   "metadata": {},
   "source": [
    "### Subsamples\n",
    "\n",
    "Use the keyword `covrowinds` to specify selected samples in the covarite file. Use the keyword `geneticrowinds` to specify selected samples in the Plink (.bed), VCF, or BGEN file. For example, to use the first 300 samples in both covariate and bed file:\n",
    "```julia\n",
    "trajgwas(@formula(trait ~ 1+ sex), \n",
    "    @formula(trait ~ 1), \n",
    "    @formula(trait ~ 1 + sex), \n",
    "    :id,\n",
    "    covfile, geneticfile, \n",
    "    covrowinds=1:300, geneticrowinds=1:300)\n",
    "```\n",
    "!!! note\n",
    "\n",
    "    Users should make sure that the selected samples in covariate file match exactly those in bed file, otherwise an error will be displayed. "
   ]
  },
  {
   "cell_type": "markdown",
   "metadata": {},
   "source": [
    "### Input non-genetic data as DataFrame\n",
    "\n",
    "Internally `trajgwas` parses the covariate file as a DataFrame by `df = CSV.read(covfile, DataFrame)`. For covariate file of other formats, or for specifying default levels of categorical variables, users can parse their datafile as a DataFrame and then input the DataFrame to `trajgwas` directly.\n",
    "```julia\n",
    "trajgwas(@formula(trait ~ 1+ sex), \n",
    "    @formula(trait ~ 1), \n",
    "    @formula(trait ~ 1 + sex),\n",
    "    :id,\n",
    "    df, geneticfile)\n",
    "```\n",
    "!!! note\n",
    "\n",
    "    Users should always make sure that individuals in covariate file or DataFrame match those in Plink fam file/VCF File/BGEN file. \n",
    "\n",
    "For example, following code checks that the subject ID of the `covariate.txt` file match that of the `hapmap3.fam` file exactly."
   ]
  },
  {
   "cell_type": "code",
   "execution_count": 12,
   "metadata": {},
   "outputs": [
    {
     "data": {
      "text/plain": [
       "true"
      ]
     },
     "execution_count": 12,
     "metadata": {},
     "output_type": "execute_result"
    }
   ],
   "source": [
    "covdf = CSV.read(datadir * \"covariate.txt\", DataFrame)\n",
    "plkfam = CSV.read(datadir * \"hapmap3.fam\", DataFrame, header=0, delim=' ')\n",
    "all(covdf[!, 2] .== plkfam[!, 2])"
   ]
  },
  {
   "cell_type": "code",
   "execution_count": 13,
   "metadata": {},
   "outputs": [
    {
     "name": "stdout",
     "output_type": "stream",
     "text": [
      "|\u001b[1m   famid \u001b[0m|\u001b[1m   perid \u001b[0m|\u001b[1m  faid \u001b[0m|\u001b[1m  moid \u001b[0m|\u001b[1m   sex \u001b[0m|\u001b[1m trait \u001b[0m|\n",
      "|\u001b[90m String7 \u001b[0m|\u001b[90m String7 \u001b[0m|\u001b[90m Int64 \u001b[0m|\u001b[90m Int64 \u001b[0m|\u001b[90m Int64 \u001b[0m|\u001b[90m Int64 \u001b[0m|\n",
      "|---------|---------|-------|-------|-------|-------|\n",
      "|    2431 | NA19916 |     0 |     0 |     1 |     4 |\n",
      "|    2424 | NA19835 |     0 |     0 |     2 |     4 |\n",
      "|    2469 | NA20282 |     0 |     0 |     2 |     4 |\n",
      "|    2368 | NA19703 |     0 |     0 |     1 |     3 |\n",
      "|    2425 | NA19901 |     0 |     0 |     2 |     3 |\n",
      "|    2427 | NA19908 |     0 |     0 |     1 |     4 |\n",
      "|    2430 | NA19914 |     0 |     0 |     2 |     4 |\n",
      "|    2470 | NA20287 |     0 |     0 |     2 |     1 |\n"
     ]
    }
   ],
   "source": [
    "pretty_table(first(covdf, 8), tf = tf_markdown)"
   ]
  },
  {
   "cell_type": "code",
   "execution_count": 14,
   "metadata": {},
   "outputs": [
    {
     "name": "stdout",
     "output_type": "stream",
     "text": [
      "|\u001b[1m Column1 \u001b[0m|\u001b[1m Column2 \u001b[0m|\u001b[1m Column3 \u001b[0m|\u001b[1m Column4 \u001b[0m|\u001b[1m Column5 \u001b[0m|\u001b[1m Column6 \u001b[0m|\n",
      "|\u001b[90m String7 \u001b[0m|\u001b[90m String7 \u001b[0m|\u001b[90m   Int64 \u001b[0m|\u001b[90m   Int64 \u001b[0m|\u001b[90m   Int64 \u001b[0m|\u001b[90m   Int64 \u001b[0m|\n",
      "|---------|---------|---------|---------|---------|---------|\n",
      "|      A1 | NA19916 |       0 |       0 |       1 |      -9 |\n",
      "|       2 | NA19835 |       0 |       0 |       2 |      -9 |\n",
      "|       3 | NA20282 |       0 |       0 |       2 |      -9 |\n",
      "|       4 | NA19703 |       0 |       0 |       1 |      -9 |\n",
      "|       5 | NA19901 |       0 |       0 |       2 |      -9 |\n",
      "|       6 | NA19908 |       0 |       0 |       1 |      -9 |\n",
      "|       7 | NA19914 |       0 |       0 |       2 |      -9 |\n",
      "|       8 | NA20287 |       0 |       0 |       2 |      -9 |\n"
     ]
    }
   ],
   "source": [
    "pretty_table(first(plkfam, 8), tf = tf_markdown)"
   ]
  },
  {
   "cell_type": "markdown",
   "metadata": {},
   "source": [
    "### Timing\n",
    "\n",
    "For this moderate-sized data set, `trajgwas` takes around 1 second without applying SPA. With SPA, it takes a little longer. "
   ]
  },
  {
   "cell_type": "code",
   "execution_count": 15,
   "metadata": {},
   "outputs": [
    {
     "name": "stdout",
     "output_type": "stream",
     "text": [
      "run = 1, ‖Δβ‖ = 0.037090, ‖Δτ‖ = 0.136339, ‖ΔL‖ = 0.005441, status = LOCALLY_SOLVED, time(s) = 0.044445\n",
      "run = 2, ‖Δβ‖ = 0.000913, ‖Δτ‖ = 0.019810, ‖ΔL‖ = 0.001582, status = LOCALLY_SOLVED, time(s) = 0.042232\n",
      "run = 1, ‖Δβ‖ = 0.037090, ‖Δτ‖ = 0.136339, ‖ΔL‖ = 0.005441, status = LOCALLY_SOLVED, time(s) = 0.043275\n",
      "run = 2, ‖Δβ‖ = 0.000913, ‖Δτ‖ = 0.019810, ‖ΔL‖ = 0.001582, status = LOCALLY_SOLVED, time(s) = 0.039053\n",
      "run = 1, ‖Δβ‖ = 0.037090, ‖Δτ‖ = 0.136339, ‖ΔL‖ = 0.005441, status = LOCALLY_SOLVED, time(s) = 0.044923\n",
      "run = 2, ‖Δβ‖ = 0.000913, ‖Δτ‖ = 0.019810, ‖ΔL‖ = 0.001582, status = LOCALLY_SOLVED, time(s) = 0.039103\n",
      "run = 1, ‖Δβ‖ = 0.037090, ‖Δτ‖ = 0.136339, ‖ΔL‖ = 0.005441, status = LOCALLY_SOLVED, time(s) = 0.044385\n",
      "run = 2, ‖Δβ‖ = 0.000913, ‖Δτ‖ = 0.019810, ‖ΔL‖ = 0.001582, status = LOCALLY_SOLVED, time(s) = 0.039346\n",
      "run = 1, ‖Δβ‖ = 0.037090, ‖Δτ‖ = 0.136339, ‖ΔL‖ = 0.005441, status = LOCALLY_SOLVED, time(s) = 0.043468\n",
      "run = 2, ‖Δβ‖ = 0.000913, ‖Δτ‖ = 0.019810, ‖ΔL‖ = 0.001582, status = LOCALLY_SOLVED, time(s) = 0.039741\n",
      "run = 1, ‖Δβ‖ = 0.037090, ‖Δτ‖ = 0.136339, ‖ΔL‖ = 0.005441, status = LOCALLY_SOLVED, time(s) = 0.043577\n",
      "run = 2, ‖Δβ‖ = 0.000913, ‖Δτ‖ = 0.019810, ‖ΔL‖ = 0.001582, status = LOCALLY_SOLVED, time(s) = 0.040535\n",
      "run = 1, ‖Δβ‖ = 0.037090, ‖Δτ‖ = 0.136339, ‖ΔL‖ = 0.005441, status = LOCALLY_SOLVED, time(s) = 0.043344\n",
      "run = 2, ‖Δβ‖ = 0.000913, ‖Δτ‖ = 0.019810, ‖ΔL‖ = 0.001582, status = LOCALLY_SOLVED, time(s) = 0.039667\n",
      "run = 1, ‖Δβ‖ = 0.037090, ‖Δτ‖ = 0.136339, ‖ΔL‖ = 0.005441, status = LOCALLY_SOLVED, time(s) = 0.043612\n",
      "run = 2, ‖Δβ‖ = 0.000913, ‖Δτ‖ = 0.019810, ‖ΔL‖ = 0.001582, status = LOCALLY_SOLVED, time(s) = 0.039483\n",
      "run = 1, ‖Δβ‖ = 0.037090, ‖Δτ‖ = 0.136339, ‖ΔL‖ = 0.005441, status = LOCALLY_SOLVED, time(s) = 0.045086\n",
      "run = 2, ‖Δβ‖ = 0.000913, ‖Δτ‖ = 0.019810, ‖ΔL‖ = 0.001582, status = LOCALLY_SOLVED, time(s) = 0.039441\n",
      "run = 1, ‖Δβ‖ = 0.037090, ‖Δτ‖ = 0.136339, ‖ΔL‖ = 0.005441, status = LOCALLY_SOLVED, time(s) = 0.044173\n",
      "run = 2, ‖Δβ‖ = 0.000913, ‖Δτ‖ = 0.019810, ‖ΔL‖ = 0.001582, status = LOCALLY_SOLVED, time(s) = 0.040099\n",
      "run = 1, ‖Δβ‖ = 0.037090, ‖Δτ‖ = 0.136339, ‖ΔL‖ = 0.005441, status = LOCALLY_SOLVED, time(s) = 0.044949\n",
      "run = 2, ‖Δβ‖ = 0.000913, ‖Δτ‖ = 0.019810, ‖ΔL‖ = 0.001582, status = LOCALLY_SOLVED, time(s) = 0.040097\n",
      "run = 1, ‖Δβ‖ = 0.037090, ‖Δτ‖ = 0.136339, ‖ΔL‖ = 0.005441, status = LOCALLY_SOLVED, time(s) = 0.044071\n",
      "run = 2, ‖Δβ‖ = 0.000913, ‖Δτ‖ = 0.019810, ‖ΔL‖ = 0.001582, status = LOCALLY_SOLVED, time(s) = 0.041057\n",
      "run = 1, ‖Δβ‖ = 0.037090, ‖Δτ‖ = 0.136339, ‖ΔL‖ = 0.005441, status = LOCALLY_SOLVED, time(s) = 0.044740\n",
      "run = 2, ‖Δβ‖ = 0.000913, ‖Δτ‖ = 0.019810, ‖ΔL‖ = 0.001582, status = LOCALLY_SOLVED, time(s) = 0.040537\n",
      "run = 1, ‖Δβ‖ = 0.037090, ‖Δτ‖ = 0.136339, ‖ΔL‖ = 0.005441, status = LOCALLY_SOLVED, time(s) = 0.044379\n",
      "run = 2, ‖Δβ‖ = 0.000913, ‖Δτ‖ = 0.019810, ‖ΔL‖ = 0.001582, status = LOCALLY_SOLVED, time(s) = 0.042448\n",
      "run = 1, ‖Δβ‖ = 0.037090, ‖Δτ‖ = 0.136339, ‖ΔL‖ = 0.005441, status = LOCALLY_SOLVED, time(s) = 0.045716\n",
      "run = 2, ‖Δβ‖ = 0.000913, ‖Δτ‖ = 0.019810, ‖ΔL‖ = 0.001582, status = LOCALLY_SOLVED, time(s) = 0.042732\n",
      "run = 1, ‖Δβ‖ = 0.037090, ‖Δτ‖ = 0.136339, ‖ΔL‖ = 0.005441, status = LOCALLY_SOLVED, time(s) = 0.043419\n",
      "run = 2, ‖Δβ‖ = 0.000913, ‖Δτ‖ = 0.019810, ‖ΔL‖ = 0.001582, status = LOCALLY_SOLVED, time(s) = 0.040273\n",
      "run = 1, ‖Δβ‖ = 0.037090, ‖Δτ‖ = 0.136339, ‖ΔL‖ = 0.005441, status = LOCALLY_SOLVED, time(s) = 0.044672\n",
      "run = 2, ‖Δβ‖ = 0.000913, ‖Δτ‖ = 0.019810, ‖ΔL‖ = 0.001582, status = LOCALLY_SOLVED, time(s) = 0.040251\n",
      "run = 1, ‖Δβ‖ = 0.037090, ‖Δτ‖ = 0.136339, ‖ΔL‖ = 0.005441, status = LOCALLY_SOLVED, time(s) = 0.045095\n",
      "run = 2, ‖Δβ‖ = 0.000913, ‖Δτ‖ = 0.019810, ‖ΔL‖ = 0.001582, status = LOCALLY_SOLVED, time(s) = 0.041001\n",
      "run = 1, ‖Δβ‖ = 0.037090, ‖Δτ‖ = 0.136339, ‖ΔL‖ = 0.005441, status = LOCALLY_SOLVED, time(s) = 0.043335\n",
      "run = 2, ‖Δβ‖ = 0.000913, ‖Δτ‖ = 0.019810, ‖ΔL‖ = 0.001582, status = LOCALLY_SOLVED, time(s) = 0.039804\n",
      "run = 1, ‖Δβ‖ = 0.037090, ‖Δτ‖ = 0.136339, ‖ΔL‖ = 0.005441, status = LOCALLY_SOLVED, time(s) = 0.044344\n",
      "run = 2, ‖Δβ‖ = 0.000913, ‖Δτ‖ = 0.019810, ‖ΔL‖ = 0.001582, status = LOCALLY_SOLVED, time(s) = 0.039873\n",
      "run = 1, ‖Δβ‖ = 0.037090, ‖Δτ‖ = 0.136339, ‖ΔL‖ = 0.005441, status = LOCALLY_SOLVED, time(s) = 0.043518\n",
      "run = 2, ‖Δβ‖ = 0.000913, ‖Δτ‖ = 0.019810, ‖ΔL‖ = 0.001582, status = LOCALLY_SOLVED, time(s) = 0.039340\n",
      "run = 1, ‖Δβ‖ = 0.037090, ‖Δτ‖ = 0.136339, ‖ΔL‖ = 0.005441, status = LOCALLY_SOLVED, time(s) = 0.044033\n",
      "run = 2, ‖Δβ‖ = 0.000913, ‖Δτ‖ = 0.019810, ‖ΔL‖ = 0.001582, status = LOCALLY_SOLVED, time(s) = 0.039883\n",
      "run = 1, ‖Δβ‖ = 0.037090, ‖Δτ‖ = 0.136339, ‖ΔL‖ = 0.005441, status = LOCALLY_SOLVED, time(s) = 0.043352\n",
      "run = 2, ‖Δβ‖ = 0.000913, ‖Δτ‖ = 0.019810, ‖ΔL‖ = 0.001582, status = LOCALLY_SOLVED, time(s) = 0.044078\n",
      "run = 1, ‖Δβ‖ = 0.037090, ‖Δτ‖ = 0.136339, ‖ΔL‖ = 0.005441, status = LOCALLY_SOLVED, time(s) = 0.043401\n",
      "run = 2, ‖Δβ‖ = 0.000913, ‖Δτ‖ = 0.019810, ‖ΔL‖ = 0.001582, status = LOCALLY_SOLVED, time(s) = 0.039271\n",
      "run = 1, ‖Δβ‖ = 0.037090, ‖Δτ‖ = 0.136339, ‖ΔL‖ = 0.005441, status = LOCALLY_SOLVED, time(s) = 0.044151\n",
      "run = 2, ‖Δβ‖ = 0.000913, ‖Δτ‖ = 0.019810, ‖ΔL‖ = 0.001582, status = LOCALLY_SOLVED, time(s) = 0.039558\n",
      "run = 1, ‖Δβ‖ = 0.037090, ‖Δτ‖ = 0.136339, ‖ΔL‖ = 0.005441, status = LOCALLY_SOLVED, time(s) = 0.043364\n",
      "run = 2, ‖Δβ‖ = 0.000913, ‖Δτ‖ = 0.019810, ‖ΔL‖ = 0.001582, status = LOCALLY_SOLVED, time(s) = 0.039549\n",
      "run = 1, ‖Δβ‖ = 0.037090, ‖Δτ‖ = 0.136339, ‖ΔL‖ = 0.005441, status = LOCALLY_SOLVED, time(s) = 0.044107\n",
      "run = 2, ‖Δβ‖ = 0.000913, ‖Δτ‖ = 0.019810, ‖ΔL‖ = 0.001582, status = LOCALLY_SOLVED, time(s) = 0.040570\n",
      "run = 1, ‖Δβ‖ = 0.037090, ‖Δτ‖ = 0.136339, ‖ΔL‖ = 0.005441, status = LOCALLY_SOLVED, time(s) = 0.043527\n",
      "run = 2, ‖Δβ‖ = 0.000913, ‖Δτ‖ = 0.019810, ‖ΔL‖ = 0.001582, status = LOCALLY_SOLVED, time(s) = 0.040298\n",
      "  459.587 ms (1433770 allocations: 127.29 MiB)\n"
     ]
    }
   ],
   "source": [
    "@btime(trajgwas(@formula(y ~ 1 + sex + onMeds),\n",
    "        @formula(y ~ 1),\n",
    "        @formula(y ~ 1 + sex + onMeds),\n",
    "        :id,\n",
    "        datadir * \"trajgwas_plinkex.csv\",\n",
    "        datadir * \"hapmap3\",\n",
    "        pvalfile = pvalpath,\n",
    "        nullfile = nullpath, \n",
    "        usespa = false));"
   ]
  },
  {
   "cell_type": "code",
   "execution_count": 16,
   "metadata": {},
   "outputs": [],
   "source": [
    "# clean up\n",
    "rm(\"trajgwas.null.txt\", force=true)\n",
    "rm(\"trajgwas.pval.txt\", force=true)"
   ]
  },
  {
   "cell_type": "markdown",
   "metadata": {},
   "source": [
    "## VCF Formatted Files\n",
    "\n",
    "By default, TrajGWAS.jl will assume you are using PLINK files. It also supports VCF (and BGEN) Files. `vcf.gz` files are supported as well. To use vcf files in any of the analysis options detailed in this documentation, you simply need to add two keyword options to the `trajgwas` function:\n",
    "* `geneticformat`: Choices are \"VCF\" or \"PLINK\". If you are using a VCF file, use `geneticformat = \"VCF\"`.\n",
    "* `vcftype`: Choices are :GT (for genotypes) or :DS (for dosages). This tells TrajGWAS which type of data to extract from the VCF file.\n",
    "\n",
    "Using a VCF File does not output minor allele frequency or hardy weinberg equillibrium p-values for each SNP tested since they may be dosages. \n",
    "\n",
    "The following shows how to run an analysis with a VCF file using the dosage information. "
   ]
  },
  {
   "cell_type": "code",
   "execution_count": 17,
   "metadata": {},
   "outputs": [
    {
     "name": "stdout",
     "output_type": "stream",
     "text": [
      "run = 1, ‖Δβ‖ = 0.003459, ‖Δτ‖ = 0.421747, ‖ΔL‖ = 0.002492, status = LOCALLY_SOLVED, time(s) = 0.020257\n",
      "run = 2, ‖Δβ‖ = 0.001369, ‖Δτ‖ = 0.015998, ‖ΔL‖ = 0.003244, status = LOCALLY_SOLVED, time(s) = 0.017106\n"
     ]
    },
    {
     "data": {
      "text/plain": [
       "\n",
       "Within-subject variance estimation by robust regression (WiSER)\n",
       "\n",
       "Mean Formula:\n",
       "y ~ 1 + sex + onMeds\n",
       "Random Effects Formula:\n",
       "y ~ 1\n",
       "Within-Subject Variance Formula:\n",
       "y ~ 1 + sex + onMeds\n",
       "\n",
       "Number of individuals/clusters: 191\n",
       "Total observations: 1910\n",
       "\n",
       "Fixed-effects parameters:\n",
       "────────────────────────────────────────────────────────\n",
       "                  Estimate  Std. Error       Z  Pr(>|Z|)\n",
       "────────────────────────────────────────────────────────\n",
       "β1: (Intercept)  12.1708     0.18351     66.32    <1e-99\n",
       "β2: sex          -3.41012    0.253155   -13.47    <1e-40\n",
       "β3: onMeds        0.485447   0.0701423    6.92    <1e-11\n",
       "τ1: (Intercept)   0.774299   0.0849867    9.11    <1e-19\n",
       "τ2: sex          -0.524117   0.106719    -4.91    <1e-06\n",
       "τ3: onMeds        0.633337   0.0814974    7.77    <1e-14\n",
       "────────────────────────────────────────────────────────\n",
       "Random effects covariance matrix Σγ:\n",
       " \"γ1: (Intercept)\"  2.86452\n",
       "\n"
      ]
     },
     "execution_count": 17,
     "metadata": {},
     "output_type": "execute_result"
    }
   ],
   "source": [
    "trajgwas(@formula(y ~ 1 + sex + onMeds),\n",
    "        @formula(y ~ 1),\n",
    "        @formula(y ~ 1 + sex + onMeds),\n",
    "        :id,\n",
    "        datadir * \"trajgwas_vcfex.csv\",\n",
    "        datadir * \"test_vcf\",\n",
    "        pvalfile = pvalpath,\n",
    "        geneticformat = \"VCF\",\n",
    "        vcftype = :DS)"
   ]
  },
  {
   "cell_type": "code",
   "execution_count": 18,
   "metadata": {},
   "outputs": [
    {
     "name": "stdout",
     "output_type": "stream",
     "text": [
      "|\u001b[1m   chr \u001b[0m|\u001b[1m      pos \u001b[0m|\u001b[1m       snpid \u001b[0m|\u001b[1m  betapval \u001b[0m|\u001b[1m betadir \u001b[0m|\u001b[1m    taupval \u001b[0m|\u001b[1m taudir \u001b[0m|\u001b[1m  jointpval \u001b[0m|\n",
      "|\u001b[90m Int64 \u001b[0m|\u001b[90m    Int64 \u001b[0m|\u001b[90m    String15 \u001b[0m|\u001b[90m   Float64 \u001b[0m|\u001b[90m   Int64 \u001b[0m|\u001b[90m    Float64 \u001b[0m|\u001b[90m  Int64 \u001b[0m|\u001b[90m    Float64 \u001b[0m|\n",
      "|-------|----------|-------------|-----------|---------|------------|--------|------------|\n",
      "|    22 | 20000086 | rs138720731 |  0.322684 |      -1 |    0.61956 |     -1 |   0.424353 |\n",
      "|    22 | 20000146 |  rs73387790 |       1.0 |       0 |        1.0 |      0 |        1.0 |\n",
      "|    22 | 20000199 | rs183293480 |  0.214207 |       1 |   0.190785 |      1 |   0.201819 |\n",
      "|    22 | 20000291 | rs185807825 |  0.292231 |       1 |   0.200029 |      1 |   0.237495 |\n",
      "|    22 | 20000428 |  rs55902548 | 0.0140114 |       1 | 0.00369005 |      1 | 0.00576184 |\n",
      "|    22 | 20000683 | rs142720028 |       1.0 |       0 |        1.0 |      0 |        1.0 |\n",
      "|    22 | 20000771 | rs114690707 |  0.536406 |      -1 |   0.145113 |      1 |    0.22843 |\n",
      "|    22 | 20000793 | rs189842693 |  0.161414 |      -1 |   0.757017 |      1 |   0.266091 |\n"
     ]
    }
   ],
   "source": [
    "pretty_table(first(CSV.read(\"trajgwas.pval.txt\", DataFrame), 8), tf = tf_markdown)"
   ]
  },
  {
   "cell_type": "markdown",
   "metadata": {},
   "source": [
    "## BGEN Formatted Files\n",
    "\n",
    "By default, TrajGWAS.jl will assume you are using PLINK files. It also supports BGEN Files. To use BGEN files in any of the analysis options detailed in this documentation, you simply need to add the following keyword option to the `trajgwas` function:\n",
    "* `geneticformat`: Choices are \"VCF\" or \"PLINK\" or \"BGEN\". If you are using a BGEN file, use `geneticformat = \"BGEN\"`.\n",
    "\n",
    "Using a BGEN File does not output minor allele frequency or hardy weinberg equillibrium p-values for each SNP tested.\n",
    "\n",
    "Some features, such as SNP-set analyses, are only available when there's an indexing `.bgi` file available. Additionally, if the BGEN file does not contain sample information (i.e. sample IDs), then a sample file is necessary and its path can be specified with the `samplepath` keyword. \n",
    "\n",
    "!!! note\n",
    "\n",
    "    BGEN files can contain an optional index file (`.bgi` file) that allows the variants to be specified in order of position. TrajGWAS will automatically look for a file in the same directory as the `BGENFILENAME` with the name `BGENFILENAME.bgi`. The BGEN file is read either in the `.bgi` file order if `BGENFILENAME.bgi` is supplied in the same directory as the BGEN file, otherwise it will use the order in the BGEN file. This is important in analyses specifying `snpinds` as well as annotation groupings. You must make sure this matches the way the BGEN file will be read in. \n",
    "\n",
    "The following shows how to run an analysis with a BGEN file using the dosage information. "
   ]
  },
  {
   "cell_type": "code",
   "execution_count": 19,
   "metadata": {},
   "outputs": [
    {
     "name": "stdout",
     "output_type": "stream",
     "text": [
      "run = 1, ‖Δβ‖ = 0.096578, ‖Δτ‖ = 0.162563, ‖ΔL‖ = 0.007625, status = LOCALLY_SOLVED, time(s) = 0.055072\n",
      "run = 2, ‖Δβ‖ = 0.003173, ‖Δτ‖ = 0.005584, ‖ΔL‖ = 0.001468, status = LOCALLY_SOLVED, time(s) = 0.040037\n"
     ]
    },
    {
     "data": {
      "text/plain": [
       "\n",
       "Within-subject variance estimation by robust regression (WiSER)\n",
       "\n",
       "Mean Formula:\n",
       "y ~ 1 + sex + onMeds\n",
       "Random Effects Formula:\n",
       "y ~ 1\n",
       "Within-Subject Variance Formula:\n",
       "y ~ 1 + sex + onMeds\n",
       "\n",
       "Number of individuals/clusters: 500\n",
       "Total observations: 5000\n",
       "\n",
       "Fixed-effects parameters:\n",
       "────────────────────────────────────────────────────────\n",
       "                  Estimate  Std. Error       Z  Pr(>|Z|)\n",
       "────────────────────────────────────────────────────────\n",
       "β1: (Intercept)  10.5275     0.0992675  106.05    <1e-99\n",
       "β2: sex          -3.38067    0.146416   -23.09    <1e-99\n",
       "β3: onMeds        0.522162   0.0358727   14.56    <1e-47\n",
       "τ1: (Intercept)   0.294364   0.0443191    6.64    <1e-10\n",
       "τ2: sex          -0.365009   0.0503589   -7.25    <1e-12\n",
       "τ3: onMeds        0.559769   0.0467046   11.99    <1e-32\n",
       "────────────────────────────────────────────────────────\n",
       "Random effects covariance matrix Σγ:\n",
       " \"γ1: (Intercept)\"  2.51561\n",
       "\n"
      ]
     },
     "execution_count": 19,
     "metadata": {},
     "output_type": "execute_result"
    }
   ],
   "source": [
    "trajgwas(@formula(y ~ 1 + sex + onMeds),\n",
    "        @formula(y ~ 1),\n",
    "        @formula(y ~ 1 + sex + onMeds),\n",
    "        :id, \n",
    "        datadir * \"trajgwas_bgen_ex.csv\", \n",
    "        datadir * \"example.8bits\", \n",
    "        geneticformat = \"BGEN\", \n",
    "        pvalfile = pvalpath)"
   ]
  },
  {
   "cell_type": "code",
   "execution_count": 20,
   "metadata": {},
   "outputs": [
    {
     "name": "stdout",
     "output_type": "stream",
     "text": [
      "|\u001b[1m   chr \u001b[0m|\u001b[1m   pos \u001b[0m|\u001b[1m    snpid \u001b[0m|\u001b[1m     varid \u001b[0m|\u001b[1m  hwepval \u001b[0m|\u001b[1m      maf \u001b[0m|\u001b[1m infoscore \u001b[0m|\u001b[1m    betapval \u001b[0m|\u001b[1m betadir \u001b[0m|\u001b[1m     taupval \u001b[0m|\u001b[1m taudir \u001b[0m|\u001b[1m   jointpval \u001b[0m|\n",
      "|\u001b[90m Int64 \u001b[0m|\u001b[90m Int64 \u001b[0m|\u001b[90m String15 \u001b[0m|\u001b[90m  String15 \u001b[0m|\u001b[90m  Float64 \u001b[0m|\u001b[90m  Float64 \u001b[0m|\u001b[90m   Float64 \u001b[0m|\u001b[90m     Float64 \u001b[0m|\u001b[90m   Int64 \u001b[0m|\u001b[90m     Float64 \u001b[0m|\u001b[90m  Int64 \u001b[0m|\u001b[90m     Float64 \u001b[0m|\n",
      "|-------|-------|----------|-----------|----------|----------|-----------|-------------|---------|-------------|--------|-------------|\n",
      "|     1 |  1001 | RSID_101 | SNPID_101 |  0.86274 | 0.416977 |  0.984639 |    0.510629 |      -1 |    0.425112 |     -1 |    0.463963 |\n",
      "|     1 |  2000 |   RSID_2 |   SNPID_2 | 0.192181 |  0.19751 |       9.0 |  4.5062e-10 |       1 | 1.40173e-21 |     -1 | 6.67473e-21 |\n",
      "|     1 |  2001 | RSID_102 | SNPID_102 |   0.1844 | 0.197667 |  0.727308 | 4.47847e-10 |      -1 | 1.79121e-21 |      1 | 8.45783e-21 |\n",
      "|     1 |  3000 |   RSID_3 |   SNPID_3 | 0.965354 | 0.483396 |  0.955355 |   0.0721822 |      -1 |    0.600949 |     -1 |    0.128884 |\n",
      "|     1 |  3001 | RSID_103 | SNPID_103 | 0.965354 | 0.483396 |  0.955355 |   0.0721821 |       1 |    0.600949 |      1 |    0.128884 |\n",
      "|     1 |  4000 |   RSID_4 |   SNPID_4 | 0.371927 |  0.21671 |  0.991768 |    0.112472 |      -1 |    0.133752 |     -1 |    0.122192 |\n",
      "|     1 |  4001 | RSID_104 | SNPID_104 | 0.371928 |  0.21671 |  0.991768 |    0.112471 |       1 |    0.133752 |      1 |    0.122192 |\n",
      "|     1 |  5000 |   RSID_5 |   SNPID_5 | 0.587013 | 0.388082 |  0.968258 |    0.526325 |      -1 |    0.542332 |     -1 |    0.534209 |\n"
     ]
    }
   ],
   "source": [
    "pretty_table(first(CSV.read(\"trajgwas.pval.txt\", DataFrame), 8), tf = tf_markdown)"
   ]
  },
  {
   "cell_type": "markdown",
   "metadata": {},
   "source": [
    "## SNP models\n",
    "\n",
    "Genotypes are translated into numeric values according to different genetic model, which is specified by the `snpmodel` keyword. Default is `ADDITIVE_MODEL`.\n",
    "\n",
    "| Genotype | `SnpArray` | `ADDITIVE_MODEL` | `DOMINANT_MODEL` | `RECESSIVE_MODEL` |    \n",
    "|:---:|:---:|:---:|:---:|:---:|  \n",
    "| A1,A1 | 0x00 | 0 | 0 | 0 |  \n",
    "| missing | 0x01 | NaN | NaN | NaN |\n",
    "| A1,A2 | 0x02 | 1 | 1 | 0 |  \n",
    "| A2,A2 | 0x03 | 2 | 1 | 1 |  \n",
    "\n",
    "!!! note\n",
    "\n",
    "    `trajgwas` imputes missing genotypes according to minor allele frequencies. \n",
    "    \n",
    "Users are advised to impute genotypes using more sophiscated methods before GWAS."
   ]
  },
  {
   "cell_type": "markdown",
   "metadata": {},
   "source": [
    "## SNP and/or sample masks\n",
    "\n",
    "In practice, we often perform GWAS on selected SNPs and/or selected samples. They can be specified by the `snpinds`, `covrowinds` and `geneticrowinds` keywords of `trajgwas` function. \n",
    "\n",
    "For example, to perform GWAS on SNPs with minor allele frequency (MAF) above 0.05"
   ]
  },
  {
   "cell_type": "code",
   "execution_count": 21,
   "metadata": {},
   "outputs": [
    {
     "name": "stdout",
     "output_type": "stream",
     "text": [
      "run = 1, ‖Δβ‖ = 0.037090, ‖Δτ‖ = 0.136339, ‖ΔL‖ = 0.005441, status = LOCALLY_SOLVED, time(s) = 0.043349\n",
      "run = 2, ‖Δβ‖ = 0.000913, ‖Δτ‖ = 0.019810, ‖ΔL‖ = 0.001582, status = LOCALLY_SOLVED, time(s) = 0.039752\n",
      "  2.733297 seconds (8.07 M allocations: 492.816 MiB, 5.49% gc time, 65.58% compilation time)\n"
     ]
    },
    {
     "data": {
      "text/plain": [
       "\n",
       "Within-subject variance estimation by robust regression (WiSER)\n",
       "\n",
       "Mean Formula:\n",
       "y ~ 1 + sex + onMeds\n",
       "Random Effects Formula:\n",
       "y ~ 1\n",
       "Within-Subject Variance Formula:\n",
       "y ~ 1 + sex + onMeds\n",
       "\n",
       "Number of individuals/clusters: 324\n",
       "Total observations: 3240\n",
       "\n",
       "Fixed-effects parameters:\n",
       "────────────────────────────────────────────────────────\n",
       "                  Estimate  Std. Error       Z  Pr(>|Z|)\n",
       "────────────────────────────────────────────────────────\n",
       "β1: (Intercept)  13.2282     0.146459    90.32    <1e-99\n",
       "β2: sex          -3.29295    0.2101     -15.67    <1e-54\n",
       "β3: onMeds        0.459585   0.0596002    7.71    <1e-13\n",
       "τ1: (Intercept)   0.792508   0.0850728    9.32    <1e-19\n",
       "τ2: sex          -0.2865     0.0970732   -2.95    0.0032\n",
       "τ3: onMeds        0.422303   0.063825     6.62    <1e-10\n",
       "────────────────────────────────────────────────────────\n",
       "Random effects covariance matrix Σγ:\n",
       " \"γ1: (Intercept)\"  3.32057\n",
       "\n"
      ]
     },
     "execution_count": 21,
     "metadata": {},
     "output_type": "execute_result"
    }
   ],
   "source": [
    "# create SNP mask\n",
    "snpinds = maf(SnpArray(\"../data/hapmap3.bed\")) .≥ 0.05\n",
    "# GWAS on selected SNPs\n",
    "@time trajgwas(@formula(y ~ 1 + sex + onMeds),\n",
    "        @formula(y ~ 1),\n",
    "        @formula(y ~ 1 + sex + onMeds),\n",
    "        :id,\n",
    "        datadir * \"trajgwas_plinkex.csv\",\n",
    "        datadir * \"hapmap3\",\n",
    "        pvalfile = \"commonvariant.pval.txt\",\n",
    "        snpinds = snpinds)"
   ]
  },
  {
   "cell_type": "code",
   "execution_count": 22,
   "metadata": {},
   "outputs": [
    {
     "name": "stdout",
     "output_type": "stream",
     "text": [
      "chr\tpos\tsnpid\tmaf\thwepval\tbetapval\tbetadir\ttaupval\ttaudir\tjointpval\n",
      "1\t758311\trs12562034\t0.07763975155279501\t0.4098763332666681\t0.3893898715952268\t-1\t0.9228220976232073\t-1\t0.5476822137398478\n",
      "1\t967643\trs2710875\t0.32407407407407407\t4.076249100705747e-7\t5.838562452864651e-6\t1\t3.354075049151666e-6\t-1\t4.935983727867445e-7\n",
      "1\t1168108\trs11260566\t0.19158878504672894\t0.1285682279446898\t0.0008508894259509042\t1\t0.05590549977468929\t1\t0.0010182674469333282\n",
      "1\t1375074\trs1312568\t0.441358024691358\t2.5376019650614977e-19\t0.00017168324418138014\t-1\t1.8481146312336014e-13\t1\t2.0709090755361924e-15\n",
      "1\t1990452\trs2678939\t0.4537037037037037\t5.07695957708431e-11\t1.278709529589261e-7\t1\t7.7380891475822e-9\t-1\t3.3986012947082272e-9\n",
      "1\t2194615\trs7553178\t0.22685185185185186\t0.17056143157457776\t0.07404001756940115\t-1\t0.00023109048716816823\t1\t0.00010021413726889922\n",
      "1\t2396747\trs13376356\t0.1448598130841121\t0.9053079215078139\t0.48972088680069503\t-1\t0.6595593862223496\t1\t0.5620909278620404\n",
      "1\t2823603\trs1563468\t0.4830246913580247\t4.23065537243926e-9\t2.581476982676523e-7\t-1\t1.1700736777037956e-8\t1\t6.36797979359385e-8\n",
      "1\t3025087\trs6690373\t0.2538699690402477\t9.238641887192776e-8\t3.111965106232366e-5\t1\t2.0479935907554532e-7\t-1\t2.123094937745341e-5\n"
     ]
    }
   ],
   "source": [
    "run(`head commonvariant.pval.txt`);"
   ]
  },
  {
   "cell_type": "code",
   "execution_count": 23,
   "metadata": {},
   "outputs": [
    {
     "data": {
      "text/plain": [
       "(12086, 12085)"
      ]
     },
     "execution_count": 23,
     "metadata": {},
     "output_type": "execute_result"
    }
   ],
   "source": [
    "# extra header line in commonvariant.pval.txt\n",
    "countlines(\"commonvariant.pval.txt\"), count(snpinds)"
   ]
  },
  {
   "cell_type": "code",
   "execution_count": 24,
   "metadata": {},
   "outputs": [],
   "source": [
    "# clean up\n",
    "rm(\"trajgwas.null.txt\", force=true)\n",
    "rm(\"commonvariant.pval.txt\", force=true)"
   ]
  },
  {
   "cell_type": "markdown",
   "metadata": {},
   "source": [
    "`covrowinds` specify the samples in the covariate file and `geneticrowinds` for PLINK or VCF File. User should be particularly careful when using these two keyword. Selected rows in SnpArray should exactly match the samples in the null model. Otherwise the results are meaningless."
   ]
  },
  {
   "cell_type": "markdown",
   "metadata": {},
   "source": [
    "## Estimating Effect Sizes (Wald)\n",
    "\n",
    "By default, `trajgwas` calculates p-value for each SNP using SPA/score test. Score test is fast because it doesn't require fitting alternative model for each SNP. User can request the Wald p-values and the estimated effect size of each SNP using keyword `test=:wald`. Wald is much slower but will give you estimated effect sizes from the WiSER model."
   ]
  },
  {
   "cell_type": "code",
   "execution_count": 25,
   "metadata": {},
   "outputs": [
    {
     "name": "stdout",
     "output_type": "stream",
     "text": [
      "run = 1, ‖Δβ‖ = 0.037090, ‖Δτ‖ = 0.136339, ‖ΔL‖ = 0.005441, status = LOCALLY_SOLVED, time(s) = 0.051852\n",
      "run = 2, ‖Δβ‖ = 0.000913, ‖Δτ‖ = 0.019810, ‖ΔL‖ = 0.001582, status = LOCALLY_SOLVED, time(s) = 0.042647\n",
      "run = 1, ‖Δβ‖ = 0.033243, ‖Δτ‖ = 0.146511, ‖ΔL‖ = 0.005476, status = LOCALLY_SOLVED, time(s) = 0.052239\n",
      "run = 2, ‖Δβ‖ = 0.005774, ‖Δτ‖ = 0.042246, ‖ΔL‖ = 0.001784, status = LOCALLY_SOLVED, time(s) = 0.048045\n",
      "run = 1, ‖Δβ‖ = 0.013090, ‖Δτ‖ = 0.130781, ‖ΔL‖ = 0.005011, status = LOCALLY_SOLVED, time(s) = 0.057742\n",
      "run = 2, ‖Δβ‖ = 0.003913, ‖Δτ‖ = 0.037309, ‖ΔL‖ = 0.001516, status = LOCALLY_SOLVED, time(s) = 0.052004\n",
      "run = 1, ‖Δβ‖ = 0.022159, ‖Δτ‖ = 0.141135, ‖ΔL‖ = 0.005554, status = LOCALLY_SOLVED, time(s) = 0.048711\n",
      "run = 2, ‖Δβ‖ = 0.001482, ‖Δτ‖ = 0.021700, ‖ΔL‖ = 0.001435, status = LOCALLY_SOLVED, time(s) = 0.044404\n",
      "run = 1, ‖Δβ‖ = 0.026764, ‖Δτ‖ = 0.368620, ‖ΔL‖ = 0.000317, status = LOCALLY_SOLVED, time(s) = 0.047687\n",
      "run = 2, ‖Δβ‖ = 0.003023, ‖Δτ‖ = 0.030938, ‖ΔL‖ = 0.003568, status = LOCALLY_SOLVED, time(s) = 0.043295\n",
      "  4.293410 seconds (7.17 M allocations: 431.003 MiB, 2.57% gc time, 86.00% compilation time)\n"
     ]
    },
    {
     "data": {
      "text/plain": [
       "\n",
       "Within-subject variance estimation by robust regression (WiSER)\n",
       "\n",
       "Mean Formula:\n",
       "y ~ 1 + sex + onMeds\n",
       "Random Effects Formula:\n",
       "y ~ 1\n",
       "Within-Subject Variance Formula:\n",
       "y ~ 1 + sex + onMeds\n",
       "\n",
       "Number of individuals/clusters: 324\n",
       "Total observations: 3240\n",
       "\n",
       "Fixed-effects parameters:\n",
       "────────────────────────────────────────────────────────\n",
       "                  Estimate  Std. Error       Z  Pr(>|Z|)\n",
       "────────────────────────────────────────────────────────\n",
       "β1: (Intercept)  13.2282     0.146459    90.32    <1e-99\n",
       "β2: sex          -3.29295    0.2101     -15.67    <1e-54\n",
       "β3: onMeds        0.459585   0.0596002    7.71    <1e-13\n",
       "τ1: (Intercept)   0.792508   0.0850728    9.32    <1e-19\n",
       "τ2: sex          -0.2865     0.0970732   -2.95    0.0032\n",
       "τ3: onMeds        0.422303   0.063825     6.62    <1e-10\n",
       "────────────────────────────────────────────────────────\n",
       "Random effects covariance matrix Σγ:\n",
       " \"γ1: (Intercept)\"  3.32057\n",
       "\n"
      ]
     },
     "execution_count": 25,
     "metadata": {},
     "output_type": "execute_result"
    }
   ],
   "source": [
    "@time trajgwas(@formula(y ~ 1 + sex + onMeds),\n",
    "        @formula(y ~ 1),\n",
    "        @formula(y ~ 1 + sex + onMeds),\n",
    "        :id,\n",
    "        datadir * \"trajgwas_plinkex.csv\",\n",
    "        datadir * \"hapmap3\",\n",
    "        pvalfile = \"wald.pval.txt\",\n",
    "        snpinds = 1:5,\n",
    "        test = :wald)"
   ]
  },
  {
   "cell_type": "markdown",
   "metadata": {},
   "source": [
    "Note the extra `effect` column in pvalfile, which is the effect size (regression coefficient) for each SNP. "
   ]
  },
  {
   "cell_type": "code",
   "execution_count": 26,
   "metadata": {},
   "outputs": [
    {
     "name": "stdout",
     "output_type": "stream",
     "text": [
      "chr\tpos\tsnpid\tmaf\thwepval\tbetaeffect\tbetapval\ttaueffect\ttaupval\n",
      "1\t554484\trs10458597\t0.0\t1.0\t0.0\t1.0\t0.0\t1.0\n",
      "1\t758311\trs12562034\t0.07763975155279501\t0.4098763332666681\t-0.231072479332816\t0.3929844692486013\t0.01340575997086949\t0.9216488777690096\n",
      "1\t967643\trs2710875\t0.32407407407407407\t4.076249100705747e-7\t0.6406954913590558\t8.824209286611495e-7\t-0.34763283794106525\t1.0836367479719384e-11\n",
      "1\t1168108\trs11260566\t0.19158878504672894\t0.1285682279446898\t0.6188250819875118\t0.0002537468407208455\t-0.14748437551458396\t0.0502802758129169\n",
      "1\t1375074\trs1312568\t0.441358024691358\t2.5376019650614977e-19\t-0.4560323801786057\t0.00016592110001810087\t0.4964521486169327\t1.177346561221082e-36\n"
     ]
    }
   ],
   "source": [
    "run(`head wald.pval.txt`);"
   ]
  },
  {
   "cell_type": "code",
   "execution_count": 27,
   "metadata": {},
   "outputs": [],
   "source": [
    "# clean up\n",
    "rm(\"wald.pval.txt\", force=true)\n",
    "rm(\"trajgwas.null.txt\", force=true)"
   ]
  },
  {
   "cell_type": "markdown",
   "metadata": {},
   "source": [
    "## Score test for screening, Wald for effect size estimates \n",
    "\n",
    "For large data sets, a practical solution is to perform the score test first across all SNPs, then re-do Wald for the most promising SNPs according to score test p-values in order to get estimated effect sizes.\n",
    "\n",
    "**Step 1**: Perform score test GWAS, results in `score.pval.txt`."
   ]
  },
  {
   "cell_type": "code",
   "execution_count": 28,
   "metadata": {},
   "outputs": [
    {
     "name": "stdout",
     "output_type": "stream",
     "text": [
      "run = 1, ‖Δβ‖ = 0.037090, ‖Δτ‖ = 0.136339, ‖ΔL‖ = 0.005441, status = LOCALLY_SOLVED, time(s) = 0.044256\n",
      "run = 2, ‖Δβ‖ = 0.000913, ‖Δτ‖ = 0.019810, ‖ΔL‖ = 0.001582, status = LOCALLY_SOLVED, time(s) = 0.041231\n",
      "  1.121874 seconds (4.00 M allocations: 259.048 MiB, 13.18% gc time)\n"
     ]
    },
    {
     "data": {
      "text/plain": [
       "\n",
       "Within-subject variance estimation by robust regression (WiSER)\n",
       "\n",
       "Mean Formula:\n",
       "y ~ 1 + sex + onMeds\n",
       "Random Effects Formula:\n",
       "y ~ 1\n",
       "Within-Subject Variance Formula:\n",
       "y ~ 1 + sex + onMeds\n",
       "\n",
       "Number of individuals/clusters: 324\n",
       "Total observations: 3240\n",
       "\n",
       "Fixed-effects parameters:\n",
       "────────────────────────────────────────────────────────\n",
       "                  Estimate  Std. Error       Z  Pr(>|Z|)\n",
       "────────────────────────────────────────────────────────\n",
       "β1: (Intercept)  13.2282     0.146459    90.32    <1e-99\n",
       "β2: sex          -3.29295    0.2101     -15.67    <1e-54\n",
       "β3: onMeds        0.459585   0.0596002    7.71    <1e-13\n",
       "τ1: (Intercept)   0.792508   0.0850728    9.32    <1e-19\n",
       "τ2: sex          -0.2865     0.0970732   -2.95    0.0032\n",
       "τ3: onMeds        0.422303   0.063825     6.62    <1e-10\n",
       "────────────────────────────────────────────────────────\n",
       "Random effects covariance matrix Σγ:\n",
       " \"γ1: (Intercept)\"  3.32057\n",
       "\n"
      ]
     },
     "execution_count": 28,
     "metadata": {},
     "output_type": "execute_result"
    }
   ],
   "source": [
    "@time trajgwas(@formula(y ~ 1 + sex + onMeds),\n",
    "        @formula(y ~ 1),\n",
    "        @formula(y ~ 1 + sex + onMeds),\n",
    "        :id,\n",
    "        datadir * \"trajgwas_plinkex.csv\",\n",
    "        datadir * \"hapmap3\",\n",
    "        pvalfile = \"score.pval.txt\")"
   ]
  },
  {
   "cell_type": "code",
   "execution_count": 29,
   "metadata": {},
   "outputs": [
    {
     "name": "stdout",
     "output_type": "stream",
     "text": [
      "|\u001b[1m   chr \u001b[0m|\u001b[1m     pos \u001b[0m|\u001b[1m      snpid \u001b[0m|\u001b[1m        maf \u001b[0m|\u001b[1m     hwepval \u001b[0m|\u001b[1m    betapval \u001b[0m|\u001b[1m betadir \u001b[0m|\u001b[1m     taupval \u001b[0m|\u001b[1m taudir \u001b[0m|\u001b[1m   jointpval \u001b[0m|\n",
      "|\u001b[90m Int64 \u001b[0m|\u001b[90m   Int64 \u001b[0m|\u001b[90m   String31 \u001b[0m|\u001b[90m    Float64 \u001b[0m|\u001b[90m     Float64 \u001b[0m|\u001b[90m     Float64 \u001b[0m|\u001b[90m   Int64 \u001b[0m|\u001b[90m     Float64 \u001b[0m|\u001b[90m  Int64 \u001b[0m|\u001b[90m     Float64 \u001b[0m|\n",
      "|-------|---------|------------|------------|-------------|-------------|---------|-------------|--------|-------------|\n",
      "|     1 |  554484 | rs10458597 |        0.0 |         1.0 |         1.0 |       0 |         1.0 |      0 |         1.0 |\n",
      "|     1 |  758311 | rs12562034 |  0.0776398 |    0.409876 |     0.38939 |      -1 |    0.922822 |     -1 |    0.547682 |\n",
      "|     1 |  967643 |  rs2710875 |   0.324074 |  4.07625e-7 |  5.83856e-6 |       1 |  3.35408e-6 |     -1 |  4.93598e-7 |\n",
      "|     1 | 1168108 | rs11260566 |   0.191589 |    0.128568 | 0.000850889 |       1 |   0.0559055 |      1 |  0.00101827 |\n",
      "|     1 | 1375074 |  rs1312568 |   0.441358 |  2.5376e-19 | 0.000171683 |      -1 | 1.84811e-13 |      1 | 2.07091e-15 |\n",
      "|     1 | 1588771 | rs35154105 |        0.0 |         1.0 |         1.0 |       0 |         1.0 |      0 |         1.0 |\n",
      "|     1 | 1789051 | rs16824508 | 0.00462963 |    0.933278 |    0.295035 |       1 |    0.304109 |      1 |    0.299504 |\n",
      "|     1 | 1990452 |  rs2678939 |   0.453704 | 5.07696e-11 |  1.27871e-7 |       1 |  7.73809e-9 |     -1 |   3.3986e-9 |\n"
     ]
    }
   ],
   "source": [
    "pretty_table(first(CSV.read(\"score.pval.txt\", DataFrame), 8), tf = tf_markdown)"
   ]
  },
  {
   "cell_type": "markdown",
   "metadata": {},
   "source": [
    "**Step 2**: Sort score test p-values and find top 10 SNPs."
   ]
  },
  {
   "cell_type": "code",
   "execution_count": 30,
   "metadata": {},
   "outputs": [
    {
     "data": {
      "text/plain": [
       "10-element Vector{Float64}:\n",
       " 7.872202557706978e-17\n",
       " 1.8481146312336014e-13\n",
       " 1.497868141369434e-12\n",
       " 9.730062616490452e-12\n",
       " 1.2892059340654512e-11\n",
       " 1.4844638660225815e-11\n",
       " 1.5167114834215392e-11\n",
       " 1.8761256218261456e-11\n",
       " 2.3491352960094672e-11\n",
       " 2.6075629334507108e-11"
      ]
     },
     "execution_count": 30,
     "metadata": {},
     "output_type": "execute_result"
    }
   ],
   "source": [
    "scorepvals = CSV.read(\"score.pval.txt\", DataFrame)[!, :taupval] # tau p-values \n",
    "tophits = sortperm(scorepvals)[1:10] # indices of 10 SNPs with smallest p-values\n",
    "scorepvals[tophits] # smallest 10 p-values"
   ]
  },
  {
   "cell_type": "markdown",
   "metadata": {},
   "source": [
    "**Step 3**: Re-do LRT on top hits."
   ]
  },
  {
   "cell_type": "code",
   "execution_count": 31,
   "metadata": {},
   "outputs": [
    {
     "name": "stdout",
     "output_type": "stream",
     "text": [
      "run = 1, ‖Δβ‖ = 0.037090, ‖Δτ‖ = 0.136339, ‖ΔL‖ = 0.005441, status = LOCALLY_SOLVED, time(s) = 0.043852\n",
      "run = 2, ‖Δβ‖ = 0.000913, ‖Δτ‖ = 0.019810, ‖ΔL‖ = 0.001582, status = LOCALLY_SOLVED, time(s) = 0.038897\n",
      "run = 1, ‖Δβ‖ = 0.026764, ‖Δτ‖ = 0.368620, ‖ΔL‖ = 0.000317, status = LOCALLY_SOLVED, time(s) = 0.051141\n",
      "run = 2, ‖Δβ‖ = 0.003023, ‖Δτ‖ = 0.030938, ‖ΔL‖ = 0.003568, status = LOCALLY_SOLVED, time(s) = 0.045226\n",
      "run = 1, ‖Δβ‖ = 0.039946, ‖Δτ‖ = 0.185049, ‖ΔL‖ = 0.005690, status = LOCALLY_SOLVED, time(s) = 0.047814\n",
      "run = 2, ‖Δβ‖ = 0.001640, ‖Δτ‖ = 0.029639, ‖ΔL‖ = 0.002028, status = LOCALLY_SOLVED, time(s) = 0.047543\n",
      "run = 1, ‖Δβ‖ = 0.040207, ‖Δτ‖ = 0.407863, ‖ΔL‖ = 0.001924, status = LOCALLY_SOLVED, time(s) = 0.049603\n",
      "run = 2, ‖Δβ‖ = 0.002632, ‖Δτ‖ = 0.039609, ‖ΔL‖ = 0.005131, status = LOCALLY_SOLVED, time(s) = 0.049566\n",
      "run = 1, ‖Δβ‖ = 0.052372, ‖Δτ‖ = 0.828946, ‖ΔL‖ = 0.001277, status = LOCALLY_SOLVED, time(s) = 0.061910\n",
      "run = 2, ‖Δβ‖ = 0.013694, ‖Δτ‖ = 0.185493, ‖ΔL‖ = 0.007118, status = LOCALLY_SOLVED, time(s) = 0.052748\n",
      "run = 1, ‖Δβ‖ = 0.032435, ‖Δτ‖ = 0.199659, ‖ΔL‖ = 0.004973, status = LOCALLY_SOLVED, time(s) = 0.049459\n",
      "run = 2, ‖Δβ‖ = 0.002847, ‖Δτ‖ = 0.032438, ‖ΔL‖ = 0.002941, status = LOCALLY_SOLVED, time(s) = 0.048901\n",
      "run = 1, ‖Δβ‖ = 0.009362, ‖Δτ‖ = 0.625969, ‖ΔL‖ = 0.002237, status = LOCALLY_SOLVED, time(s) = 0.061187\n",
      "run = 2, ‖Δβ‖ = 0.005893, ‖Δτ‖ = 0.176417, ‖ΔL‖ = 0.005017, status = LOCALLY_SOLVED, time(s) = 0.052250\n",
      "run = 1, ‖Δβ‖ = 0.012805, ‖Δτ‖ = 0.243313, ‖ΔL‖ = 0.006289, status = LOCALLY_SOLVED, time(s) = 0.051522\n",
      "run = 2, ‖Δβ‖ = 0.002636, ‖Δτ‖ = 0.044210, ‖ΔL‖ = 0.003312, status = LOCALLY_SOLVED, time(s) = 0.053374\n",
      "run = 1, ‖Δβ‖ = 0.014062, ‖Δτ‖ = 0.225841, ‖ΔL‖ = 0.003899, status = LOCALLY_SOLVED, time(s) = 0.054011\n",
      "run = 2, ‖Δβ‖ = 0.002112, ‖Δτ‖ = 0.030955, ‖ΔL‖ = 0.003860, status = LOCALLY_SOLVED, time(s) = 0.053688\n",
      "run = 1, ‖Δβ‖ = 0.026425, ‖Δτ‖ = 0.258805, ‖ΔL‖ = 0.004204, status = LOCALLY_SOLVED, time(s) = 0.051707\n",
      "run = 2, ‖Δβ‖ = 0.001090, ‖Δτ‖ = 0.051281, ‖ΔL‖ = 0.003822, status = LOCALLY_SOLVED, time(s) = 0.054497\n",
      "run = 1, ‖Δβ‖ = 0.035737, ‖Δτ‖ = 0.174702, ‖ΔL‖ = 0.001439, status = LOCALLY_SOLVED, time(s) = 0.053476\n",
      "run = 2, ‖Δβ‖ = 0.004776, ‖Δτ‖ = 0.019790, ‖ΔL‖ = 0.001867, status = LOCALLY_SOLVED, time(s) = 0.051735\n",
      "  3.154140 seconds (5.48 M allocations: 365.218 MiB, 3.34% gc time, 58.54% compilation time)\n"
     ]
    },
    {
     "data": {
      "text/plain": [
       "\n",
       "Within-subject variance estimation by robust regression (WiSER)\n",
       "\n",
       "Mean Formula:\n",
       "y ~ 1 + sex + onMeds\n",
       "Random Effects Formula:\n",
       "y ~ 1\n",
       "Within-Subject Variance Formula:\n",
       "y ~ 1 + sex + onMeds\n",
       "\n",
       "Number of individuals/clusters: 324\n",
       "Total observations: 3240\n",
       "\n",
       "Fixed-effects parameters:\n",
       "────────────────────────────────────────────────────────\n",
       "                  Estimate  Std. Error       Z  Pr(>|Z|)\n",
       "────────────────────────────────────────────────────────\n",
       "β1: (Intercept)  13.2282     0.146459    90.32    <1e-99\n",
       "β2: sex          -3.29295    0.2101     -15.67    <1e-54\n",
       "β3: onMeds        0.459585   0.0596002    7.71    <1e-13\n",
       "τ1: (Intercept)   0.792508   0.0850728    9.32    <1e-19\n",
       "τ2: sex          -0.2865     0.0970732   -2.95    0.0032\n",
       "τ3: onMeds        0.422303   0.063825     6.62    <1e-10\n",
       "────────────────────────────────────────────────────────\n",
       "Random effects covariance matrix Σγ:\n",
       " \"γ1: (Intercept)\"  3.32057\n",
       "\n"
      ]
     },
     "execution_count": 31,
     "metadata": {},
     "output_type": "execute_result"
    }
   ],
   "source": [
    "@time trajgwas(@formula(y ~ 1 + sex + onMeds),\n",
    "        @formula(y ~ 1),\n",
    "        @formula(y ~ 1 + sex + onMeds),\n",
    "        :id,\n",
    "        datadir * \"trajgwas_plinkex.csv\",\n",
    "        datadir * \"hapmap3\",\n",
    "        pvalfile = \"wald.pval.txt\",\n",
    "        snpinds = tophits,\n",
    "        test = :wald)"
   ]
  },
  {
   "cell_type": "code",
   "execution_count": 32,
   "metadata": {},
   "outputs": [
    {
     "name": "stdout",
     "output_type": "stream",
     "text": [
      "|\u001b[1m   chr \u001b[0m|\u001b[1m       pos \u001b[0m|\u001b[1m     snpid \u001b[0m|\u001b[1m      maf \u001b[0m|\u001b[1m     hwepval \u001b[0m|\u001b[1m betaeffect \u001b[0m|\u001b[1m    betapval \u001b[0m|\u001b[1m taueffect \u001b[0m|\u001b[1m     taupval \u001b[0m|\n",
      "|\u001b[90m Int64 \u001b[0m|\u001b[90m     Int64 \u001b[0m|\u001b[90m  String15 \u001b[0m|\u001b[90m  Float64 \u001b[0m|\u001b[90m     Float64 \u001b[0m|\u001b[90m    Float64 \u001b[0m|\u001b[90m     Float64 \u001b[0m|\u001b[90m   Float64 \u001b[0m|\u001b[90m     Float64 \u001b[0m|\n",
      "|-------|-----------|-----------|----------|-------------|------------|-------------|-----------|-------------|\n",
      "|     1 |   1375074 | rs1312568 | 0.441358 |  2.5376e-19 |  -0.456032 | 0.000165921 |  0.496452 | 1.17735e-36 |\n",
      "|     1 |  11552817 | rs2745282 | 0.421053 |  1.3537e-14 |   -0.67282 |   7.6492e-9 |  0.425653 | 1.45395e-19 |\n",
      "|     1 | 120276030 | rs6688004 | 0.469136 | 1.75473e-27 |  -0.637817 |  5.13062e-9 |  0.430562 | 6.07457e-21 |\n",
      "|     2 | 135623558 | rs6730157 | 0.313272 | 7.76753e-16 |  -0.556166 |  1.10163e-5 |  0.462346 | 2.88628e-20 |\n",
      "|     9 | 126307510 | rs3814134 | 0.427469 | 4.28276e-33 |   0.723472 | 1.41601e-11 | -0.518216 | 4.75338e-39 |\n",
      "|    15 |  40603025 | rs2617236 | 0.390966 | 1.16466e-14 |  -0.644375 |  1.44948e-7 |  0.445647 | 9.43451e-19 |\n",
      "|    15 |  40803767 | rs3742988 |  0.42284 | 4.26181e-30 |  -0.796743 | 2.24785e-13 |  0.389234 | 7.09349e-17 |\n",
      "|    17 |  56509992 | rs8064681 | 0.481481 | 1.37485e-21 |   -0.58961 |   1.9256e-7 |  0.425417 | 5.60171e-25 |\n",
      "|    17 |  71293786 | rs2125345 | 0.339009 | 1.75527e-14 |  -0.635669 |  1.82739e-7 |  0.449612 |  1.7146e-21 |\n",
      "|    23 |  64815688 | rs5964999 | 0.475078 | 3.63212e-56 |    0.75886 | 5.04109e-14 |  -0.38849 | 5.39098e-23 |\n"
     ]
    }
   ],
   "source": [
    "pretty_table(CSV.read(\"wald.pval.txt\", DataFrame), tf = tf_markdown)"
   ]
  },
  {
   "cell_type": "code",
   "execution_count": 33,
   "metadata": {},
   "outputs": [],
   "source": [
    "# clean up\n",
    "rm(\"trajgwas.null.txt\", force=true)\n",
    "rm(\"trajgwas.pval.txt\", force=true)\n",
    "rm(\"score.pval.txt\", force=true)\n",
    "rm(\"wald.pval.txt\", force=true)"
   ]
  },
  {
   "cell_type": "markdown",
   "metadata": {},
   "source": [
    "## GxE or other interactions\n",
    "\n",
    "### Testing jointly G + GxE \n",
    "\n",
    "In many applications, we want to test SNP effect and/or its interaction with other terms. `testformula` keyword specifies the test unit **besides** the covariates in `nullformula`. \n",
    "\n",
    "In following example, keyword `testformula=@formula(trait ~ snp + snp & sex)` instructs `trajgwas` to test joint effect of `snp` and `snp & sex` interaction."
   ]
  },
  {
   "cell_type": "code",
   "execution_count": 34,
   "metadata": {},
   "outputs": [
    {
     "name": "stdout",
     "output_type": "stream",
     "text": [
      "run = 1, ‖Δβ‖ = 0.037090, ‖Δτ‖ = 0.136339, ‖ΔL‖ = 0.005441, status = LOCALLY_SOLVED, time(s) = 0.046905\n",
      "run = 2, ‖Δβ‖ = 0.000913, ‖Δτ‖ = 0.019810, ‖ΔL‖ = 0.001582, status = LOCALLY_SOLVED, time(s) = 0.043433\n"
     ]
    },
    {
     "data": {
      "text/plain": [
       "\n",
       "Within-subject variance estimation by robust regression (WiSER)\n",
       "\n",
       "Mean Formula:\n",
       "y ~ 1 + sex + onMeds\n",
       "Random Effects Formula:\n",
       "y ~ 1\n",
       "Within-Subject Variance Formula:\n",
       "y ~ 1 + sex + onMeds\n",
       "\n",
       "Number of individuals/clusters: 324\n",
       "Total observations: 3240\n",
       "\n",
       "Fixed-effects parameters:\n",
       "────────────────────────────────────────────────────────\n",
       "                  Estimate  Std. Error       Z  Pr(>|Z|)\n",
       "────────────────────────────────────────────────────────\n",
       "β1: (Intercept)  13.2282     0.146459    90.32    <1e-99\n",
       "β2: sex          -3.29295    0.2101     -15.67    <1e-54\n",
       "β3: onMeds        0.459585   0.0596002    7.71    <1e-13\n",
       "τ1: (Intercept)   0.792508   0.0850728    9.32    <1e-19\n",
       "τ2: sex          -0.2865     0.0970732   -2.95    0.0032\n",
       "τ3: onMeds        0.422303   0.063825     6.62    <1e-10\n",
       "────────────────────────────────────────────────────────\n",
       "Random effects covariance matrix Σγ:\n",
       " \"γ1: (Intercept)\"  3.32057\n",
       "\n"
      ]
     },
     "execution_count": 34,
     "metadata": {},
     "output_type": "execute_result"
    }
   ],
   "source": [
    "trajgwas(@formula(y ~ 1 + sex + onMeds),\n",
    "        @formula(y ~ 1),\n",
    "        @formula(y ~ 1 + sex + onMeds),\n",
    "        :id,\n",
    "        datadir * \"trajgwas_plinkex.csv\",\n",
    "        datadir * \"hapmap3\",\n",
    "        pvalfile = \"GxE.pval.txt\",\n",
    "        testformula=@formula(trait ~ snp + snp & sex))"
   ]
  },
  {
   "cell_type": "code",
   "execution_count": 35,
   "metadata": {},
   "outputs": [
    {
     "name": "stdout",
     "output_type": "stream",
     "text": [
      "|\u001b[1m   chr \u001b[0m|\u001b[1m     pos \u001b[0m|\u001b[1m      snpid \u001b[0m|\u001b[1m       maf \u001b[0m|\u001b[1m    hwepval \u001b[0m|\u001b[1m    betapval \u001b[0m|\u001b[1m     taupval \u001b[0m|\u001b[1m   jointpval \u001b[0m|\n",
      "|\u001b[90m Int64 \u001b[0m|\u001b[90m   Int64 \u001b[0m|\u001b[90m   String31 \u001b[0m|\u001b[90m   Float64 \u001b[0m|\u001b[90m    Float64 \u001b[0m|\u001b[90m     Float64 \u001b[0m|\u001b[90m     Float64 \u001b[0m|\u001b[90m     Float64 \u001b[0m|\n",
      "|-------|---------|------------|-----------|------------|-------------|-------------|-------------|\n",
      "|     1 |  554484 | rs10458597 |       0.0 |        1.0 |         1.0 |         1.0 |         1.0 |\n",
      "|     1 |  758311 | rs12562034 | 0.0776398 |   0.409876 |       0.383 |     0.33511 |    0.357458 |\n",
      "|     1 |  967643 |  rs2710875 |  0.324074 | 4.07625e-7 |  9.98217e-6 |  5.73202e-7 |  1.08415e-6 |\n",
      "|     1 | 1168108 | rs11260566 |  0.191589 |   0.128568 |  0.00225789 |    0.105482 |  0.00442114 |\n",
      "|     1 | 1375074 |  rs1312568 |  0.441358 | 2.5376e-19 | 0.000928728 | 3.48807e-15 | 6.97615e-15 |\n"
     ]
    }
   ],
   "source": [
    "pretty_table(first(CSV.read(\"GxE.pval.txt\", DataFrame), 5), tf = tf_markdown)"
   ]
  },
  {
   "cell_type": "code",
   "execution_count": 36,
   "metadata": {},
   "outputs": [],
   "source": [
    "# clean up\n",
    "rm(\"trajgwas.null.txt\", force=true)\n",
    "rm(\"GxE.pval.txt\",  force=true)"
   ]
  },
  {
   "cell_type": "markdown",
   "metadata": {},
   "source": [
    "### Testing only GxE interaction term\n",
    "\n",
    "For some applications, the user may want to simply test the GxE interaction effect. This requires fitting the SNP in the null model and is much slower, but the command `trajgwas()` with keyword `analysistype = \"gxe\"` can be used test the interaction effect.\n",
    "The environmental variable must be specified in the command using the keyword argument `e`, either as a symbol, such as `:age` or as a string `\"age\"`. "
   ]
  },
  {
   "cell_type": "code",
   "execution_count": 37,
   "metadata": {},
   "outputs": [
    {
     "name": "stdout",
     "output_type": "stream",
     "text": [
      "run = 1, ‖Δβ‖ = 0.037090, ‖Δτ‖ = 0.136339, ‖ΔL‖ = 0.005441, status = LOCALLY_SOLVED, time(s) = 0.045341\n",
      "run = 2, ‖Δβ‖ = 0.000913, ‖Δτ‖ = 0.019810, ‖ΔL‖ = 0.001582, status = LOCALLY_SOLVED, time(s) = 0.040165\n",
      "run = 1, ‖Δβ‖ = 0.480377, ‖Δτ‖ = 0.023510, ‖ΔL‖ = 0.001822, status = LOCALLY_SOLVED, time(s) = 0.045323\n",
      "run = 2, ‖Δβ‖ = 0.000323, ‖Δτ‖ = 0.002136, ‖ΔL‖ = 0.000025, status = LOCALLY_SOLVED, time(s) = 0.044147\n",
      "run = 1, ‖Δβ‖ = 1.059989, ‖Δτ‖ = 0.458239, ‖ΔL‖ = 0.063093, status = LOCALLY_SOLVED, time(s) = 0.060090\n",
      "run = 2, ‖Δβ‖ = 0.009118, ‖Δτ‖ = 0.105352, ‖ΔL‖ = 0.000056, status = LOCALLY_SOLVED, time(s) = 0.056690\n",
      "run = 1, ‖Δβ‖ = 1.144781, ‖Δτ‖ = 0.251459, ‖ΔL‖ = 0.034318, status = LOCALLY_SOLVED, time(s) = 0.047379\n",
      "run = 2, ‖Δβ‖ = 0.000830, ‖Δτ‖ = 0.025631, ‖ΔL‖ = 0.000042, status = LOCALLY_SOLVED, time(s) = 0.043087\n",
      "run = 1, ‖Δβ‖ = 0.683108, ‖Δτ‖ = 0.773919, ‖ΔL‖ = 0.042397, status = LOCALLY_SOLVED, time(s) = 0.044666\n",
      "run = 2, ‖Δβ‖ = 0.008159, ‖Δτ‖ = 0.069178, ‖ΔL‖ = 0.003574, status = LOCALLY_SOLVED, time(s) = 0.047489\n"
     ]
    },
    {
     "data": {
      "text/plain": [
       "\n",
       "Within-subject variance estimation by robust regression (WiSER)\n",
       "\n",
       "Mean Formula:\n",
       "y ~ 1 + sex + onMeds\n",
       "Random Effects Formula:\n",
       "y ~ 1\n",
       "Within-Subject Variance Formula:\n",
       "y ~ 1 + sex + onMeds\n",
       "\n",
       "Number of individuals/clusters: 324\n",
       "Total observations: 3240\n",
       "\n",
       "Fixed-effects parameters:\n",
       "────────────────────────────────────────────────────────\n",
       "                  Estimate  Std. Error       Z  Pr(>|Z|)\n",
       "────────────────────────────────────────────────────────\n",
       "β1: (Intercept)  13.2282     0.146459    90.32    <1e-99\n",
       "β2: sex          -3.29295    0.2101     -15.67    <1e-54\n",
       "β3: onMeds        0.459585   0.0596002    7.71    <1e-13\n",
       "τ1: (Intercept)   0.792508   0.0850728    9.32    <1e-19\n",
       "τ2: sex          -0.2865     0.0970732   -2.95    0.0032\n",
       "τ3: onMeds        0.422303   0.063825     6.62    <1e-10\n",
       "────────────────────────────────────────────────────────\n",
       "Random effects covariance matrix Σγ:\n",
       " \"γ1: (Intercept)\"  3.32057\n",
       "\n"
      ]
     },
     "execution_count": 37,
     "metadata": {},
     "output_type": "execute_result"
    }
   ],
   "source": [
    "trajgwas(@formula(y ~ 1 + sex + onMeds),\n",
    "        @formula(y ~ 1),\n",
    "        @formula(y ~ 1 + sex + onMeds),\n",
    "        :id,\n",
    "        datadir * \"trajgwas_plinkex.csv\",\n",
    "        datadir * \"hapmap3\",\n",
    "        pvalfile = \"gxe_snp.pval.txt\", \n",
    "        analysistype = \"gxe\",\n",
    "        e = :sex, \n",
    "        snpinds=1:5)\n"
   ]
  },
  {
   "cell_type": "code",
   "execution_count": 38,
   "metadata": {},
   "outputs": [
    {
     "name": "stdout",
     "output_type": "stream",
     "text": [
      "|\u001b[1m   chr \u001b[0m|\u001b[1m     pos \u001b[0m|\u001b[1m      snpid \u001b[0m|\u001b[1m       maf \u001b[0m|\u001b[1m    hwepval \u001b[0m|\u001b[1m snpeffectnullbeta \u001b[0m|\u001b[1m snpeffectnulltau \u001b[0m|\u001b[1m betapval \u001b[0m|\u001b[1m  taupval \u001b[0m|\n",
      "|\u001b[90m Int64 \u001b[0m|\u001b[90m   Int64 \u001b[0m|\u001b[90m   String15 \u001b[0m|\u001b[90m   Float64 \u001b[0m|\u001b[90m    Float64 \u001b[0m|\u001b[90m           Float64 \u001b[0m|\u001b[90m          Float64 \u001b[0m|\u001b[90m  Float64 \u001b[0m|\u001b[90m  Float64 \u001b[0m|\n",
      "|-------|---------|------------|-----------|------------|-------------------|------------------|----------|----------|\n",
      "|     1 |  554484 | rs10458597 |       0.0 |        1.0 |               0.0 |              0.0 |      1.0 |      1.0 |\n",
      "|     1 |  758311 | rs12562034 | 0.0776398 |   0.409876 |         -0.230593 |        0.0102355 | 0.448376 | 0.149797 |\n",
      "|     1 |  967643 |  rs2710875 |  0.324074 | 4.07625e-7 |          0.639871 |        -0.338815 | 0.293876 | 0.119916 |\n",
      "|     1 | 1168108 | rs11260566 |  0.191589 |   0.128568 |          0.618855 |        -0.146819 | 0.590189 | 0.262791 |\n",
      "|     1 | 1375074 |  rs1312568 |  0.441358 | 2.5376e-19 |         -0.456003 |         0.492582 | 0.574737 | 0.250501 |\n"
     ]
    }
   ],
   "source": [
    "pretty_table(CSV.read(\"gxe_snp.pval.txt\", DataFrame), tf = tf_markdown)"
   ]
  },
  {
   "cell_type": "code",
   "execution_count": 39,
   "metadata": {},
   "outputs": [],
   "source": [
    "# clean up\n",
    "rm(\"trajgwas.null.txt\", force=true)\n",
    "rm(\"gxe_snp.pval.txt\", force=true)"
   ]
  },
  {
   "cell_type": "markdown",
   "metadata": {},
   "source": [
    "## SNP-set testing\n",
    "\n",
    "In many applications, we want to test a SNP-set. The function with keyword `analysistype = \"snpset\"` can be used to do this. To specify the type of snpset test, use the `snpset` keyword argument. \n",
    "\n",
    "The snpset can be specified as either:\n",
    "- a window (test every X snps) => `snpset = X`\n",
    "- an annotated file.  This requires `snpset = filename` where filename is an input file, with no header and two columns separated by a space. The first column must contain the snpset ID and the second column must contain the snpid's (rsid) identical to the bimfile, or in the case of a BGEN format, the order the data will be read (see BGEN above for more details).\n",
    "- a joint test on only a specific set of snps. `snpset = AbstractVector` where the vector specifies the snps you want to perform one joint snpset test for. The vector can either be a vector of integers where the elements are the indicies of the SNPs to test, a vector of booleans, where true represents that you want to select that SNP index, or a range indicating the indicies of the SNPs to test. \n",
    "\n",
    "SNPset testing is currently only implemented for the score test (not Wald). "
   ]
  },
  {
   "cell_type": "markdown",
   "metadata": {},
   "source": [
    "In the following example, we perform a SNP-set test on the 50th to 55th snps. "
   ]
  },
  {
   "cell_type": "code",
   "execution_count": 40,
   "metadata": {},
   "outputs": [
    {
     "name": "stdout",
     "output_type": "stream",
     "text": [
      "run = 1, ‖Δβ‖ = 0.037090, ‖Δτ‖ = 0.136339, ‖ΔL‖ = 0.005441, status = LOCALLY_SOLVED, time(s) = 0.043069\n",
      "run = 2, ‖Δβ‖ = 0.000913, ‖Δτ‖ = 0.019810, ‖ΔL‖ = 0.001582, status = LOCALLY_SOLVED, time(s) = 0.040745\n"
     ]
    },
    {
     "data": {
      "text/plain": [
       "\n",
       "Within-subject variance estimation by robust regression (WiSER)\n",
       "\n",
       "Mean Formula:\n",
       "y ~ 1 + sex + onMeds\n",
       "Random Effects Formula:\n",
       "y ~ 1\n",
       "Within-Subject Variance Formula:\n",
       "y ~ 1 + sex + onMeds\n",
       "\n",
       "Number of individuals/clusters: 324\n",
       "Total observations: 3240\n",
       "\n",
       "Fixed-effects parameters:\n",
       "────────────────────────────────────────────────────────\n",
       "                  Estimate  Std. Error       Z  Pr(>|Z|)\n",
       "────────────────────────────────────────────────────────\n",
       "β1: (Intercept)  13.2282     0.146459    90.32    <1e-99\n",
       "β2: sex          -3.29295    0.2101     -15.67    <1e-54\n",
       "β3: onMeds        0.459585   0.0596002    7.71    <1e-13\n",
       "τ1: (Intercept)   0.792508   0.0850728    9.32    <1e-19\n",
       "τ2: sex          -0.2865     0.0970732   -2.95    0.0032\n",
       "τ3: onMeds        0.422303   0.063825     6.62    <1e-10\n",
       "────────────────────────────────────────────────────────\n",
       "Random effects covariance matrix Σγ:\n",
       " \"γ1: (Intercept)\"  3.32057\n",
       "\n"
      ]
     },
     "execution_count": 40,
     "metadata": {},
     "output_type": "execute_result"
    }
   ],
   "source": [
    "trajgwas(@formula(y ~ 1 + sex + onMeds),\n",
    "        @formula(y ~ 1),\n",
    "        @formula(y ~ 1 + sex + onMeds),\n",
    "        :id,\n",
    "        datadir * \"trajgwas_plinkex.csv\",\n",
    "        datadir * \"hapmap3\",\n",
    "        pvalfile = \"snpset.pval.txt\", \n",
    "        analysistype = \"snpset\",\n",
    "        snpset = 50:55)"
   ]
  },
  {
   "cell_type": "code",
   "execution_count": 41,
   "metadata": {},
   "outputs": [
    {
     "name": "stdout",
     "output_type": "stream",
     "text": [
      "The pvalue of snps indexed at 50:55 is betapval: 2.315617121196509e-5, taupval: 3.972993706371914e-10\n"
     ]
    }
   ],
   "source": [
    "run(`head snpset.pval.txt`);"
   ]
  },
  {
   "cell_type": "code",
   "execution_count": 42,
   "metadata": {},
   "outputs": [],
   "source": [
    "# clean up\n",
    "rm(\"snpset.pval.txt\", force=true)\n",
    "rm(\"trajgwas.null.txt\", force=true)"
   ]
  },
  {
   "cell_type": "markdown",
   "metadata": {},
   "source": [
    "In the following example we run a SNP-set test on the annotated SNP-set file."
   ]
  },
  {
   "cell_type": "code",
   "execution_count": 43,
   "metadata": {},
   "outputs": [
    {
     "name": "stdout",
     "output_type": "stream",
     "text": [
      "gene1 rs10458597\n",
      "gene1 rs12562034\n",
      "gene1 rs2710875\n",
      "gene1 rs11260566\n",
      "gene1 rs1312568\n",
      "gene1 rs35154105\n",
      "gene1 rs16824508\n",
      "gene1 rs2678939\n",
      "gene1 rs7553178\n",
      "gene1 rs13376356\n"
     ]
    }
   ],
   "source": [
    "run(`head ../data/hapmap_snpsetfile.txt`);"
   ]
  },
  {
   "cell_type": "code",
   "execution_count": 44,
   "metadata": {},
   "outputs": [
    {
     "name": "stdout",
     "output_type": "stream",
     "text": [
      "run = 1, ‖Δβ‖ = 0.037090, ‖Δτ‖ = 0.136339, ‖ΔL‖ = 0.005441, status = LOCALLY_SOLVED, time(s) = 0.044896\n",
      "run = 2, ‖Δβ‖ = 0.000913, ‖Δτ‖ = 0.019810, ‖ΔL‖ = 0.001582, status = LOCALLY_SOLVED, time(s) = 0.040974\n"
     ]
    },
    {
     "data": {
      "text/plain": [
       "\n",
       "Within-subject variance estimation by robust regression (WiSER)\n",
       "\n",
       "Mean Formula:\n",
       "y ~ 1 + sex + onMeds\n",
       "Random Effects Formula:\n",
       "y ~ 1\n",
       "Within-Subject Variance Formula:\n",
       "y ~ 1 + sex + onMeds\n",
       "\n",
       "Number of individuals/clusters: 324\n",
       "Total observations: 3240\n",
       "\n",
       "Fixed-effects parameters:\n",
       "────────────────────────────────────────────────────────\n",
       "                  Estimate  Std. Error       Z  Pr(>|Z|)\n",
       "────────────────────────────────────────────────────────\n",
       "β1: (Intercept)  13.2282     0.146459    90.32    <1e-99\n",
       "β2: sex          -3.29295    0.2101     -15.67    <1e-54\n",
       "β3: onMeds        0.459585   0.0596002    7.71    <1e-13\n",
       "τ1: (Intercept)   0.792508   0.0850728    9.32    <1e-19\n",
       "τ2: sex          -0.2865     0.0970732   -2.95    0.0032\n",
       "τ3: onMeds        0.422303   0.063825     6.62    <1e-10\n",
       "────────────────────────────────────────────────────────\n",
       "Random effects covariance matrix Σγ:\n",
       " \"γ1: (Intercept)\"  3.32057\n",
       "\n"
      ]
     },
     "execution_count": 44,
     "metadata": {},
     "output_type": "execute_result"
    }
   ],
   "source": [
    "trajgwas(@formula(y ~ 1 + sex + onMeds),\n",
    "        @formula(y ~ 1),\n",
    "        @formula(y ~ 1 + sex + onMeds),\n",
    "        :id,\n",
    "        datadir * \"trajgwas_plinkex.csv\",\n",
    "        datadir * \"hapmap3\",\n",
    "        pvalfile = \"snpset.pval.txt\", \n",
    "        analysistype = \"snpset\",\n",
    "        snpset = datadir * \"/hapmap_snpsetfile.txt\")"
   ]
  },
  {
   "cell_type": "code",
   "execution_count": 45,
   "metadata": {},
   "outputs": [
    {
     "name": "stdout",
     "output_type": "stream",
     "text": [
      "|\u001b[1m snpsetid \u001b[0m|\u001b[1m nsnps \u001b[0m|\u001b[1m  betapval \u001b[0m|\u001b[1m   taupval \u001b[0m|\n",
      "|\u001b[90m  String7 \u001b[0m|\u001b[90m Int64 \u001b[0m|\u001b[90m   Float64 \u001b[0m|\u001b[90m   Float64 \u001b[0m|\n",
      "|----------|-------|-----------|-----------|\n",
      "|    gene1 |    93 |  0.111864 |  0.011595 |\n",
      "|    gene2 |    93 | 0.0249929 | 0.0648265 |\n",
      "|    gene3 |    93 |  0.131741 | 0.0298884 |\n",
      "|    gene4 |    92 |  0.010327 | 0.0584591 |\n",
      "|    gene5 |    93 | 0.0303905 | 0.0924954 |\n"
     ]
    }
   ],
   "source": [
    "pretty_table(first(CSV.read(\"snpset.pval.txt\", DataFrame; delim=\"\\t\"), 5), tf = tf_markdown)"
   ]
  },
  {
   "cell_type": "code",
   "execution_count": 46,
   "metadata": {},
   "outputs": [],
   "source": [
    "# clean up\n",
    "rm(\"snpset.pval.txt\", force=true)\n",
    "rm(\"trajgwas.null.txt\", force=true)"
   ]
  },
  {
   "cell_type": "markdown",
   "metadata": {},
   "source": [
    "In the following example we run a SNP-set test on every 15 SNPs."
   ]
  },
  {
   "cell_type": "code",
   "execution_count": 47,
   "metadata": {},
   "outputs": [
    {
     "name": "stdout",
     "output_type": "stream",
     "text": [
      "run = 1, ‖Δβ‖ = 0.037090, ‖Δτ‖ = 0.136339, ‖ΔL‖ = 0.005441, status = LOCALLY_SOLVED, time(s) = 0.043705\n",
      "run = 2, ‖Δβ‖ = 0.000913, ‖Δτ‖ = 0.019810, ‖ΔL‖ = 0.001582, status = LOCALLY_SOLVED, time(s) = 0.039385\n"
     ]
    },
    {
     "data": {
      "text/plain": [
       "\n",
       "Within-subject variance estimation by robust regression (WiSER)\n",
       "\n",
       "Mean Formula:\n",
       "y ~ 1 + sex + onMeds\n",
       "Random Effects Formula:\n",
       "y ~ 1\n",
       "Within-Subject Variance Formula:\n",
       "y ~ 1 + sex + onMeds\n",
       "\n",
       "Number of individuals/clusters: 324\n",
       "Total observations: 3240\n",
       "\n",
       "Fixed-effects parameters:\n",
       "────────────────────────────────────────────────────────\n",
       "                  Estimate  Std. Error       Z  Pr(>|Z|)\n",
       "────────────────────────────────────────────────────────\n",
       "β1: (Intercept)  13.2282     0.146459    90.32    <1e-99\n",
       "β2: sex          -3.29295    0.2101     -15.67    <1e-54\n",
       "β3: onMeds        0.459585   0.0596002    7.71    <1e-13\n",
       "τ1: (Intercept)   0.792508   0.0850728    9.32    <1e-19\n",
       "τ2: sex          -0.2865     0.0970732   -2.95    0.0032\n",
       "τ3: onMeds        0.422303   0.063825     6.62    <1e-10\n",
       "────────────────────────────────────────────────────────\n",
       "Random effects covariance matrix Σγ:\n",
       " \"γ1: (Intercept)\"  3.32057\n",
       "\n"
      ]
     },
     "execution_count": 47,
     "metadata": {},
     "output_type": "execute_result"
    }
   ],
   "source": [
    "trajgwas(@formula(y ~ 1 + sex + onMeds),\n",
    "        @formula(y ~ 1),\n",
    "        @formula(y ~ 1 + sex + onMeds),\n",
    "        :id,\n",
    "        datadir * \"trajgwas_plinkex.csv\",\n",
    "        datadir * \"hapmap3\",\n",
    "        pvalfile = \"snpset.pval.txt\", \n",
    "        analysistype = \"snpset\",\n",
    "        snpset = 15)"
   ]
  },
  {
   "cell_type": "code",
   "execution_count": 48,
   "metadata": {},
   "outputs": [
    {
     "name": "stdout",
     "output_type": "stream",
     "text": [
      "|\u001b[1m startchr \u001b[0m|\u001b[1m startpos \u001b[0m|\u001b[1m startsnpid \u001b[0m|\u001b[1m endchr \u001b[0m|\u001b[1m   endpos \u001b[0m|\u001b[1m   endsnpid \u001b[0m|\u001b[1m    betapval \u001b[0m|\u001b[1m     taupval \u001b[0m|\n",
      "|\u001b[90m    Int64 \u001b[0m|\u001b[90m    Int64 \u001b[0m|\u001b[90m   String15 \u001b[0m|\u001b[90m  Int64 \u001b[0m|\u001b[90m    Int64 \u001b[0m|\u001b[90m   String15 \u001b[0m|\u001b[90m     Float64 \u001b[0m|\u001b[90m     Float64 \u001b[0m|\n",
      "|----------|----------|------------|--------|----------|------------|-------------|-------------|\n",
      "|        1 |   554484 | rs10458597 |      1 |  3431124 | rs12093117 |  3.83046e-6 | 2.24303e-10 |\n",
      "|        1 |  3633945 | rs10910017 |      1 |  6514524 |   rs932112 | 0.000127922 |  7.94764e-6 |\n",
      "|        1 |  6715827 |   rs441515 |      1 |  9534606 |  rs4926480 |  8.10353e-5 |  6.11848e-7 |\n",
      "|        1 |  9737551 | rs12047054 |      1 | 12559747 |  rs4845907 | 0.000425108 |  1.15311e-8 |\n",
      "|        1 | 12760427 |   rs848577 |      1 | 16021797 |  rs6679870 |  2.75832e-5 |  0.00028553 |\n"
     ]
    }
   ],
   "source": [
    "pretty_table(first(CSV.read(\"snpset.pval.txt\", DataFrame), 5), tf = tf_markdown)"
   ]
  },
  {
   "cell_type": "code",
   "execution_count": 49,
   "metadata": {},
   "outputs": [],
   "source": [
    "# clean up\n",
    "rm(\"snpset.pval.txt\", force=true)\n",
    "rm(\"trajgwas.null.txt\", force=true)"
   ]
  },
  {
   "cell_type": "markdown",
   "metadata": {},
   "source": [
    "## Matching Indicies\n",
    "\n",
    "In some cases, there are only a subset of individuals with both genetic data and covariate information available. The null model must be fit on a subset of the individuals with the genetic data. The rows can be specified with the argument `covrowinds` if you pass in a covariate file. The genetic indicies can be specified with the `geneticrowinds` argument. \n",
    "\n",
    "For simplicity, we have implemented a function `matchindices(meanformula, reformula, wsvarformula, idvar, df, geneticsamples)` which can be used to do this.\n",
    "Input the mean, random effects, and within-subject variance formulas, the grouping (id) variable,\n",
    "the dataframe (or table), and a vector of the IDs in the order of the genetic file and it returns `covrowmask, geneticrowmask` for matching indicies in a covariate file and geneticfile.\n",
    "\n",
    "Note: the `idvar` in the dataframe and the `geneticsamples` vector must have the same element type. To convert a vector of integers to strings `string.(intvector)` can be used. To go from a vector of strings to integers you can use\"  `map(x -> parse(Int, x), stringvectoparse)`."
   ]
  },
  {
   "cell_type": "code",
   "execution_count": 50,
   "metadata": {},
   "outputs": [
    {
     "data": {
      "text/plain": [
       "324-element Vector{String7}:\n",
       " \"A1\"\n",
       " \"2\"\n",
       " \"3\"\n",
       " \"4\"\n",
       " \"5\"\n",
       " \"6\"\n",
       " \"7\"\n",
       " \"8\"\n",
       " \"9\"\n",
       " \"10\"\n",
       " \"11\"\n",
       " \"12\"\n",
       " \"13\"\n",
       " ⋮\n",
       " \"313\"\n",
       " \"314\"\n",
       " \"315\"\n",
       " \"316\"\n",
       " \"317\"\n",
       " \"318\"\n",
       " \"319\"\n",
       " \"320\"\n",
       " \"321\"\n",
       " \"322\"\n",
       " \"323\"\n",
       " \"Z324\""
      ]
     },
     "execution_count": 50,
     "metadata": {},
     "output_type": "execute_result"
    }
   ],
   "source": [
    "famfileids = CSV.read(datadir * \"hapmap3.fam\", DataFrame, header = false)[!, 1] # famfile contains the sample IDs for PLINK files"
   ]
  },
  {
   "cell_type": "code",
   "execution_count": 51,
   "metadata": {},
   "outputs": [
    {
     "name": "stdout",
     "output_type": "stream",
     "text": [
      "|\u001b[1m     sex \u001b[0m|\u001b[1m  onMeds \u001b[0m|\u001b[1m    snp1 \u001b[0m|\u001b[1m    snp2 \u001b[0m|\u001b[1m    snp3 \u001b[0m|\u001b[1m    snp4 \u001b[0m|\u001b[1m       y \u001b[0m|\u001b[1m      id \u001b[0m|\n",
      "|\u001b[90m Float64 \u001b[0m|\u001b[90m Float64 \u001b[0m|\u001b[90m Float64 \u001b[0m|\u001b[90m Float64 \u001b[0m|\u001b[90m Float64 \u001b[0m|\u001b[90m Float64 \u001b[0m|\u001b[90m Float64 \u001b[0m|\u001b[90m String7 \u001b[0m|\n",
      "|---------|---------|---------|---------|---------|---------|---------|---------|\n",
      "|     0.0 |     1.0 |     0.0 |     1.0 |     2.0 |     0.0 | 12.2667 |      A1 |\n",
      "|     0.0 |     0.0 |     0.0 |     1.0 |     2.0 |     0.0 | 10.2681 |      A1 |\n",
      "|     0.0 |     0.0 |     0.0 |     1.0 |     2.0 |     0.0 |  12.166 |      A1 |\n",
      "|     0.0 |     0.0 |     0.0 |     1.0 |     2.0 |     0.0 | 11.8797 |      A1 |\n",
      "|     0.0 |     0.0 |     0.0 |     1.0 |     2.0 |     0.0 | 12.8127 |      A1 |\n",
      "|     0.0 |     0.0 |     0.0 |     1.0 |     2.0 |     0.0 | 9.98766 |      A1 |\n",
      "|     0.0 |     0.0 |     0.0 |     1.0 |     2.0 |     0.0 | 12.1408 |      A1 |\n",
      "|     0.0 |     1.0 |     0.0 |     1.0 |     2.0 |     0.0 | 13.2058 |      A1 |\n",
      "|     0.0 |     0.0 |     0.0 |     1.0 |     2.0 |     0.0 | 11.3631 |      A1 |\n",
      "|     0.0 |     1.0 |     0.0 |     1.0 |     2.0 |     0.0 | 15.2511 |      A1 |\n",
      "|     0.0 |     0.0 |     0.0 |     0.0 |     2.0 |     2.0 |  12.746 |       2 |\n"
     ]
    }
   ],
   "source": [
    "covdf = CSV.read(datadir * \"trajgwas_plinkex.csv\", DataFrame)\n",
    "pretty_table(first(covdf, 11), tf = tf_markdown)"
   ]
  },
  {
   "cell_type": "code",
   "execution_count": 52,
   "metadata": {},
   "outputs": [],
   "source": [
    "covrowmask, geneticrowmask = matchindices(@formula(y ~ 1 + sex + onMeds),\n",
    "        @formula(y ~ 1),\n",
    "        @formula(y ~ 1 + sex + onMeds),\n",
    "        :id, covdf, famfileids);"
   ]
  },
  {
   "cell_type": "code",
   "execution_count": 53,
   "metadata": {},
   "outputs": [
    {
     "name": "stdout",
     "output_type": "stream",
     "text": [
      "run = 1, ‖Δβ‖ = 0.037090, ‖Δτ‖ = 0.136339, ‖ΔL‖ = 0.005441, status = LOCALLY_SOLVED, time(s) = 0.043990\n",
      "run = 2, ‖Δβ‖ = 0.000913, ‖Δτ‖ = 0.019810, ‖ΔL‖ = 0.001582, status = LOCALLY_SOLVED, time(s) = 0.040579\n"
     ]
    },
    {
     "data": {
      "text/plain": [
       "\n",
       "Within-subject variance estimation by robust regression (WiSER)\n",
       "\n",
       "Mean Formula:\n",
       "y ~ 1 + sex + onMeds\n",
       "Random Effects Formula:\n",
       "y ~ 1\n",
       "Within-Subject Variance Formula:\n",
       "y ~ 1 + sex + onMeds\n",
       "\n",
       "Number of individuals/clusters: 324\n",
       "Total observations: 3240\n",
       "\n",
       "Fixed-effects parameters:\n",
       "────────────────────────────────────────────────────────\n",
       "                  Estimate  Std. Error       Z  Pr(>|Z|)\n",
       "────────────────────────────────────────────────────────\n",
       "β1: (Intercept)  13.2282     0.146459    90.32    <1e-99\n",
       "β2: sex          -3.29295    0.2101     -15.67    <1e-54\n",
       "β3: onMeds        0.459585   0.0596002    7.71    <1e-13\n",
       "τ1: (Intercept)   0.792508   0.0850728    9.32    <1e-19\n",
       "τ2: sex          -0.2865     0.0970732   -2.95    0.0032\n",
       "τ3: onMeds        0.422303   0.063825     6.62    <1e-10\n",
       "────────────────────────────────────────────────────────\n",
       "Random effects covariance matrix Σγ:\n",
       " \"γ1: (Intercept)\"  3.32057\n",
       "\n"
      ]
     },
     "execution_count": 53,
     "metadata": {},
     "output_type": "execute_result"
    }
   ],
   "source": [
    "trajgwas(@formula(y ~ 1 + sex + onMeds),\n",
    "        @formula(y ~ 1),\n",
    "        @formula(y ~ 1 + sex + onMeds),\n",
    "        :id,\n",
    "        datadir * \"trajgwas_plinkex.csv\",\n",
    "        datadir * \"hapmap3\",\n",
    "        pvalfile = pvalpath,\n",
    "        nullfile = nullpath,\n",
    "        covrowinds = covrowmask,\n",
    "        geneticrowinds = geneticrowmask)"
   ]
  },
  {
   "cell_type": "code",
   "execution_count": 54,
   "metadata": {},
   "outputs": [],
   "source": [
    "# clean up\n",
    "rm(\"trajgwas.null.txt\", force=true)\n",
    "rm(\"trajgwas.pval.txt\", force=true)"
   ]
  },
  {
   "cell_type": "markdown",
   "metadata": {},
   "source": [
    "## Plotting Results\n",
    "\n",
    "To plot the GWAS results, we recommend using the [MendelPlots.jl package](https://openmendel.github.io/MendelPlots.jl/latest/)."
   ]
  },
  {
   "cell_type": "markdown",
   "metadata": {},
   "source": [
    "## Multiple Plink file sets\n",
    "\n",
    "In large scale studies, genotypes data are split into multiple Plink files, e.g., by chromosome. Then GWAS analysis can be done in parallel. This can be achieved by two steps.\n",
    "\n",
    "Let's first create demo data by splitting hapmap3 according to chromosome:"
   ]
  },
  {
   "cell_type": "code",
   "execution_count": 55,
   "metadata": {},
   "outputs": [
    {
     "data": {
      "text/plain": [
       "75-element Vector{String}:\n",
       " \"/Users/xyz/.julia/dev/TrajGWAS/data/hapmap3.chr.1.bed\"\n",
       " \"/Users/xyz/.julia/dev/TrajGWAS/data/hapmap3.chr.1.bim\"\n",
       " \"/Users/xyz/.julia/dev/TrajGWAS/data/hapmap3.chr.1.fam\"\n",
       " \"/Users/xyz/.julia/dev/TrajGWAS/data/hapmap3.chr.10.bed\"\n",
       " \"/Users/xyz/.julia/dev/TrajGWAS/data/hapmap3.chr.10.bim\"\n",
       " \"/Users/xyz/.julia/dev/TrajGWAS/data/hapmap3.chr.10.fam\"\n",
       " \"/Users/xyz/.julia/dev/TrajGWAS/data/hapmap3.chr.11.bed\"\n",
       " \"/Users/xyz/.julia/dev/TrajGWAS/data/hapmap3.chr.11.bim\"\n",
       " \"/Users/xyz/.julia/dev/TrajGWAS/data/hapmap3.chr.11.fam\"\n",
       " \"/Users/xyz/.julia/dev/TrajGWAS/data/hapmap3.chr.12.bed\"\n",
       " \"/Users/xyz/.julia/dev/TrajGWAS/data/hapmap3.chr.12.bim\"\n",
       " \"/Users/xyz/.julia/dev/TrajGWAS/data/hapmap3.chr.12.fam\"\n",
       " \"/Users/xyz/.julia/dev/TrajGWAS/data/hapmap3.chr.13.bed\"\n",
       " ⋮\n",
       " \"/Users/xyz/.julia/dev/TrajGWAS/data/hapmap3.chr.6.bed\"\n",
       " \"/Users/xyz/.julia/dev/TrajGWAS/data/hapmap3.chr.6.bim\"\n",
       " \"/Users/xyz/.julia/dev/TrajGWAS/data/hapmap3.chr.6.fam\"\n",
       " \"/Users/xyz/.julia/dev/TrajGWAS/data/hapmap3.chr.7.bed\"\n",
       " \"/Users/xyz/.julia/dev/TrajGWAS/data/hapmap3.chr.7.bim\"\n",
       " \"/Users/xyz/.julia/dev/TrajGWAS/data/hapmap3.chr.7.fam\"\n",
       " \"/Users/xyz/.julia/dev/TrajGWAS/data/hapmap3.chr.8.bed\"\n",
       " \"/Users/xyz/.julia/dev/TrajGWAS/data/hapmap3.chr.8.bim\"\n",
       " \"/Users/xyz/.julia/dev/TrajGWAS/data/hapmap3.chr.8.fam\"\n",
       " \"/Users/xyz/.julia/dev/TrajGWAS/data/hapmap3.chr.9.bed\"\n",
       " \"/Users/xyz/.julia/dev/TrajGWAS/data/hapmap3.chr.9.bim\"\n",
       " \"/Users/xyz/.julia/dev/TrajGWAS/data/hapmap3.chr.9.fam\""
      ]
     },
     "execution_count": 55,
     "metadata": {},
     "output_type": "execute_result"
    }
   ],
   "source": [
    "# split example hapmap3 data according to chromosome\n",
    "SnpArrays.split_plink(datadir * \"hapmap3\", :chromosome; prefix=datadir * \"hapmap3.chr.\")\n",
    "readdir(glob\"hapmap3.chr.*\", datadir)"
   ]
  },
  {
   "cell_type": "markdown",
   "metadata": {},
   "source": [
    "Step 1: Fit the null model. Setting third argument `geneticfile` to `nothing` instructs `trajgwas` function to fit the null model only."
   ]
  },
  {
   "cell_type": "code",
   "execution_count": 56,
   "metadata": {},
   "outputs": [
    {
     "name": "stdout",
     "output_type": "stream",
     "text": [
      "run = 1, ‖Δβ‖ = 0.037090, ‖Δτ‖ = 0.136339, ‖ΔL‖ = 0.005441, status = LOCALLY_SOLVED, time(s) = 0.044113\n",
      "run = 2, ‖Δβ‖ = 0.000913, ‖Δτ‖ = 0.019810, ‖ΔL‖ = 0.001582, status = LOCALLY_SOLVED, time(s) = 0.038771\n"
     ]
    },
    {
     "data": {
      "text/plain": [
       "\n",
       "Within-subject variance estimation by robust regression (WiSER)\n",
       "\n",
       "Mean Formula:\n",
       "y ~ 1 + sex + onMeds\n",
       "Random Effects Formula:\n",
       "y ~ 1\n",
       "Within-Subject Variance Formula:\n",
       "y ~ 1 + sex + onMeds\n",
       "\n",
       "Number of individuals/clusters: 324\n",
       "Total observations: 3240\n",
       "\n",
       "Fixed-effects parameters:\n",
       "────────────────────────────────────────────────────────\n",
       "                  Estimate  Std. Error       Z  Pr(>|Z|)\n",
       "────────────────────────────────────────────────────────\n",
       "β1: (Intercept)  13.2282     0.146459    90.32    <1e-99\n",
       "β2: sex          -3.29295    0.2101     -15.67    <1e-54\n",
       "β3: onMeds        0.459585   0.0596002    7.71    <1e-13\n",
       "τ1: (Intercept)   0.792508   0.0850728    9.32    <1e-19\n",
       "τ2: sex          -0.2865     0.0970732   -2.95    0.0032\n",
       "τ3: onMeds        0.422303   0.063825     6.62    <1e-10\n",
       "────────────────────────────────────────────────────────\n",
       "Random effects covariance matrix Σγ:\n",
       " \"γ1: (Intercept)\"  3.32057\n",
       "\n"
      ]
     },
     "execution_count": 56,
     "metadata": {},
     "output_type": "execute_result"
    }
   ],
   "source": [
    "nm = trajgwas(@formula(y ~ 1 + sex + onMeds),\n",
    "        @formula(y ~ 1),\n",
    "        @formula(y ~ 1 + sex + onMeds),\n",
    "        :id,\n",
    "        datadir * \"trajgwas_plinkex.csv\",\n",
    "        nothing)"
   ]
  },
  {
   "cell_type": "markdown",
   "metadata": {},
   "source": [
    "Step 2: GWAS for each chromosome."
   ]
  },
  {
   "cell_type": "code",
   "execution_count": 57,
   "metadata": {},
   "outputs": [],
   "source": [
    "# this part can be submitted as separate jobs\n",
    "for chr in 1:23\n",
    "    plinkfile = datadir * \"hapmap3.chr.\" * string(chr)\n",
    "    pvalfile = plinkfile * \".pval.txt\" \n",
    "    trajgwas(nm, plinkfile, pvalfile=pvalfile)\n",
    "end"
   ]
  },
  {
   "cell_type": "code",
   "execution_count": 58,
   "metadata": {},
   "outputs": [
    {
     "data": {
      "text/plain": [
       "23-element Vector{String}:\n",
       " \"/Users/xyz/.julia/dev/TrajGWAS/data/hapmap3.chr.1.pval.txt\"\n",
       " \"/Users/xyz/.julia/dev/TrajGWAS/data/hapmap3.chr.10.pval.txt\"\n",
       " \"/Users/xyz/.julia/dev/TrajGWAS/data/hapmap3.chr.11.pval.txt\"\n",
       " \"/Users/xyz/.julia/dev/TrajGWAS/data/hapmap3.chr.12.pval.txt\"\n",
       " \"/Users/xyz/.julia/dev/TrajGWAS/data/hapmap3.chr.13.pval.txt\"\n",
       " \"/Users/xyz/.julia/dev/TrajGWAS/data/hapmap3.chr.14.pval.txt\"\n",
       " \"/Users/xyz/.julia/dev/TrajGWAS/data/hapmap3.chr.15.pval.txt\"\n",
       " \"/Users/xyz/.julia/dev/TrajGWAS/data/hapmap3.chr.16.pval.txt\"\n",
       " \"/Users/xyz/.julia/dev/TrajGWAS/data/hapmap3.chr.17.pval.txt\"\n",
       " \"/Users/xyz/.julia/dev/TrajGWAS/data/hapmap3.chr.18.pval.txt\"\n",
       " \"/Users/xyz/.julia/dev/TrajGWAS/data/hapmap3.chr.19.pval.txt\"\n",
       " \"/Users/xyz/.julia/dev/TrajGWAS/data/hapmap3.chr.2.pval.txt\"\n",
       " \"/Users/xyz/.julia/dev/TrajGWAS/data/hapmap3.chr.20.pval.txt\"\n",
       " \"/Users/xyz/.julia/dev/TrajGWAS/data/hapmap3.chr.21.pval.txt\"\n",
       " \"/Users/xyz/.julia/dev/TrajGWAS/data/hapmap3.chr.22.pval.txt\"\n",
       " \"/Users/xyz/.julia/dev/TrajGWAS/data/hapmap3.chr.23.pval.txt\"\n",
       " \"/Users/xyz/.julia/dev/TrajGWAS/data/hapmap3.chr.3.pval.txt\"\n",
       " \"/Users/xyz/.julia/dev/TrajGWAS/data/hapmap3.chr.4.pval.txt\"\n",
       " \"/Users/xyz/.julia/dev/TrajGWAS/data/hapmap3.chr.5.pval.txt\"\n",
       " \"/Users/xyz/.julia/dev/TrajGWAS/data/hapmap3.chr.6.pval.txt\"\n",
       " \"/Users/xyz/.julia/dev/TrajGWAS/data/hapmap3.chr.7.pval.txt\"\n",
       " \"/Users/xyz/.julia/dev/TrajGWAS/data/hapmap3.chr.8.pval.txt\"\n",
       " \"/Users/xyz/.julia/dev/TrajGWAS/data/hapmap3.chr.9.pval.txt\""
      ]
     },
     "execution_count": 58,
     "metadata": {},
     "output_type": "execute_result"
    }
   ],
   "source": [
    "# show the result files\n",
    "readdir(glob\"*.pval.txt\", datadir)"
   ]
  },
  {
   "cell_type": "markdown",
   "metadata": {},
   "source": [
    "In the rare situations where the multiple sets of Plink files lack the `fam` file or the corresponding bed and bim files have different filenames, users can explicitly supply bed filename, bim file name, and number of individuals. Replace Step 2 by \n",
    "\n",
    "Step 2': GWAS for each chromosome."
   ]
  },
  {
   "cell_type": "code",
   "execution_count": 59,
   "metadata": {},
   "outputs": [],
   "source": [
    "# this part can be submitted as separate jobs\n",
    "for chr in 1:23\n",
    "    bedfile = datadir * \"hapmap3.chr.\" * string(chr) * \".bed\"\n",
    "    bimfile = datadir * \"hapmap3.chr.\" * string(chr) * \".bim\"\n",
    "    pvalfile = datadir * \"hapmap3.chr.\" * string(chr) * \".pval.txt\"\n",
    "    trajgwas(nm, bedfile, bimfile, 324; pvalfile=pvalfile)\n",
    "end"
   ]
  },
  {
   "cell_type": "code",
   "execution_count": 60,
   "metadata": {},
   "outputs": [],
   "source": [
    "# clean up\n",
    "rm(\"trajgwas.null.txt\", force=true)\n",
    "isfile(datadir * \"fittednullmodel.jld2\") && rm(datadir * \"fittednullmodel.jld2\")\n",
    "for chr in 1:23\n",
    "    pvalfile = datadir * \"hapmap3.chr.\" * string(chr) * \".pval.txt\"\n",
    "    rm(pvalfile, force=true)\n",
    "end\n",
    "for chr in 1:26\n",
    "    plinkfile = datadir * \"hapmap3.chr.\" * string(chr)\n",
    "    rm(plinkfile * \".bed\", force=true)\n",
    "    rm(plinkfile * \".fam\", force=true)\n",
    "    rm(plinkfile * \".bim\", force=true)\n",
    "end"
   ]
  },
  {
   "cell_type": "markdown",
   "metadata": {},
   "source": [
    "## Multiple file sets on cluster\n",
    "\n",
    "For running the score tests on a cluster, it would be desirable to fit a null model on a single machine first, and save the model as a serialized Julia object (`.jls`). For example:\n",
    "\n",
    "```julia\n",
    "using DataFrames, CSV\n",
    "using Statistics\n",
    "using TrajGWAS\n",
    "using Ipopt, WiSER\n",
    "using LinearAlgebra\n",
    "using BGEN\n",
    "# fit the null model\n",
    "BLAS.set_num_threads(1)\n",
    "solver = Ipopt.Optimizer()\n",
    "solver_config = Dict(\"print_level\" => 1, \n",
    "    \"watchdog_shortened_iter_trigger\" => 5,\n",
    "    \"max_iter\" => 120)\n",
    "\n",
    "bp_data = CSV.read(\"bp.csv\", DataFrame)\n",
    "@time nm = trajgwas(@formula(dbp ~ 1 + SEX + age + age_sq +\n",
    "        PC1 + PC2 + PC3 + PC4 + PC5 + bmi),\n",
    "    @formula(dbp ~ 1 + age),\n",
    "    @formula(dbp ~ 1 + SEX + age + age_sq +\n",
    "        PC1 + PC2 + PC3 + PC4 + PC5 +\n",
    "        bmi),\n",
    "    :FID, # subject ID\n",
    "    bp_data,\n",
    "    nothing;\n",
    "    nullfile=\"dbp.null.txt\",\n",
    "    solver=solver,\n",
    "    solver_config=solver_config,\n",
    "    init = nothing, # may change to `x -> WiSER.init_ls!(x; gniters=0)`\n",
    "    runs=10\n",
    ")\n",
    "\n",
    "println(nm)\n",
    "using Serialization\n",
    "open(\"null.model.jls\", \"w\") do io\n",
    "    Serialization.serialize(io, nm)\n",
    "end\n",
    "```\n",
    "\n",
    "Then, the fitted null model would be used for the score test. It could be desirable to configure each job to run on a slice of SNPs on a BGEN file for higher throughput. The julia script for score test (`scoretest_bp.jl`) for a slice of BGEN file would look like:\n",
    "\n",
    "```julia\n",
    "using DataFrames, CSV\n",
    "using Statistics\n",
    "using TrajGWAS\n",
    "using WiSER\n",
    "using LinearAlgebra\n",
    "using BGEN\n",
    "# fit the null model\n",
    "BLAS.set_num_threads(1)\n",
    "\n",
    "\n",
    "using Serialization\n",
    "\n",
    "bgendir = ARGS[1] \n",
    "chr = ARGS[2] # 1 to 22\n",
    "fitted_null = ARGS[3] # \"null.model.jls\"\n",
    "pvalfile = ARGS[4] # \"sbp.test.diabetics.chr$(chr).txt\"\n",
    "chunkidx = parse(Int, ARGS[5])\n",
    "nchunks  = parse(Int, ARGS[6])\n",
    "\n",
    "nm = open(deserialize, fitted_null)\n",
    "genetic_iids_subsample = nm.ids\n",
    "\n",
    "bgenfilename = bgendir * \"/Chr$(chr)\" # to analyze, for example, /path/to/bgen/Chr5.bgen\n",
    "samplefilename = bgendir * \"/Samples.sample\" # .sample file compatible with BGEN\n",
    "mfifilename = bgendir * \"/mfi_chr$(chr).txt\" # \"MFI\" file, an external file with MAF + info score\t\n",
    "ukb_data = Bgen(bgenfilename * \".bgen\"; sample_path = samplefilename)\n",
    "genetic_iids = map(x -> parse(Int, split(x, \" \")[1]), samples(ukb_data))\n",
    "\n",
    "order_dict = Dict{Int, Int}()\n",
    "for (i, iid) in enumerate(genetic_iids)\n",
    "    order_dict[iid] = i\n",
    "end\n",
    "\n",
    "sample_indicator = falses(length(genetic_iids))\n",
    "for v in genetic_iids_subsample\n",
    "    sample_indicator[order_dict[v]] = true # extract only the samples being used for the analysis\n",
    "end\n",
    "\n",
    "# GWAS for each chromosome\n",
    "\n",
    "## pre-filtering SNPs not passing the criteria (MAF > 0.002, info score > 0.3)\n",
    "min_maf = 0.002\n",
    "min_info_score = 0.3\n",
    "min_hwe_pval = 1e-10\n",
    "mfi = CSV.read(mfifilename, DataFrame; header=false)\n",
    "mfi.Column8 = map(x -> x == \"NA\" ? NaN : parse(Float64, x), mfi.Column8) # Column8: info score\n",
    "snpmask = (mfi.Column6 .> min_maf) .& (mfi.Column8 .> 0.3) # Column6: MAF\n",
    "\n",
    "## compute range to run the analysis\n",
    "chunksize = n_variants(ukb_data) ÷ nchunks + (n_variants(ukb_data) % nchunks > 0 ? 1 : 0)\n",
    "startidx = chunksize * (chunkidx - 1) + 1\n",
    "endidx = min(chunksize * chunkidx, n_variants(ukb_data))\n",
    "snpmask = snpmask[startidx:endidx]\n",
    "\n",
    "println(\"running for variants $startidx to $endidx\")\n",
    "\n",
    "# rearrange data in nm so that it matches bgen data\n",
    "nullinds = indexin(genetic_iids[sample_indicator], nm.ids)\n",
    "nm.obswts .= isempty(nm.obswts) ? nm.obswts : nm.obswts[nullinds]\n",
    "nm.ids .= nm.ids[nullinds]\n",
    "nm.nis .= nm.nis[nullinds]\n",
    "nm.data .= nm.data[nullinds]\n",
    "@assert genetic_iids[sample_indicator] == nm.ids \"there is some issue -- sampleids not matching\"\n",
    "    \n",
    "trajgwas(nm, bgenfilename * \".bgen\", count(sample_indicator);\n",
    "    samplepath=samplefilename,\n",
    "    pvalfile=pvalfile,\n",
    "    snpinds=snpmask,\n",
    "    min_hwe_pval = min_hwe_pval,\n",
    "    bgenrowinds = sample_indicator,\n",
    "    startidx = startidx,\n",
    "    endidx = endidx,\n",
    "    usespa=true)\n",
    "\n",
    "```\n",
    "\n",
    "- Command-line arguments\n",
    "    - Argument 1: directory for the BGEN files. BGEN files (.bgen), BGEN index files (.bgen.bgi), and MFI files (.txt) should be included there.\n",
    "    - Argument 2: chromosome\n",
    "    - Argument 3: fitted null model (.jls)\n",
    "    - Argument 4: path for the result p-value file\n",
    "    - Argument 5: chunk index (1-based)\n",
    "    - Argument 6: number of chunks\n",
    "    \n",
    "The code above runs the analysis on `ARGS[5]`-th slice out of `ARGS[6]` slices of chromosome `ARGS[2]`.\n",
    "\n",
    "Then, the following script could be used for a cluster managed by Sun Grid Engine: (`sbp_diabetes.sh`)\n",
    "\n",
    "```bash\n",
    "#!/bin/bash\n",
    "#$ -cwd\n",
    "#$ -o joblog.$JOB_ID.$TASK_ID\n",
    "#$ -j y\n",
    "#$ -pe shared 2\n",
    "#$ -l h_rt=8:00:00,h_data=8G,arch=intel*\n",
    "# Email address to notify\n",
    "##$ -M $USER@mail\n",
    "# Notify when\n",
    "#$ -m a\n",
    "#  Job array indexes\n",
    "#$ -t 1-352:1\n",
    "\n",
    "NCHUNKS=16\n",
    "CHUNKIDX=$(( (${SGE_TASK_ID} - 1) % ${NCHUNKS} + 1 ))\n",
    "CHR=$(( (${SGE_TASK_ID} - 1) / ${NCHUNKS} + 1))\n",
    "\n",
    "PROJECTDIR=/user/dir/jobscripts\n",
    "BGENDIR=/user/dir/imputed\n",
    "FITTED_NULL=/user/dir/null.model.jls\n",
    "PVALFILE=/user/dir/pvalfiles/sbp.test.diabetes.chr${CHR}.${CHUNKIDX}of${NCHUNKS}.txt\n",
    "\n",
    "module load julia\n",
    "time julia --project=${PROJECTDIR} ${PROJECTDIR}/scoretest_bp.jl ${BGENDIR} ${CHR} ${FITTED_NULL} ${PVALFILE} ${CHUNKIDX} ${NCHUNKS}\n",
    "```\n",
    "\n",
    "and this could be submitted using the `qsub` command."
   ]
  },
  {
   "cell_type": "markdown",
   "metadata": {},
   "source": [
    "## Troubleshooting\n",
    "\n",
    "If there are issues you're encountering with running TrajGWAS, the following are possible remedies.\n",
    "\n",
    "- Null Model\n",
    "    - Issues with null model convergence may be solved by choosing alternate starting values for parameters, using a different solver, transforming variables, and increasing the number of runs (WiSER runs). These are detailed in the [WiSER documentation here](https://github.com/OpenMendel/WiSER.jl/blob/master/docs/src/model_fitting.md#tips-for-improving-estimation). `init = x -> WiSER.init_ls!(x; gniters=0)` works fine in general. \n",
    "    \n",
    "- GWAS Results\n",
    "    - If you use the score test instead of the SPA-score test (SPA is default for single-SNP analyses), then there can be inflation in type I error and decreased power when (a) the sample size is small, (b) the number of repeated measures is low, or (c) the variants analyzed are rare with low minor allele frequencies. In these cases, the score test is not optimal and it is suggested to use the SPA version (`usespa=true`). SPA is only implemented for single-SNP analyses. These issues can occur in both Wald and score tests. \n",
    "    \n",
    "If you notice any problems with your output or results, [file an issue](https://github.com/OpenMendel/TrajGWAS.jl/issues). "
   ]
  }
 ],
 "metadata": {
  "@webio": {
   "lastCommId": null,
   "lastKernelId": null
  },
  "hide_input": false,
  "kernelspec": {
   "display_name": "Julia 1.7.1",
   "language": "julia",
   "name": "julia-1.7"
  },
  "language_info": {
   "file_extension": ".jl",
   "mimetype": "application/julia",
   "name": "julia",
   "version": "1.7.1"
  },
  "toc": {
   "colors": {
    "hover_highlight": "#DAA520",
    "running_highlight": "#FF0000",
    "selected_highlight": "#FFD700"
   },
   "moveMenuLeft": true,
   "nav_menu": {
    "height": "30px",
    "width": "252px"
   },
   "navigate_menu": true,
   "number_sections": true,
   "sideBar": true,
   "skip_h1_title": true,
   "threshold": 4,
   "toc_cell": false,
   "toc_section_display": "block",
   "toc_window_display": true,
   "widenNotebook": false
  }
 },
 "nbformat": 4,
 "nbformat_minor": 4
}
