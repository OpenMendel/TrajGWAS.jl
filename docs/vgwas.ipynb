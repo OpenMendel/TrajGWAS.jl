{
 "cells": [
  {
   "cell_type": "markdown",
   "metadata": {},
   "source": [
    "# vGWAS.jl"
   ]
  },
  {
   "cell_type": "markdown",
   "metadata": {},
   "source": [
    "vGWAS.jl is a Julia package for performing genome-wide association studies (GWAS) for continuous longitudinal phenotypes using a modified linear mixed effects model. It builds upon the [within-subject variance estimation by robust regression (WiSER) model estimation](https://github.com/OpenMendel/WiSER.jl) and can be used to identify variants associated with changes in the mean and within-subject variability of the longitduinal trait. The estimation procedure is robust to both distributional misspecifications of the random effects and the response. A saddlepoint approximation (SPA) option is implemented in order to provide improved power and decreased type I error for rare variants. \n",
    "\n",
    "\n",
    "vGWAS.jl currently supports [PLINK](https://zzz.bwh.harvard.edu/plink/), [VCF](https://en.wikipedia.org/wiki/Variant_Call_Format) (both dosage and genotype data) file formats, and [BGEN](https://www.well.ox.ac.uk/~gav/bgen_format/) file formats. We plan to add [PGEN](https://www.cog-genomics.org/plink/2.0/formats#pgen) support in the future. \n",
    "\n",
    "## Installation\n",
    "\n",
    "This package requires Julia v1.5 or later and four other unregistered packages SnpArrays.jl, VCFTools.jl, BGEN.jl, and WiSER.jl. The package has not yet been registered and must be installed using the repository location. Start julia and use the ] key to switch to the package manager REPL and run:\n",
    "```julia\n",
    "(@v1.5) pkg> add https://github.com/OpenMendel/SnpArrays.jl\n",
    "(@v1.5) pkg> add https://github.com/OpenMendel/VCFTools.jl\n",
    "(@v1.5) pkg> add https://github.com/OpenMendel/BGEN.jl\n",
    "(@v1.5) pkg> add https://github.com/OpenMendel/WiSER.jl\n",
    "(@v1.5) pkg> add https://github.com/OpenMendel/vGWAS.jl\n",
    "```"
   ]
  },
  {
   "cell_type": "code",
   "execution_count": 1,
   "metadata": {},
   "outputs": [
    {
     "name": "stdout",
     "output_type": "stream",
     "text": [
      "Julia Version 1.5.3\n",
      "Commit 788b2c77c1 (2020-11-09 13:37 UTC)\n",
      "Platform Info:\n",
      "  OS: macOS (x86_64-apple-darwin18.7.0)\n",
      "  CPU: Intel(R) Core(TM) i7-4850HQ CPU @ 2.30GHz\n",
      "  WORD_SIZE: 64\n",
      "  LIBM: libopenlibm\n",
      "  LLVM: libLLVM-9.0.1 (ORCJIT, haswell)\n",
      "Environment:\n",
      "  JULIA_NUM_THREADS = 4\n"
     ]
    }
   ],
   "source": [
    "# machine information for this tutorial\n",
    "versioninfo()"
   ]
  },
  {
   "cell_type": "code",
   "execution_count": 2,
   "metadata": {},
   "outputs": [
    {
     "name": "stderr",
     "output_type": "stream",
     "text": [
      "┌ Info: Precompiling vGWAS [9514c204-b736-47c9-8157-11c3e9e5ab30]\n",
      "└ @ Base loading.jl:1278\n"
     ]
    }
   ],
   "source": [
    "# for use in this tutorial\n",
    "ENV[\"COLUMNS\"] = 250\n",
    "using BenchmarkTools, CSV, Glob, SnpArrays, vGWAS"
   ]
  },
  {
   "cell_type": "markdown",
   "metadata": {},
   "source": [
    "## Example data sets\n",
    "\n",
    "The `data` folder of the package contains the example data sets for use with PLINK and VCF Files. In general, the user can locate this folder by command:"
   ]
  },
  {
   "cell_type": "code",
   "execution_count": 3,
   "metadata": {},
   "outputs": [
    {
     "data": {
      "text/plain": [
       "\"/Users/christophergerman/.julia/dev/vGWAS/data/\""
      ]
     },
     "execution_count": 3,
     "metadata": {},
     "output_type": "execute_result"
    }
   ],
   "source": [
    "using vGWAS\n",
    "pvalpath = \"vgwas.pval.txt\"\n",
    "nullpath = \"vgwas.null.txt\"\n",
    "const datadir = normpath(joinpath(dirname(pathof(vGWAS)), \"../data/\"))"
   ]
  },
  {
   "cell_type": "code",
   "execution_count": 4,
   "metadata": {},
   "outputs": [
    {
     "data": {
      "text/plain": [
       "12-element Array{String,1}:\n",
       " \"/Users/christophergerman/.julia/dev/vGWAS/data/example.8bits.bgen\"\n",
       " \"/Users/christophergerman/.julia/dev/vGWAS/data/example.8bits.bgen.bgi\"\n",
       " \"/Users/christophergerman/.julia/dev/vGWAS/data/hapmap3.bed\"\n",
       " \"/Users/christophergerman/.julia/dev/vGWAS/data/hapmap3.bim\"\n",
       " \"/Users/christophergerman/.julia/dev/vGWAS/data/hapmap3.fam\"\n",
       " \"/Users/christophergerman/.julia/dev/vGWAS/data/hapmap_snpsetfile.txt\"\n",
       " \"/Users/christophergerman/.julia/dev/vGWAS/data/sim_data.jl\"\n",
       " \"/Users/christophergerman/.julia/dev/vGWAS/data/snpsetfile_vcf.txt\"\n",
       " \"/Users/christophergerman/.julia/dev/vGWAS/data/test_vcf.vcf.gz\"\n",
       " \"/Users/christophergerman/.julia/dev/vGWAS/data/vgwas_bgen_ex.csv\"\n",
       " \"/Users/christophergerman/.julia/dev/vGWAS/data/vgwas_plinkex.csv\"\n",
       " \"/Users/christophergerman/.julia/dev/vGWAS/data/vgwas_vcfex.csv\""
      ]
     },
     "execution_count": 4,
     "metadata": {},
     "output_type": "execute_result"
    }
   ],
   "source": [
    "# content of the data folder\n",
    "readdir(glob\"*.*\", datadir)"
   ]
  },
  {
   "cell_type": "markdown",
   "metadata": {},
   "source": [
    "The `hapmap3` files `vgwas_plinkex.csv` file correspond to data examples using PLINK formatted files (.bed, .bim, .fam). \n",
    "\n",
    "The `test_vcf.vcf.gz` and `vgwas_vcfex.csv` files are for an example analysis using VCF formatted files. \n",
    "\n",
    "The `example.8bits.bgen` and `vgwas_bgen_ex.csv` files are for an example analysis using VCF formatted files. \n"
   ]
  },
  {
   "cell_type": "markdown",
   "metadata": {},
   "source": [
    "## Basic usage\n",
    "\n",
    "The following command performs GWAS using for the hapmap3 PLINK files. The output is the fitted null model.\n",
    "\n",
    "The default type of GWAS performed is a single-snp significance genome-wide scan, this can be changed by the keyword `analysistype` (default is \"singlesnp\"). Other types of analyses are gone over later. It outputs the null model, runtime of fitting the null model, and convergence metrics. "
   ]
  },
  {
   "cell_type": "code",
   "execution_count": 7,
   "metadata": {},
   "outputs": [
    {
     "name": "stdout",
     "output_type": "stream",
     "text": [
      "run = 1, ‖Δβ‖ = 0.037090, ‖Δτ‖ = 0.136339, ‖ΔL‖ = 0.005441, status = Optimal, time(s) = 0.153256\n",
      "run = 2, ‖Δβ‖ = 0.000913, ‖Δτ‖ = 0.019810, ‖ΔL‖ = 0.001582, status = Optimal, time(s) = 0.140690\n"
     ]
    },
    {
     "data": {
      "text/plain": [
       "\n",
       "Within-subject variance estimation by robust regression (WiSER)\n",
       "\n",
       "Mean Formula:\n",
       "y ~ 1 + sex + onMeds\n",
       "Random Effects Formula:\n",
       "y ~ 1\n",
       "Within-Subject Variance Formula:\n",
       "y ~ 1 + sex + onMeds\n",
       "\n",
       "Number of individuals/clusters: 324\n",
       "Total observations: 3240\n",
       "\n",
       "Fixed-effects parameters:\n",
       "────────────────────────────────────────────────────────\n",
       "                  Estimate  Std. Error       Z  Pr(>|Z|)\n",
       "────────────────────────────────────────────────────────\n",
       "β1: (Intercept)  13.2282     0.146459    90.32    <1e-99\n",
       "β2: sex          -3.29295    0.2101     -15.67    <1e-54\n",
       "β3: onMeds        0.459585   0.0596002    7.71    <1e-13\n",
       "τ1: (Intercept)   0.792508   0.0850728    9.32    <1e-19\n",
       "τ2: sex          -0.2865     0.0970732   -2.95    0.0032\n",
       "τ3: onMeds        0.422303   0.063825     6.62    <1e-10\n",
       "────────────────────────────────────────────────────────\n",
       "Random effects covariance matrix Σγ:\n",
       " \"γ1: (Intercept)\"  3.32057\n",
       "\n"
      ]
     },
     "execution_count": 7,
     "metadata": {},
     "output_type": "execute_result"
    }
   ],
   "source": [
    "vgwas(@formula(y ~ 1 + sex + onMeds),\n",
    "        @formula(y ~ 1),\n",
    "        @formula(y ~ 1 + sex + onMeds),\n",
    "        :id,\n",
    "        datadir * \"vgwas_plinkex.csv\",\n",
    "        datadir * \"hapmap3\",\n",
    "        pvalfile = pvalpath,\n",
    "        nullfile = nullpath)"
   ]
  },
  {
   "cell_type": "markdown",
   "metadata": {},
   "source": [
    "For documentation of the `vgwas` function, type `?vgwas` in Julia REPL.\n",
    "```@docs\n",
    "vgwas\n",
    "```"
   ]
  },
  {
   "cell_type": "markdown",
   "metadata": {},
   "source": [
    "### Formula for null model\n",
    "\n",
    "The first three arguments specify the null model without SNP effects. The fourth argument specifies the grouping variable (subject ID, cluster, etc.).\n",
    "\n",
    "- The first term is the mean fixed effects formula e.g., `@formula(y ~ 1 + sex + onMeds)`.\n",
    "- The second argument is the random (location) effects -- `@formula(y ~ 1)` specifies a random intercept, whereas `@formula(y ~ 1 + time)` would specify a random intercept and slope (time).\n",
    "- The third argument specifies the within-subject variance (WSV) formula `@formula(y ~ 1 + sex + onMeds)` models the intra-individual variability of `y` with an intercept, sex, and medication. Note: The WSV formula must have an intercept. \n",
    "- The fourth argument specifies the grouping variable of the longitudinal data. In the example data, the `id` variable specifies the grouping variable the repeated measures are collected on. \n",
    "\n"
   ]
  },
  {
   "cell_type": "markdown",
   "metadata": {},
   "source": [
    "### Input files\n",
    "\n",
    "`vgwas` expects two input files: one for responses plus covariates (fifth argument), the other the genetic file(s) for dosages/genotypes (sixth argument).\n",
    "\n",
    "#### Covariate and trait file\n",
    "\n",
    "Covariates and phenotype are provided in a csv file, e.g., `vgwas_plinkex.csv`, which has one header line for variable names. In this example, variable `y` is continuous variable with repeated measures on individuals specified by `id`. We want to include variable `sex` and `onMeds` as covariates for GWAS."
   ]
  },
  {
   "cell_type": "code",
   "execution_count": 19,
   "metadata": {},
   "outputs": [
    {
     "name": "stdout",
     "output_type": "stream",
     "text": [
      "sex,onMeds,snp1,snp2,snp3,snp4,y,id\n",
      "0.0,1.0,0.0,1.0,2.0,0.0,12.26667411332518,A1\n",
      "0.0,0.0,0.0,1.0,2.0,0.0,10.268123812744903,A1\n",
      "0.0,0.0,0.0,1.0,2.0,0.0,12.165997408822557,A1\n",
      "0.0,0.0,0.0,1.0,2.0,0.0,11.879709602937222,A1\n",
      "0.0,0.0,0.0,1.0,2.0,0.0,12.812705165990007,A1\n",
      "0.0,0.0,0.0,1.0,2.0,0.0,9.987659617201372,A1\n",
      "0.0,0.0,0.0,1.0,2.0,0.0,12.140779426464974,A1\n",
      "0.0,1.0,0.0,1.0,2.0,0.0,13.205778146177705,A1\n",
      "0.0,0.0,0.0,1.0,2.0,0.0,11.363145919060207,A1\n"
     ]
    }
   ],
   "source": [
    "run(`head $(datadir)vgwas_plinkex.csv`);"
   ]
  },
  {
   "cell_type": "markdown",
   "metadata": {},
   "source": [
    "#### Genetic file(s)\n",
    "\n",
    "vGWAS supports PLINK files, VCF files, and BGEN files.\n",
    "\n",
    "- Genotype data is available as binary PLINK files.\n",
    "\n",
    "- vGWAS can use dosage or genotype data from VCF files. \n",
    "\n",
    "- vGWAS uses dosage data from BGEN files.\n",
    "\n",
    "!!! note\n",
    "\n",
    "    By default, vGWAS assumes a set of PLINK files will be used. When using a VCF File, VCF file and type of data (dosage, genotype) must be specified by the `geneticformat` and `vcftype` options (as shown later). Similarly, BGEN must be specified as the `geneticformat` if using a BGEN file. "
   ]
  },
  {
   "cell_type": "code",
   "execution_count": 11,
   "metadata": {},
   "outputs": [
    {
     "data": {
      "text/plain": [
       "3-element Array{String,1}:\n",
       " \"/Users/christophergerman/.julia/dev/vGWAS/data/hapmap3.bed\"\n",
       " \"/Users/christophergerman/.julia/dev/vGWAS/data/hapmap3.bim\"\n",
       " \"/Users/christophergerman/.julia/dev/vGWAS/data/hapmap3.fam\""
      ]
     },
     "execution_count": 11,
     "metadata": {},
     "output_type": "execute_result"
    }
   ],
   "source": [
    "readdir(glob\"hapmap3.*\", datadir)"
   ]
  },
  {
   "cell_type": "markdown",
   "metadata": {},
   "source": [
    "In this example, there are 324 samples at 13,928 SNPs."
   ]
  },
  {
   "cell_type": "code",
   "execution_count": 12,
   "metadata": {},
   "outputs": [
    {
     "data": {
      "text/plain": [
       "(324, 13928)"
      ]
     },
     "execution_count": 12,
     "metadata": {},
     "output_type": "execute_result"
    }
   ],
   "source": [
    "size(SnpArray(datadir * \"hapmap3.bed\"))"
   ]
  },
  {
   "cell_type": "markdown",
   "metadata": {},
   "source": [
    "Compressed PLINK and VCF files are supported. For example, if Plink files are `hapmap3.bed.gz`, `hapmap3.bim.gz` and `hapmap3.fam.gz`, the same command\n",
    "```julia\n",
    "vgwas(@formula(y ~ 1 + sex + onMeds),\n",
    "        @formula(y ~ 1),\n",
    "        @formula(y ~ 1 + sex + onMeds),\n",
    "        :id,\n",
    "        datadir * \"vgwas_plinkex.csv\",\n",
    "        datadir * \"hapmap3\",\n",
    "        pvalfile = pvalpath,\n",
    "        nullfile = nullpath)\n",
    "```\n",
    "still works. Check all supported compression format by"
   ]
  },
  {
   "cell_type": "code",
   "execution_count": 11,
   "metadata": {},
   "outputs": [
    {
     "data": {
      "text/plain": [
       "6-element Array{String,1}:\n",
       " \"gz\"\n",
       " \"zlib\"\n",
       " \"zz\"\n",
       " \"xz\"\n",
       " \"zst\"\n",
       " \"bz2\""
      ]
     },
     "execution_count": 11,
     "metadata": {},
     "output_type": "execute_result"
    }
   ],
   "source": [
    "SnpArrays.ALLOWED_FORMAT"
   ]
  },
  {
   "cell_type": "markdown",
   "metadata": {},
   "source": [
    "### Output files"
   ]
  },
  {
   "cell_type": "markdown",
   "metadata": {},
   "source": [
    "`vgwas` outputs two files: `vgwas.null.txt` and `vgwas.pval.txt`. \n",
    "\n",
    "* `vgwas.null.txt` lists the estimated null model (without SNPs). "
   ]
  },
  {
   "cell_type": "code",
   "execution_count": 13,
   "metadata": {},
   "outputs": [
    {
     "name": "stdout",
     "output_type": "stream",
     "text": [
      "\n",
      "Within-subject variance estimation by robust regression (WiSER)\n",
      "\n",
      "Mean Formula:\n",
      "y ~ 1 + sex + onMeds\n",
      "Random Effects Formula:\n",
      "y ~ 1\n",
      "Within-Subject Variance Formula:\n",
      "y ~ 1 + sex + onMeds\n",
      "\n",
      "Number of individuals/clusters: 324\n",
      "Total observations: 3240\n",
      "\n",
      "Fixed-effects parameters:\n",
      "────────────────────────────────────────────────────────\n",
      "                  Estimate  Std. Error       Z  Pr(>|Z|)\n",
      "────────────────────────────────────────────────────────\n",
      "β1: (Intercept)  13.2282     0.146459    90.32    <1e-99\n",
      "β2: sex          -3.29295    0.2101     -15.67    <1e-54\n",
      "β3: onMeds        0.459585   0.0596002    7.71    <1e-13\n",
      "τ1: (Intercept)   0.792508   0.0850728    9.32    <1e-19\n",
      "τ2: sex          -0.2865     0.0970732   -2.95    0.0032\n",
      "τ3: onMeds        0.422303   0.063825     6.62    <1e-10\n",
      "────────────────────────────────────────────────────────\n",
      "Random effects covariance matrix Σγ:\n",
      " \"γ1: (Intercept)\"  3.32057\n",
      "\n"
     ]
    }
   ],
   "source": [
    "run(`cat vgwas.null.txt`);"
   ]
  },
  {
   "cell_type": "markdown",
   "metadata": {},
   "source": [
    "* `vgwas.pval.txt` tallies the SNPs, their pvalues, and relevant information on each SNP.\n",
    "    - betapval represents the p-value of the SNP's effect on the mean of the trait. If `spa=true` (default), then this is the SPA p-value. If `spa=false`, then this is the score test beta p-value. \n",
    "    - taupval represents the p-value of the SNP's effect on the within-subject variability of the trait. If `spa=true` (default), then this is the SPA p-value. If `spa=false`, then this is the score test tau p-value. \n",
    "    - jointpval represents a joint p-value of the SNP's effect on both the mean and variance. By default `spa=true` this is the harmonic mean of the saddlepoint approximated p-values for beta and tau. If `spa=false`, this is the joint score test p-value."
   ]
  },
  {
   "cell_type": "code",
   "execution_count": 8,
   "metadata": {},
   "outputs": [
    {
     "data": {
      "text/html": [
       "<table class=\"data-frame\"><thead><tr><th></th><th>chr</th><th>pos</th><th>snpid</th><th>maf</th><th>hwepval</th><th>betapval</th><th>taupval</th><th>jointpval</th></tr><tr><th></th><th>Int64</th><th>Int64</th><th>String</th><th>Float64</th><th>Float64</th><th>Float64</th><th>Float64</th><th>Float64</th></tr></thead><tbody><p>8 rows × 8 columns</p><tr><th>1</th><td>1</td><td>554484</td><td>rs10458597</td><td>0.0</td><td>1.0</td><td>1.0</td><td>1.0</td><td>1.0</td></tr><tr><th>2</th><td>1</td><td>758311</td><td>rs12562034</td><td>0.0776398</td><td>0.409876</td><td>0.38939</td><td>0.922822</td><td>0.689845</td></tr><tr><th>3</th><td>1</td><td>967643</td><td>rs2710875</td><td>0.324074</td><td>4.07625e-7</td><td>5.83856e-6</td><td>3.35408e-6</td><td>1.1501e-6</td></tr><tr><th>4</th><td>1</td><td>1168108</td><td>rs11260566</td><td>0.191589</td><td>0.128568</td><td>0.000850889</td><td>0.0559055</td><td>0.000739637</td></tr><tr><th>5</th><td>1</td><td>1375074</td><td>rs1312568</td><td>0.441358</td><td>2.5376e-19</td><td>0.000171683</td><td>1.84811e-13</td><td>4.62603e-14</td></tr><tr><th>6</th><td>1</td><td>1588771</td><td>rs35154105</td><td>0.0</td><td>1.0</td><td>1.0</td><td>1.0</td><td>1.0</td></tr><tr><th>7</th><td>1</td><td>1789051</td><td>rs16824508</td><td>0.00462963</td><td>0.933278</td><td>0.295035</td><td>0.304109</td><td>0.260174</td></tr><tr><th>8</th><td>1</td><td>1990452</td><td>rs2678939</td><td>0.453704</td><td>5.07696e-11</td><td>1.27871e-7</td><td>7.73809e-9</td><td>1.56973e-9</td></tr></tbody></table>"
      ],
      "text/latex": [
       "\\begin{tabular}{r|cccccccc}\n",
       "\t& chr & pos & snpid & maf & hwepval & betapval & taupval & jointpval\\\\\n",
       "\t\\hline\n",
       "\t& Int64 & Int64 & String & Float64 & Float64 & Float64 & Float64 & Float64\\\\\n",
       "\t\\hline\n",
       "\t1 & 1 & 554484 & rs10458597 & 0.0 & 1.0 & 1.0 & 1.0 & 1.0 \\\\\n",
       "\t2 & 1 & 758311 & rs12562034 & 0.0776398 & 0.409876 & 0.38939 & 0.922822 & 0.689845 \\\\\n",
       "\t3 & 1 & 967643 & rs2710875 & 0.324074 & 4.07625e-7 & 5.83856e-6 & 3.35408e-6 & 1.1501e-6 \\\\\n",
       "\t4 & 1 & 1168108 & rs11260566 & 0.191589 & 0.128568 & 0.000850889 & 0.0559055 & 0.000739637 \\\\\n",
       "\t5 & 1 & 1375074 & rs1312568 & 0.441358 & 2.5376e-19 & 0.000171683 & 1.84811e-13 & 4.62603e-14 \\\\\n",
       "\t6 & 1 & 1588771 & rs35154105 & 0.0 & 1.0 & 1.0 & 1.0 & 1.0 \\\\\n",
       "\t7 & 1 & 1789051 & rs16824508 & 0.00462963 & 0.933278 & 0.295035 & 0.304109 & 0.260174 \\\\\n",
       "\t8 & 1 & 1990452 & rs2678939 & 0.453704 & 5.07696e-11 & 1.27871e-7 & 7.73809e-9 & 1.56973e-9 \\\\\n",
       "\\end{tabular}\n"
      ],
      "text/plain": [
       "\u001b[1m8×8 DataFrame\u001b[0m\n",
       "\u001b[1m Row \u001b[0m│\u001b[1m chr   \u001b[0m\u001b[1m pos     \u001b[0m\u001b[1m snpid      \u001b[0m\u001b[1m maf        \u001b[0m\u001b[1m hwepval     \u001b[0m\u001b[1m betapval    \u001b[0m\u001b[1m taupval     \u001b[0m\u001b[1m jointpval   \u001b[0m\n",
       "\u001b[1m     \u001b[0m│\u001b[90m Int64 \u001b[0m\u001b[90m Int64   \u001b[0m\u001b[90m String     \u001b[0m\u001b[90m Float64    \u001b[0m\u001b[90m Float64     \u001b[0m\u001b[90m Float64     \u001b[0m\u001b[90m Float64     \u001b[0m\u001b[90m Float64     \u001b[0m\n",
       "─────┼────────────────────────────────────────────────────────────────────────────────────────────\n",
       "   1 │     1   554484  rs10458597  0.0         1.0          1.0          1.0          1.0\n",
       "   2 │     1   758311  rs12562034  0.0776398   0.409876     0.38939      0.922822     0.689845\n",
       "   3 │     1   967643  rs2710875   0.324074    4.07625e-7   5.83856e-6   3.35408e-6   1.1501e-6\n",
       "   4 │     1  1168108  rs11260566  0.191589    0.128568     0.000850889  0.0559055    0.000739637\n",
       "   5 │     1  1375074  rs1312568   0.441358    2.5376e-19   0.000171683  1.84811e-13  4.62603e-14\n",
       "   6 │     1  1588771  rs35154105  0.0         1.0          1.0          1.0          1.0\n",
       "   7 │     1  1789051  rs16824508  0.00462963  0.933278     0.295035     0.304109     0.260174\n",
       "   8 │     1  1990452  rs2678939   0.453704    5.07696e-11  1.27871e-7   7.73809e-9   1.56973e-9"
      ]
     },
     "execution_count": 8,
     "metadata": {},
     "output_type": "execute_result"
    }
   ],
   "source": [
    "first(CSV.read(\"vgwas.pval.txt\", DataFrame), 8)"
   ]
  },
  {
   "cell_type": "markdown",
   "metadata": {},
   "source": [
    "Output file names can be changed by the `nullfile` and `pvalfile` keywords respectively. For example, \n",
    "```julia\n",
    "vgwas(@formula(y ~ 1 + sex + onMeds),\n",
    "        @formula(y ~ 1),\n",
    "        @formula(y ~ 1 + sex + onMeds),\n",
    "        :id,\n",
    "        datadir * \"vgwas_plinkex.csv\",\n",
    "        datadir * \"hapmap3\",\n",
    "        pvalfile = \"vgwas.pval.txt.gz\",\n",
    "        nullfile = nullpath)\n",
    "\n",
    "```\n",
    "will output the p-value file in compressed gz format."
   ]
  },
  {
   "cell_type": "markdown",
   "metadata": {},
   "source": [
    "### Subsamples\n",
    "\n",
    "Use the keyword `covrowinds` to specify selected samples in the covarite file. Use the keyword `geneticrowinds` to specify selected samples in the Plink (.bed), VCF, or BGEN file. For example, to use the first 300 samples in both covariate and bed file:\n",
    "```julia\n",
    "vgwas(@formula(trait ~ 1+ sex), \n",
    "    @formula(trait ~ 1), \n",
    "    @formula(trait ~ 1 + sex), \n",
    "    :id,\n",
    "    covfile, geneticfile, \n",
    "    covrowinds=1:300, geneticrowinds=1:300)\n",
    "```\n",
    "!!! note\n",
    "\n",
    "    Users should make sure that the selected samples in covariate file match exactly those in bed file, otherwise an error will be displayed. "
   ]
  },
  {
   "cell_type": "markdown",
   "metadata": {},
   "source": [
    "### Input non-genetic data as DataFrame\n",
    "\n",
    "Internally `vgwas` parses the covariate file as a DataFrame by `df = CSV.read(covfile, DataFrame)`. For covariate file of other formats, or for specifying default levels of categorical variables, users can parse their datafile as a DataFrame and then input the DataFrame to `vgwas` directly.\n",
    "```julia\n",
    "vgwas(@formula(trait ~ 1+ sex), \n",
    "    @formula(trait ~ 1), \n",
    "    @formula(trait ~ 1 + sex),\n",
    "    :id,\n",
    "    df, geneticfile)\n",
    "```\n",
    "!!! note\n",
    "\n",
    "    Users should always make sure that individuals in covariate file or DataFrame match those in Plink fam file/VCF File/BGEN file. \n",
    "\n",
    "For example, following code checks that the first 2 columns of the `covariate.txt` file match the first 2 columns of the `hapmap3.fam` file exactly."
   ]
  },
  {
   "cell_type": "code",
   "execution_count": 19,
   "metadata": {},
   "outputs": [
    {
     "data": {
      "text/plain": [
       "true"
      ]
     },
     "execution_count": 19,
     "metadata": {},
     "output_type": "execute_result"
    }
   ],
   "source": [
    "covdf = CSV.read(datadir * \"covariate.txt\")\n",
    "plkfam = CSV.read(datadir * \"hapmap3.fam\", header=0, delim=' ')\n",
    "all(covdf[!, 1] .== plkfam[!, 1]) && all(covdf[!, 2] .== plkfam[!, 2])"
   ]
  },
  {
   "cell_type": "markdown",
   "metadata": {},
   "source": [
    "### Timing\n",
    "\n",
    "For this moderate-sized data set, `vgwas` takes around 1 second without applying SPA. With SPA, it takes a little longer. "
   ]
  },
  {
   "cell_type": "code",
   "execution_count": 23,
   "metadata": {},
   "outputs": [
    {
     "name": "stdout",
     "output_type": "stream",
     "text": [
      "run = 1, ‖Δβ‖ = 0.037090, ‖Δτ‖ = 0.136339, ‖ΔL‖ = 0.005441, status = Optimal, time(s) = 0.159280\n",
      "run = 2, ‖Δβ‖ = 0.000913, ‖Δτ‖ = 0.019810, ‖ΔL‖ = 0.001582, status = Optimal, time(s) = 0.149766\n",
      "run = 1, ‖Δβ‖ = 0.037090, ‖Δτ‖ = 0.136339, ‖ΔL‖ = 0.005441, status = Optimal, time(s) = 0.152873\n",
      "run = 2, ‖Δβ‖ = 0.000913, ‖Δτ‖ = 0.019810, ‖ΔL‖ = 0.001582, status = Optimal, time(s) = 0.126264\n",
      "run = 1, ‖Δβ‖ = 0.037090, ‖Δτ‖ = 0.136339, ‖ΔL‖ = 0.005441, status = Optimal, time(s) = 0.149566\n",
      "run = 2, ‖Δβ‖ = 0.000913, ‖Δτ‖ = 0.019810, ‖ΔL‖ = 0.001582, status = Optimal, time(s) = 0.130830\n",
      "run = 1, ‖Δβ‖ = 0.037090, ‖Δτ‖ = 0.136339, ‖ΔL‖ = 0.005441, status = Optimal, time(s) = 0.141506\n",
      "run = 2, ‖Δβ‖ = 0.000913, ‖Δτ‖ = 0.019810, ‖ΔL‖ = 0.001582, status = Optimal, time(s) = 0.127524\n",
      "run = 1, ‖Δβ‖ = 0.037090, ‖Δτ‖ = 0.136339, ‖ΔL‖ = 0.005441, status = Optimal, time(s) = 0.148520\n",
      "run = 2, ‖Δβ‖ = 0.000913, ‖Δτ‖ = 0.019810, ‖ΔL‖ = 0.001582, status = Optimal, time(s) = 0.130201\n",
      "run = 1, ‖Δβ‖ = 0.037090, ‖Δτ‖ = 0.136339, ‖ΔL‖ = 0.005441, status = Optimal, time(s) = 0.143576\n",
      "run = 2, ‖Δβ‖ = 0.000913, ‖Δτ‖ = 0.019810, ‖ΔL‖ = 0.001582, status = Optimal, time(s) = 0.127183\n",
      "run = 1, ‖Δβ‖ = 0.037090, ‖Δτ‖ = 0.136339, ‖ΔL‖ = 0.005441, status = Optimal, time(s) = 0.144576\n",
      "run = 2, ‖Δβ‖ = 0.000913, ‖Δτ‖ = 0.019810, ‖ΔL‖ = 0.001582, status = Optimal, time(s) = 0.128221\n",
      "run = 1, ‖Δβ‖ = 0.037090, ‖Δτ‖ = 0.136339, ‖ΔL‖ = 0.005441, status = Optimal, time(s) = 0.142490\n",
      "run = 2, ‖Δβ‖ = 0.000913, ‖Δτ‖ = 0.019810, ‖ΔL‖ = 0.001582, status = Optimal, time(s) = 0.127983\n",
      "run = 1, ‖Δβ‖ = 0.037090, ‖Δτ‖ = 0.136339, ‖ΔL‖ = 0.005441, status = Optimal, time(s) = 0.143693\n",
      "run = 2, ‖Δβ‖ = 0.000913, ‖Δτ‖ = 0.019810, ‖ΔL‖ = 0.001582, status = Optimal, time(s) = 0.135728\n",
      "run = 1, ‖Δβ‖ = 0.037090, ‖Δτ‖ = 0.136339, ‖ΔL‖ = 0.005441, status = Optimal, time(s) = 0.141163\n",
      "run = 2, ‖Δβ‖ = 0.000913, ‖Δτ‖ = 0.019810, ‖ΔL‖ = 0.001582, status = Optimal, time(s) = 0.132183\n",
      "run = 1, ‖Δβ‖ = 0.037090, ‖Δτ‖ = 0.136339, ‖ΔL‖ = 0.005441, status = Optimal, time(s) = 0.142592\n",
      "run = 2, ‖Δβ‖ = 0.000913, ‖Δτ‖ = 0.019810, ‖ΔL‖ = 0.001582, status = Optimal, time(s) = 0.133999\n",
      "run = 1, ‖Δβ‖ = 0.037090, ‖Δτ‖ = 0.136339, ‖ΔL‖ = 0.005441, status = Optimal, time(s) = 0.149729\n",
      "run = 2, ‖Δβ‖ = 0.000913, ‖Δτ‖ = 0.019810, ‖ΔL‖ = 0.001582, status = Optimal, time(s) = 0.133083\n",
      "run = 1, ‖Δβ‖ = 0.037090, ‖Δτ‖ = 0.136339, ‖ΔL‖ = 0.005441, status = Optimal, time(s) = 0.147808\n",
      "run = 2, ‖Δβ‖ = 0.000913, ‖Δτ‖ = 0.019810, ‖ΔL‖ = 0.001582, status = Optimal, time(s) = 0.133049\n",
      "  1.056 s (2452221 allocations: 193.22 MiB)\n"
     ]
    }
   ],
   "source": [
    "@btime(vgwas(@formula(y ~ 1 + sex + onMeds),\n",
    "        @formula(y ~ 1),\n",
    "        @formula(y ~ 1 + sex + onMeds),\n",
    "        :id,\n",
    "        datadir * \"vgwas_plinkex.csv\",\n",
    "        datadir * \"hapmap3\",\n",
    "        pvalfile = pvalpath,\n",
    "        nullfile = nullpath, \n",
    "        usespa = false));"
   ]
  },
  {
   "cell_type": "code",
   "execution_count": 76,
   "metadata": {},
   "outputs": [],
   "source": [
    "# clean up\n",
    "rm(\"vgwas.null.txt\", force=true)\n",
    "rm(\"vgwas.pval.txt\", force=true)"
   ]
  },
  {
   "cell_type": "markdown",
   "metadata": {},
   "source": [
    "## VCF Formatted Files\n",
    "\n",
    "By default, vGWAS.jl will assume you are using PLINK files. It also supports VCF (and BGEN) Files. `vcf.gz` files are supported as well. To use vcf files in any of the analysis options detailed in this documentation, you simply need to add two keyword options to the `vgwas` function:\n",
    "* `geneticformat`: Choices are \"VCF\" or \"PLINK\". If you are using a VCF file, use `geneticformat = \"VCF\"`.\n",
    "* `vcftype`: Choices are :GT (for genotypes) or :DS (for dosages). This tells vGWAS which type of data to extract from the VCF file.\n",
    "\n",
    "Using a VCF File does not output minor allele frequency or hardy weinberg equillibrium p-values for each SNP tested since they may be dosages. \n",
    "\n",
    "The following shows how to run an analysis with a VCF file using the dosage information. "
   ]
  },
  {
   "cell_type": "code",
   "execution_count": 72,
   "metadata": {},
   "outputs": [
    {
     "name": "stdout",
     "output_type": "stream",
     "text": [
      "run = 1, ‖Δβ‖ = 0.003459, ‖Δτ‖ = 0.421747, ‖ΔL‖ = 0.002492, status = Optimal, time(s) = 0.067161\n",
      "run = 2, ‖Δβ‖ = 0.001369, ‖Δτ‖ = 0.015998, ‖ΔL‖ = 0.003244, status = Optimal, time(s) = 0.057506\n"
     ]
    },
    {
     "data": {
      "text/plain": [
       "\n",
       "Within-subject variance estimation by robust regression (WiSER)\n",
       "\n",
       "Mean Formula:\n",
       "y ~ 1 + sex + onMeds\n",
       "Random Effects Formula:\n",
       "y ~ 1\n",
       "Within-Subject Variance Formula:\n",
       "y ~ 1 + sex + onMeds\n",
       "\n",
       "Number of individuals/clusters: 191\n",
       "Total observations: 1910\n",
       "\n",
       "Fixed-effects parameters:\n",
       "────────────────────────────────────────────────────────\n",
       "                  Estimate  Std. Error       Z  Pr(>|Z|)\n",
       "────────────────────────────────────────────────────────\n",
       "β1: (Intercept)  12.1708     0.18351     66.32    <1e-99\n",
       "β2: sex          -3.41012    0.253155   -13.47    <1e-40\n",
       "β3: onMeds        0.485447   0.0701423    6.92    <1e-11\n",
       "τ1: (Intercept)   0.774299   0.0849867    9.11    <1e-19\n",
       "τ2: sex          -0.524117   0.106719    -4.91    <1e-6\n",
       "τ3: onMeds        0.633337   0.0814974    7.77    <1e-14\n",
       "────────────────────────────────────────────────────────\n",
       "Random effects covariance matrix Σγ:\n",
       " \"γ1: (Intercept)\"  2.86452\n",
       "\n"
      ]
     },
     "execution_count": 72,
     "metadata": {},
     "output_type": "execute_result"
    }
   ],
   "source": [
    "vgwas(@formula(y ~ 1 + sex + onMeds),\n",
    "        @formula(y ~ 1),\n",
    "        @formula(y ~ 1 + sex + onMeds),\n",
    "        :id,\n",
    "        datadir * \"vgwas_vcfex.csv\",\n",
    "        datadir * \"test_vcf\",\n",
    "        pvalfile = pvalpath,\n",
    "        geneticformat = \"VCF\",\n",
    "        vcftype = :DS)"
   ]
  },
  {
   "cell_type": "code",
   "execution_count": 73,
   "metadata": {},
   "outputs": [
    {
     "data": {
      "text/html": [
       "<table class=\"data-frame\"><thead><tr><th></th><th>chr</th><th>pos</th><th>snpid</th><th>betapval</th><th>taupval</th><th>jointpval</th></tr><tr><th></th><th>Int64</th><th>Int64</th><th>String</th><th>Float64</th><th>Float64</th><th>Float64</th></tr></thead><tbody><p>8 rows × 6 columns</p><tr><th>1</th><td>22</td><td>20000086</td><td>rs138720731</td><td>0.322684</td><td>0.61956</td><td>0.593855</td></tr><tr><th>2</th><td>22</td><td>20000146</td><td>rs73387790</td><td>1.0</td><td>1.0</td><td>1.0</td></tr><tr><th>3</th><td>22</td><td>20000199</td><td>rs183293480</td><td>0.214207</td><td>0.190785</td><td>0.424942</td></tr><tr><th>4</th><td>22</td><td>20000291</td><td>rs185807825</td><td>0.292231</td><td>0.200029</td><td>0.387984</td></tr><tr><th>5</th><td>22</td><td>20000428</td><td>rs55902548</td><td>0.0140114</td><td>0.00369005</td><td>0.0059257</td></tr><tr><th>6</th><td>22</td><td>20000683</td><td>rs142720028</td><td>1.0</td><td>1.0</td><td>1.0</td></tr><tr><th>7</th><td>22</td><td>20000771</td><td>rs114690707</td><td>0.536406</td><td>0.145113</td><td>0.239854</td></tr><tr><th>8</th><td>22</td><td>20000793</td><td>rs189842693</td><td>0.161414</td><td>0.757017</td><td>0.271893</td></tr></tbody></table>"
      ],
      "text/latex": [
       "\\begin{tabular}{r|cccccc}\n",
       "\t& chr & pos & snpid & betapval & taupval & jointpval\\\\\n",
       "\t\\hline\n",
       "\t& Int64 & Int64 & String & Float64 & Float64 & Float64\\\\\n",
       "\t\\hline\n",
       "\t1 & 22 & 20000086 & rs138720731 & 0.322684 & 0.61956 & 0.593855 \\\\\n",
       "\t2 & 22 & 20000146 & rs73387790 & 1.0 & 1.0 & 1.0 \\\\\n",
       "\t3 & 22 & 20000199 & rs183293480 & 0.214207 & 0.190785 & 0.424942 \\\\\n",
       "\t4 & 22 & 20000291 & rs185807825 & 0.292231 & 0.200029 & 0.387984 \\\\\n",
       "\t5 & 22 & 20000428 & rs55902548 & 0.0140114 & 0.00369005 & 0.0059257 \\\\\n",
       "\t6 & 22 & 20000683 & rs142720028 & 1.0 & 1.0 & 1.0 \\\\\n",
       "\t7 & 22 & 20000771 & rs114690707 & 0.536406 & 0.145113 & 0.239854 \\\\\n",
       "\t8 & 22 & 20000793 & rs189842693 & 0.161414 & 0.757017 & 0.271893 \\\\\n",
       "\\end{tabular}\n"
      ],
      "text/plain": [
       "\u001b[1m8×6 DataFrame\u001b[0m\n",
       "\u001b[1m Row \u001b[0m│\u001b[1m chr   \u001b[0m\u001b[1m pos      \u001b[0m\u001b[1m snpid       \u001b[0m\u001b[1m betapval  \u001b[0m\u001b[1m taupval    \u001b[0m\u001b[1m jointpval \u001b[0m\n",
       "\u001b[1m     \u001b[0m│\u001b[90m Int64 \u001b[0m\u001b[90m Int64    \u001b[0m\u001b[90m String      \u001b[0m\u001b[90m Float64   \u001b[0m\u001b[90m Float64    \u001b[0m\u001b[90m Float64   \u001b[0m\n",
       "─────┼────────────────────────────────────────────────────────────────\n",
       "   1 │    22  20000086  rs138720731  0.322684   0.61956     0.593855\n",
       "   2 │    22  20000146  rs73387790   1.0        1.0         1.0\n",
       "   3 │    22  20000199  rs183293480  0.214207   0.190785    0.424942\n",
       "   4 │    22  20000291  rs185807825  0.292231   0.200029    0.387984\n",
       "   5 │    22  20000428  rs55902548   0.0140114  0.00369005  0.0059257\n",
       "   6 │    22  20000683  rs142720028  1.0        1.0         1.0\n",
       "   7 │    22  20000771  rs114690707  0.536406   0.145113    0.239854\n",
       "   8 │    22  20000793  rs189842693  0.161414   0.757017    0.271893"
      ]
     },
     "execution_count": 73,
     "metadata": {},
     "output_type": "execute_result"
    }
   ],
   "source": [
    "first(CSV.read(\"vgwas.pval.txt\", DataFrame), 8)"
   ]
  },
  {
   "cell_type": "markdown",
   "metadata": {},
   "source": [
    "## BGEN Formatted Files\n",
    "\n",
    "By default, vGWAS.jl will assume you are using PLINK files. It also supports BGEN Files. To use BGEN files in any of the analysis options detailed in this documentation, you simply need to add the following keyword option to the `vgwas` function:\n",
    "* `geneticformat`: Choices are \"VCF\" or \"PLINK\" or \"BGEN\". If you are using a BGEN file, use `geneticformat = \"BGEN\"`.\n",
    "\n",
    "Using a BGEN File does not output minor allele frequency or hardy weinberg equillibrium p-values for each SNP tested.\n",
    "\n",
    "Some features, such as SNP-set analyses, are only available when there's an indexing `.bgi` file available. Additionally, if the BGEN file does not contain sample information (i.e. sample IDs), then a sample file is necessary and its path can be specified with the `samplepath` keyword. \n",
    "\n",
    "!!! note\n",
    "\n",
    "    BGEN files can contain an optional index file (`.bgi` file) that allows the variants to be specified in order of position. vGWAS will automatically look for a file in the same directory as the `BGENFILENAME` with the name `BGENFILENAME.bgi`. The BGEN file is read either in the `.bgi` file order if `BGENFILENAME.bgi` is supplied in the same directory as the BGEN file, otherwise it will use the order in the BGEN file. This is important in analyses specifying `snpinds` as well as annotation groupings. You must make sure this matches the way the BGEN file will be read in. \n",
    "\n",
    "The following shows how to run an analysis with a BGEN file using the dosage information. "
   ]
  },
  {
   "cell_type": "code",
   "execution_count": 5,
   "metadata": {},
   "outputs": [
    {
     "name": "stdout",
     "output_type": "stream",
     "text": [
      "run = 1, ‖Δβ‖ = 0.096578, ‖Δτ‖ = 0.162563, ‖ΔL‖ = 0.007625, status = Optimal, time(s) = 0.195432\n",
      "run = 2, ‖Δβ‖ = 0.003173, ‖Δτ‖ = 0.005584, ‖ΔL‖ = 0.001468, status = Optimal, time(s) = 0.145392\n"
     ]
    },
    {
     "data": {
      "text/plain": [
       "\n",
       "Within-subject variance estimation by robust regression (WiSER)\n",
       "\n",
       "Mean Formula:\n",
       "y ~ 1 + sex + onMeds\n",
       "Random Effects Formula:\n",
       "y ~ 1\n",
       "Within-Subject Variance Formula:\n",
       "y ~ 1 + sex + onMeds\n",
       "\n",
       "Number of individuals/clusters: 500\n",
       "Total observations: 5000\n",
       "\n",
       "Fixed-effects parameters:\n",
       "────────────────────────────────────────────────────────\n",
       "                  Estimate  Std. Error       Z  Pr(>|Z|)\n",
       "────────────────────────────────────────────────────────\n",
       "β1: (Intercept)  10.5275     0.0992675  106.05    <1e-99\n",
       "β2: sex          -3.38067    0.146416   -23.09    <1e-99\n",
       "β3: onMeds        0.522162   0.0358727   14.56    <1e-47\n",
       "τ1: (Intercept)   0.294364   0.0443191    6.64    <1e-10\n",
       "τ2: sex          -0.365009   0.0503589   -7.25    <1e-12\n",
       "τ3: onMeds        0.559769   0.0467046   11.99    <1e-32\n",
       "────────────────────────────────────────────────────────\n",
       "Random effects covariance matrix Σγ:\n",
       " \"γ1: (Intercept)\"  2.51561\n",
       "\n"
      ]
     },
     "execution_count": 5,
     "metadata": {},
     "output_type": "execute_result"
    }
   ],
   "source": [
    "vgwas(@formula(y ~ 1 + sex + onMeds),\n",
    "        @formula(y ~ 1),\n",
    "        @formula(y ~ 1 + sex + onMeds),\n",
    "        :id, \n",
    "        datadir * \"vgwas_bgen_ex.csv\", \n",
    "        datadir * \"example.8bits\", \n",
    "        geneticformat = \"BGEN\", \n",
    "        pvalfile = pvalpath)"
   ]
  },
  {
   "cell_type": "code",
   "execution_count": 6,
   "metadata": {},
   "outputs": [
    {
     "data": {
      "text/html": [
       "<table class=\"data-frame\"><thead><tr><th></th><th>chr</th><th>pos</th><th>snpid</th><th>varid</th><th>betapval</th><th>taupval</th><th>jointpval</th></tr><tr><th></th><th>Int64</th><th>Int64</th><th>String</th><th>String</th><th>Float64</th><th>Float64</th><th>Float64</th></tr></thead><tbody><p>8 rows × 7 columns</p><tr><th>1</th><td>1</td><td>1001</td><td>RSID_101</td><td>SNPID_101</td><td>0.510629</td><td>0.425112</td><td>0.601078</td></tr><tr><th>2</th><td>1</td><td>2000</td><td>RSID_2</td><td>SNPID_2</td><td>4.61579e-10</td><td>1.52897e-21</td><td>1.70132e-24</td></tr><tr><th>3</th><td>1</td><td>2001</td><td>RSID_102</td><td>SNPID_102</td><td>4.49315e-10</td><td>1.8004e-21</td><td>2.00297e-24</td></tr><tr><th>4</th><td>1</td><td>3000</td><td>RSID_3</td><td>SNPID_3</td><td>0.0721822</td><td>0.600949</td><td>0.188409</td></tr><tr><th>5</th><td>1</td><td>3001</td><td>RSID_103</td><td>SNPID_103</td><td>0.0721821</td><td>0.600949</td><td>0.188409</td></tr><tr><th>6</th><td>1</td><td>4000</td><td>RSID_4</td><td>SNPID_4</td><td>0.112472</td><td>0.133752</td><td>0.078067</td></tr><tr><th>7</th><td>1</td><td>4001</td><td>RSID_104</td><td>SNPID_104</td><td>0.112471</td><td>0.133752</td><td>0.078067</td></tr><tr><th>8</th><td>1</td><td>5000</td><td>RSID_5</td><td>SNPID_5</td><td>0.526325</td><td>0.542332</td><td>0.675825</td></tr></tbody></table>"
      ],
      "text/latex": [
       "\\begin{tabular}{r|ccccccc}\n",
       "\t& chr & pos & snpid & varid & betapval & taupval & jointpval\\\\\n",
       "\t\\hline\n",
       "\t& Int64 & Int64 & String & String & Float64 & Float64 & Float64\\\\\n",
       "\t\\hline\n",
       "\t1 & 1 & 1001 & RSID\\_101 & SNPID\\_101 & 0.510629 & 0.425112 & 0.601078 \\\\\n",
       "\t2 & 1 & 2000 & RSID\\_2 & SNPID\\_2 & 4.61579e-10 & 1.52897e-21 & 1.70132e-24 \\\\\n",
       "\t3 & 1 & 2001 & RSID\\_102 & SNPID\\_102 & 4.49315e-10 & 1.8004e-21 & 2.00297e-24 \\\\\n",
       "\t4 & 1 & 3000 & RSID\\_3 & SNPID\\_3 & 0.0721822 & 0.600949 & 0.188409 \\\\\n",
       "\t5 & 1 & 3001 & RSID\\_103 & SNPID\\_103 & 0.0721821 & 0.600949 & 0.188409 \\\\\n",
       "\t6 & 1 & 4000 & RSID\\_4 & SNPID\\_4 & 0.112472 & 0.133752 & 0.078067 \\\\\n",
       "\t7 & 1 & 4001 & RSID\\_104 & SNPID\\_104 & 0.112471 & 0.133752 & 0.078067 \\\\\n",
       "\t8 & 1 & 5000 & RSID\\_5 & SNPID\\_5 & 0.526325 & 0.542332 & 0.675825 \\\\\n",
       "\\end{tabular}\n"
      ],
      "text/plain": [
       "\u001b[1m8×7 DataFrame\u001b[0m\n",
       "\u001b[1m Row \u001b[0m│\u001b[1m chr   \u001b[0m\u001b[1m pos   \u001b[0m\u001b[1m snpid    \u001b[0m\u001b[1m varid     \u001b[0m\u001b[1m betapval    \u001b[0m\u001b[1m taupval     \u001b[0m\u001b[1m jointpval   \u001b[0m\n",
       "\u001b[1m     \u001b[0m│\u001b[90m Int64 \u001b[0m\u001b[90m Int64 \u001b[0m\u001b[90m String   \u001b[0m\u001b[90m String    \u001b[0m\u001b[90m Float64     \u001b[0m\u001b[90m Float64     \u001b[0m\u001b[90m Float64     \u001b[0m\n",
       "─────┼──────────────────────────────────────────────────────────────────────────\n",
       "   1 │     1   1001  RSID_101  SNPID_101  0.510629     0.425112     0.601078\n",
       "   2 │     1   2000  RSID_2    SNPID_2    4.61579e-10  1.52897e-21  1.70132e-24\n",
       "   3 │     1   2001  RSID_102  SNPID_102  4.49315e-10  1.8004e-21   2.00297e-24\n",
       "   4 │     1   3000  RSID_3    SNPID_3    0.0721822    0.600949     0.188409\n",
       "   5 │     1   3001  RSID_103  SNPID_103  0.0721821    0.600949     0.188409\n",
       "   6 │     1   4000  RSID_4    SNPID_4    0.112472     0.133752     0.078067\n",
       "   7 │     1   4001  RSID_104  SNPID_104  0.112471     0.133752     0.078067\n",
       "   8 │     1   5000  RSID_5    SNPID_5    0.526325     0.542332     0.675825"
      ]
     },
     "execution_count": 6,
     "metadata": {},
     "output_type": "execute_result"
    }
   ],
   "source": [
    "first(CSV.read(\"vgwas.pval.txt\", DataFrame), 8)"
   ]
  },
  {
   "cell_type": "markdown",
   "metadata": {},
   "source": [
    "## SNP models\n",
    "\n",
    "Genotypes are translated into numeric values according to different genetic model, which is specified by the `snpmodel` keyword. Default is `ADDITIVE_MODEL`.\n",
    "\n",
    "| Genotype | `SnpArray` | `ADDITIVE_MODEL` | `DOMINANT_MODEL` | `RECESSIVE_MODEL` |    \n",
    "|:---:|:---:|:---:|:---:|:---:|  \n",
    "| A1,A1 | 0x00 | 0 | 0 | 0 |  \n",
    "| missing | 0x01 | NaN | NaN | NaN |\n",
    "| A1,A2 | 0x02 | 1 | 1 | 0 |  \n",
    "| A2,A2 | 0x03 | 2 | 1 | 1 |  \n",
    "\n",
    "!!! note\n",
    "\n",
    "    `vgwas` imputes missing genotypes according to minor allele frequencies. \n",
    "    \n",
    "Users are advised to impute genotypes using more sophiscated methods before GWAS."
   ]
  },
  {
   "cell_type": "markdown",
   "metadata": {},
   "source": [
    "## SNP and/or sample masks\n",
    "\n",
    "In practice, we often perform GWAS on selected SNPs and/or selected samples. They can be specified by the `snpinds`, `covrowinds` and `geneticrowinds` keywords of `vGWAS` function. \n",
    "\n",
    "For example, to perform GWAS on SNPs with minor allele frequency (MAF) above 0.05"
   ]
  },
  {
   "cell_type": "code",
   "execution_count": 8,
   "metadata": {},
   "outputs": [
    {
     "name": "stdout",
     "output_type": "stream",
     "text": [
      "run = 1, ‖Δβ‖ = 0.037090, ‖Δτ‖ = 0.136339, ‖ΔL‖ = 0.005441, status = Optimal, time(s) = 0.194672\n",
      "run = 2, ‖Δβ‖ = 0.000913, ‖Δτ‖ = 0.019810, ‖ΔL‖ = 0.001582, status = Optimal, time(s) = 0.155585\n",
      " 14.356801 seconds (28.98 M allocations: 1.466 GiB, 5.11% gc time)\n"
     ]
    },
    {
     "data": {
      "text/plain": [
       "\n",
       "Within-subject variance estimation by robust regression (WiSER)\n",
       "\n",
       "Mean Formula:\n",
       "y ~ 1 + sex + onMeds\n",
       "Random Effects Formula:\n",
       "y ~ 1\n",
       "Within-Subject Variance Formula:\n",
       "y ~ 1 + sex + onMeds\n",
       "\n",
       "Number of individuals/clusters: 324\n",
       "Total observations: 3240\n",
       "\n",
       "Fixed-effects parameters:\n",
       "────────────────────────────────────────────────────────\n",
       "                  Estimate  Std. Error       Z  Pr(>|Z|)\n",
       "────────────────────────────────────────────────────────\n",
       "β1: (Intercept)  13.2282     0.146459    90.32    <1e-99\n",
       "β2: sex          -3.29295    0.2101     -15.67    <1e-54\n",
       "β3: onMeds        0.459585   0.0596002    7.71    <1e-13\n",
       "τ1: (Intercept)   0.792508   0.0850728    9.32    <1e-19\n",
       "τ2: sex          -0.2865     0.0970732   -2.95    0.0032\n",
       "τ3: onMeds        0.422303   0.063825     6.62    <1e-10\n",
       "────────────────────────────────────────────────────────\n",
       "Random effects covariance matrix Σγ:\n",
       " \"γ1: (Intercept)\"  3.32057\n",
       "\n"
      ]
     },
     "execution_count": 8,
     "metadata": {},
     "output_type": "execute_result"
    }
   ],
   "source": [
    "# create SNP mask\n",
    "snpinds = maf(SnpArray(\"../data/hapmap3.bed\")) .≥ 0.05\n",
    "# GWAS on selected SNPs\n",
    "@time vgwas(@formula(y ~ 1 + sex + onMeds),\n",
    "        @formula(y ~ 1),\n",
    "        @formula(y ~ 1 + sex + onMeds),\n",
    "        :id,\n",
    "        datadir * \"vgwas_plinkex.csv\",\n",
    "        datadir * \"hapmap3\",\n",
    "        pvalfile = \"commonvariant.pval.txt\",\n",
    "        snpinds = snpinds)"
   ]
  },
  {
   "cell_type": "code",
   "execution_count": 9,
   "metadata": {},
   "outputs": [
    {
     "name": "stdout",
     "output_type": "stream",
     "text": [
      "chr\tpos\tsnpid\tmaf\thwepval\tbetapval\ttaupval\tjointpval\n",
      "1\t758311\trs12562034\t0.07763975155279501\t0.4098763332666681\t0.38938987159564675\t0.9228220976232299\t0.689844925654112\n",
      "1\t967643\trs2710875\t0.32407407407407407\t4.076249100705747e-7\t5.838562452891218e-6\t3.354075049151564e-6\t1.150102626573041e-6\n",
      "1\t1168108\trs11260566\t0.19158878504672894\t0.1285682279446898\t0.000850889425950933\t0.05590549977468809\t0.0007396374017787817\n",
      "1\t1375074\trs1312568\t0.441358024691358\t2.5376019650614977e-19\t0.00017168324418138272\t1.8481146312335492e-13\t4.626028588457252e-14\n",
      "1\t1990452\trs2678939\t0.4537037037037037\t5.07695957708431e-11\t1.2787095295892262e-7\t7.738089147582373e-9\t1.5697329864658462e-9\n",
      "1\t2194615\trs7553178\t0.22685185185185186\t0.17056143157457776\t0.07404001756947043\t0.00023109048716815853\t0.00015039840819071202\n",
      "1\t2396747\trs13376356\t0.1448598130841121\t0.9053079215078139\t0.4897208868010412\t0.6595593862223351\t0.7352162221637434\n",
      "1\t2823603\trs1563468\t0.4830246913580247\t4.23065537243926e-9\t2.581476982676445e-7\t1.1700736777037784e-8\t2.3113980131157045e-9\n",
      "1\t3025087\trs6690373\t0.2538699690402477\t9.238641887192776e-8\t3.111965106232477e-5\t2.0479935907553838e-7\t7.847732200707722e-8\n"
     ]
    }
   ],
   "source": [
    "run(`head commonvariant.pval.txt`);"
   ]
  },
  {
   "cell_type": "code",
   "execution_count": 10,
   "metadata": {},
   "outputs": [
    {
     "data": {
      "text/plain": [
       "(12086, 12085)"
      ]
     },
     "execution_count": 10,
     "metadata": {},
     "output_type": "execute_result"
    }
   ],
   "source": [
    "# extra header line in commonvariant.pval.txt\n",
    "countlines(\"commonvariant.pval.txt\"), count(snpinds)"
   ]
  },
  {
   "cell_type": "code",
   "execution_count": 15,
   "metadata": {},
   "outputs": [],
   "source": [
    "# clean up\n",
    "rm(\"vgwas.null.txt\", force=true)\n",
    "rm(\"commonvariant.pval.txt\", force=true)"
   ]
  },
  {
   "cell_type": "markdown",
   "metadata": {},
   "source": [
    "`covrowinds` specify the samples in the covariate file and `geneticrowinds` for PLINK or VCF File. User should be particularly careful when using these two keyword. Selected rows in SnpArray should exactly match the samples in the null model. Otherwise the results are meaningless."
   ]
  },
  {
   "cell_type": "markdown",
   "metadata": {},
   "source": [
    "## Estimating Effect Sizes (Wald)\n",
    "\n",
    "By default, `vgwas` calculates p-value for each SNP using SPA/score test. Score test is fast because it doesn't require fitting alternative model for each SNP. User can request the Wald p-values and the estimated effect size of each SNP using keyword `test=:wald`. Wald is much slower but will give you estimated effect sizes from the WiSER model."
   ]
  },
  {
   "cell_type": "code",
   "execution_count": 19,
   "metadata": {},
   "outputs": [
    {
     "name": "stdout",
     "output_type": "stream",
     "text": [
      "run = 1, ‖Δβ‖ = 0.037090, ‖Δτ‖ = 0.136339, ‖ΔL‖ = 0.005441, status = Optimal, time(s) = 0.161760\n",
      "run = 2, ‖Δβ‖ = 0.000913, ‖Δτ‖ = 0.019810, ‖ΔL‖ = 0.001582, status = Optimal, time(s) = 0.135861\n",
      "run = 1, ‖Δβ‖ = 0.033243, ‖Δτ‖ = 0.146511, ‖ΔL‖ = 0.005476, status = Optimal, time(s) = 0.206452\n",
      "run = 2, ‖Δβ‖ = 0.005774, ‖Δτ‖ = 0.042246, ‖ΔL‖ = 0.001784, status = Optimal, time(s) = 0.192730\n",
      "run = 1, ‖Δβ‖ = 0.013090, ‖Δτ‖ = 0.130781, ‖ΔL‖ = 0.005011, status = Optimal, time(s) = 0.214504\n",
      "run = 2, ‖Δβ‖ = 0.003913, ‖Δτ‖ = 0.037309, ‖ΔL‖ = 0.001516, status = Optimal, time(s) = 0.193909\n",
      "run = 1, ‖Δβ‖ = 0.022159, ‖Δτ‖ = 0.141135, ‖ΔL‖ = 0.005554, status = Optimal, time(s) = 0.181490\n",
      "run = 2, ‖Δβ‖ = 0.001482, ‖Δτ‖ = 0.021700, ‖ΔL‖ = 0.001435, status = Optimal, time(s) = 0.166887\n",
      "run = 1, ‖Δβ‖ = 0.026764, ‖Δτ‖ = 0.368620, ‖ΔL‖ = 0.000317, status = Optimal, time(s) = 0.166970\n",
      "run = 2, ‖Δβ‖ = 0.003023, ‖Δτ‖ = 0.030938, ‖ΔL‖ = 0.003568, status = Optimal, time(s) = 0.169333\n",
      "  2.035903 seconds (456.79 k allocations: 44.250 MiB)\n"
     ]
    },
    {
     "data": {
      "text/plain": [
       "\n",
       "Within-subject variance estimation by robust regression (WiSER)\n",
       "\n",
       "Mean Formula:\n",
       "y ~ 1 + sex + onMeds\n",
       "Random Effects Formula:\n",
       "y ~ 1\n",
       "Within-Subject Variance Formula:\n",
       "y ~ 1 + sex + onMeds\n",
       "\n",
       "Number of individuals/clusters: 324\n",
       "Total observations: 3240\n",
       "\n",
       "Fixed-effects parameters:\n",
       "────────────────────────────────────────────────────────\n",
       "                  Estimate  Std. Error       Z  Pr(>|Z|)\n",
       "────────────────────────────────────────────────────────\n",
       "β1: (Intercept)  13.2282     0.146459    90.32    <1e-99\n",
       "β2: sex          -3.29295    0.2101     -15.67    <1e-54\n",
       "β3: onMeds        0.459585   0.0596002    7.71    <1e-13\n",
       "τ1: (Intercept)   0.792508   0.0850728    9.32    <1e-19\n",
       "τ2: sex          -0.2865     0.0970732   -2.95    0.0032\n",
       "τ3: onMeds        0.422303   0.063825     6.62    <1e-10\n",
       "────────────────────────────────────────────────────────\n",
       "Random effects covariance matrix Σγ:\n",
       " \"γ1: (Intercept)\"  3.32057\n",
       "\n"
      ]
     },
     "execution_count": 19,
     "metadata": {},
     "output_type": "execute_result"
    }
   ],
   "source": [
    "@time vgwas(@formula(y ~ 1 + sex + onMeds),\n",
    "        @formula(y ~ 1),\n",
    "        @formula(y ~ 1 + sex + onMeds),\n",
    "        :id,\n",
    "        datadir * \"vgwas_plinkex.csv\",\n",
    "        datadir * \"hapmap3\",\n",
    "        pvalfile = \"wald.pval.txt\",\n",
    "        snpinds = 1:5,\n",
    "        test = :wald)"
   ]
  },
  {
   "cell_type": "markdown",
   "metadata": {},
   "source": [
    "Note the extra `effect` column in pvalfile, which is the effect size (regression coefficient) for each SNP. "
   ]
  },
  {
   "cell_type": "code",
   "execution_count": 30,
   "metadata": {},
   "outputs": [
    {
     "name": "stdout",
     "output_type": "stream",
     "text": [
      "chr,pos,snpid,maf,hwepval,effect,pval\n",
      "1,554484,rs10458597,0.0,1.0,0.0,1.0\n",
      "1,758311,rs12562034,0.07763975155279501,0.4098763332666681,-1.005783371954433,0.0019185836579805327\n",
      "1,967643,rs2710875,0.32407407407407407,4.076249100705747e-7,-0.648856056629187,1.805050556976241e-5\n",
      "1,1168108,rs11260566,0.19158878504672894,0.1285682279446898,-0.9157225669357901,5.8733847126869666e-6\n",
      "1,1375074,rs1312568,0.441358024691358,2.5376019650614977e-19,-0.3318136652577225,0.008081022577828709\n",
      "1,1588771,rs35154105,0.0,1.0,0.0,1.0\n",
      "1,1789051,rs16824508,0.00462962962962965,0.9332783156468178,-0.7338026388700143,0.5169027130145593\n",
      "1,1990452,rs2678939,0.4537037037037037,5.07695957708431e-11,-0.1358649923181975,0.2994640220091515\n",
      "1,2194615,rs7553178,0.22685185185185186,0.17056143157457776,-0.2512075640440123,0.1615106909444108\n"
     ]
    }
   ],
   "source": [
    "run(`head wald.pval.txt`);"
   ]
  },
  {
   "cell_type": "code",
   "execution_count": 20,
   "metadata": {},
   "outputs": [],
   "source": [
    "# clean up\n",
    "rm(\"wald.pval.txt\", force=true)\n",
    "rm(\"vgwas.null.txt\", force=true)"
   ]
  },
  {
   "cell_type": "markdown",
   "metadata": {},
   "source": [
    "## Score test for screening, Wald for effect size estimates \n",
    "\n",
    "For large data sets, a practical solution is to perform the score test first across all SNPs, then re-do Wald for the most promising SNPs according to score test p-values in order to get estimated effect sizes.\n",
    "\n",
    "**Step 1**: Perform score test GWAS, results in `score.pval.txt`."
   ]
  },
  {
   "cell_type": "code",
   "execution_count": 70,
   "metadata": {},
   "outputs": [
    {
     "name": "stdout",
     "output_type": "stream",
     "text": [
      "run = 1, ‖Δβ‖ = 0.037090, ‖Δτ‖ = 0.136339, ‖ΔL‖ = 0.005441, status = Optimal, time(s) = 0.176625\n",
      "run = 2, ‖Δβ‖ = 0.000913, ‖Δτ‖ = 0.019810, ‖ΔL‖ = 0.001582, status = Optimal, time(s) = 0.138581\n",
      "  2.666877 seconds (7.11 M allocations: 461.688 MiB, 4.68% gc time)\n"
     ]
    },
    {
     "data": {
      "text/plain": [
       "\n",
       "Within-subject variance estimation by robust regression (WiSER)\n",
       "\n",
       "Mean Formula:\n",
       "y ~ 1 + sex + onMeds\n",
       "Random Effects Formula:\n",
       "y ~ 1\n",
       "Within-Subject Variance Formula:\n",
       "y ~ 1 + sex + onMeds\n",
       "\n",
       "Number of individuals/clusters: 324\n",
       "Total observations: 3240\n",
       "\n",
       "Fixed-effects parameters:\n",
       "────────────────────────────────────────────────────────\n",
       "                  Estimate  Std. Error       Z  Pr(>|Z|)\n",
       "────────────────────────────────────────────────────────\n",
       "β1: (Intercept)  13.2282     0.146459    90.32    <1e-99\n",
       "β2: sex          -3.29295    0.2101     -15.67    <1e-54\n",
       "β3: onMeds        0.459585   0.0596002    7.71    <1e-13\n",
       "τ1: (Intercept)   0.792508   0.0850728    9.32    <1e-19\n",
       "τ2: sex          -0.2865     0.0970732   -2.95    0.0032\n",
       "τ3: onMeds        0.422303   0.063825     6.62    <1e-10\n",
       "────────────────────────────────────────────────────────\n",
       "Random effects covariance matrix Σγ:\n",
       " \"γ1: (Intercept)\"  3.32057\n",
       "\n"
      ]
     },
     "execution_count": 70,
     "metadata": {},
     "output_type": "execute_result"
    }
   ],
   "source": [
    "@time vgwas(@formula(y ~ 1 + sex + onMeds),\n",
    "        @formula(y ~ 1),\n",
    "        @formula(y ~ 1 + sex + onMeds),\n",
    "        :id,\n",
    "        datadir * \"vgwas_plinkex.csv\",\n",
    "        datadir * \"hapmap3\",\n",
    "        pvalfile = \"score.pval.txt\")"
   ]
  },
  {
   "cell_type": "code",
   "execution_count": 71,
   "metadata": {},
   "outputs": [
    {
     "data": {
      "text/html": [
       "<table class=\"data-frame\"><thead><tr><th></th><th>chr</th><th>pos</th><th>snpid</th><th>maf</th><th>hwepval</th><th>betapval</th><th>taupval</th><th>jointpval</th></tr><tr><th></th><th>Int64</th><th>Int64</th><th>String</th><th>Float64</th><th>Float64</th><th>Float64</th><th>Float64</th><th>Float64</th></tr></thead><tbody><p>8 rows × 8 columns</p><tr><th>1</th><td>1</td><td>554484</td><td>rs10458597</td><td>0.0</td><td>1.0</td><td>1.0</td><td>1.0</td><td>1.0</td></tr><tr><th>2</th><td>1</td><td>758311</td><td>rs12562034</td><td>0.0776398</td><td>0.409876</td><td>0.38939</td><td>0.922822</td><td>0.689845</td></tr><tr><th>3</th><td>1</td><td>967643</td><td>rs2710875</td><td>0.324074</td><td>4.07625e-7</td><td>5.83856e-6</td><td>3.35408e-6</td><td>1.1501e-6</td></tr><tr><th>4</th><td>1</td><td>1168108</td><td>rs11260566</td><td>0.191589</td><td>0.128568</td><td>0.000850889</td><td>0.0559055</td><td>0.000739637</td></tr><tr><th>5</th><td>1</td><td>1375074</td><td>rs1312568</td><td>0.441358</td><td>2.5376e-19</td><td>0.000171683</td><td>1.84811e-13</td><td>4.62603e-14</td></tr><tr><th>6</th><td>1</td><td>1588771</td><td>rs35154105</td><td>0.0</td><td>1.0</td><td>1.0</td><td>1.0</td><td>1.0</td></tr><tr><th>7</th><td>1</td><td>1789051</td><td>rs16824508</td><td>0.00462963</td><td>0.933278</td><td>0.295035</td><td>0.304109</td><td>0.260174</td></tr><tr><th>8</th><td>1</td><td>1990452</td><td>rs2678939</td><td>0.453704</td><td>5.07696e-11</td><td>1.27871e-7</td><td>7.73809e-9</td><td>1.56973e-9</td></tr></tbody></table>"
      ],
      "text/latex": [
       "\\begin{tabular}{r|cccccccc}\n",
       "\t& chr & pos & snpid & maf & hwepval & betapval & taupval & jointpval\\\\\n",
       "\t\\hline\n",
       "\t& Int64 & Int64 & String & Float64 & Float64 & Float64 & Float64 & Float64\\\\\n",
       "\t\\hline\n",
       "\t1 & 1 & 554484 & rs10458597 & 0.0 & 1.0 & 1.0 & 1.0 & 1.0 \\\\\n",
       "\t2 & 1 & 758311 & rs12562034 & 0.0776398 & 0.409876 & 0.38939 & 0.922822 & 0.689845 \\\\\n",
       "\t3 & 1 & 967643 & rs2710875 & 0.324074 & 4.07625e-7 & 5.83856e-6 & 3.35408e-6 & 1.1501e-6 \\\\\n",
       "\t4 & 1 & 1168108 & rs11260566 & 0.191589 & 0.128568 & 0.000850889 & 0.0559055 & 0.000739637 \\\\\n",
       "\t5 & 1 & 1375074 & rs1312568 & 0.441358 & 2.5376e-19 & 0.000171683 & 1.84811e-13 & 4.62603e-14 \\\\\n",
       "\t6 & 1 & 1588771 & rs35154105 & 0.0 & 1.0 & 1.0 & 1.0 & 1.0 \\\\\n",
       "\t7 & 1 & 1789051 & rs16824508 & 0.00462963 & 0.933278 & 0.295035 & 0.304109 & 0.260174 \\\\\n",
       "\t8 & 1 & 1990452 & rs2678939 & 0.453704 & 5.07696e-11 & 1.27871e-7 & 7.73809e-9 & 1.56973e-9 \\\\\n",
       "\\end{tabular}\n"
      ],
      "text/plain": [
       "\u001b[1m8×8 DataFrame\u001b[0m\n",
       "\u001b[1m Row \u001b[0m│\u001b[1m chr   \u001b[0m\u001b[1m pos     \u001b[0m\u001b[1m snpid      \u001b[0m\u001b[1m maf        \u001b[0m\u001b[1m hwepval     \u001b[0m\u001b[1m betapval    \u001b[0m\u001b[1m taupval     \u001b[0m\u001b[1m jointpval   \u001b[0m\n",
       "\u001b[1m     \u001b[0m│\u001b[90m Int64 \u001b[0m\u001b[90m Int64   \u001b[0m\u001b[90m String     \u001b[0m\u001b[90m Float64    \u001b[0m\u001b[90m Float64     \u001b[0m\u001b[90m Float64     \u001b[0m\u001b[90m Float64     \u001b[0m\u001b[90m Float64     \u001b[0m\n",
       "─────┼────────────────────────────────────────────────────────────────────────────────────────────\n",
       "   1 │     1   554484  rs10458597  0.0         1.0          1.0          1.0          1.0\n",
       "   2 │     1   758311  rs12562034  0.0776398   0.409876     0.38939      0.922822     0.689845\n",
       "   3 │     1   967643  rs2710875   0.324074    4.07625e-7   5.83856e-6   3.35408e-6   1.1501e-6\n",
       "   4 │     1  1168108  rs11260566  0.191589    0.128568     0.000850889  0.0559055    0.000739637\n",
       "   5 │     1  1375074  rs1312568   0.441358    2.5376e-19   0.000171683  1.84811e-13  4.62603e-14\n",
       "   6 │     1  1588771  rs35154105  0.0         1.0          1.0          1.0          1.0\n",
       "   7 │     1  1789051  rs16824508  0.00462963  0.933278     0.295035     0.304109     0.260174\n",
       "   8 │     1  1990452  rs2678939   0.453704    5.07696e-11  1.27871e-7   7.73809e-9   1.56973e-9"
      ]
     },
     "execution_count": 71,
     "metadata": {},
     "output_type": "execute_result"
    }
   ],
   "source": [
    "first(CSV.read(\"score.pval.txt\", DataFrame), 8)"
   ]
  },
  {
   "cell_type": "markdown",
   "metadata": {},
   "source": [
    "**Step 2**: Sort score test p-values and find top 10 SNPs."
   ]
  },
  {
   "cell_type": "code",
   "execution_count": 23,
   "metadata": {},
   "outputs": [
    {
     "data": {
      "text/plain": [
       "10-element Array{Float64,1}:\n",
       " 7.872202557706978e-17\n",
       " 1.8481146312335492e-13\n",
       " 1.4978681413694476e-12\n",
       " 9.730062616490623e-12\n",
       " 1.2892059340654512e-11\n",
       " 1.484463866022607e-11\n",
       " 1.5167114834216833e-11\n",
       " 1.876125621826194e-11\n",
       " 2.349135295865958e-11\n",
       " 2.6075629334507774e-11"
      ]
     },
     "execution_count": 23,
     "metadata": {},
     "output_type": "execute_result"
    }
   ],
   "source": [
    "scorepvals = CSV.read(\"score.pval.txt\", DataFrame)[!, :taupval] # tau p-values \n",
    "tophits = sortperm(scorepvals)[1:10] # indices of 10 SNPs with smallest p-values\n",
    "scorepvals[tophits] # smallest 10 p-values"
   ]
  },
  {
   "cell_type": "markdown",
   "metadata": {},
   "source": [
    "**Step 3**: Re-do LRT on top hits."
   ]
  },
  {
   "cell_type": "code",
   "execution_count": 33,
   "metadata": {},
   "outputs": [
    {
     "name": "stdout",
     "output_type": "stream",
     "text": [
      "run = 1, ‖Δβ‖ = 0.037090, ‖Δτ‖ = 0.136339, ‖ΔL‖ = 0.005441, status = Optimal, time(s) = 0.185237\n",
      "run = 2, ‖Δβ‖ = 0.000913, ‖Δτ‖ = 0.019810, ‖ΔL‖ = 0.001582, status = Optimal, time(s) = 0.141060\n",
      "run = 1, ‖Δβ‖ = 0.026764, ‖Δτ‖ = 0.368620, ‖ΔL‖ = 0.000317, status = Optimal, time(s) = 0.205915\n",
      "run = 2, ‖Δβ‖ = 0.003023, ‖Δτ‖ = 0.030938, ‖ΔL‖ = 0.003568, status = Optimal, time(s) = 0.166922\n",
      "run = 1, ‖Δβ‖ = 0.039946, ‖Δτ‖ = 0.185049, ‖ΔL‖ = 0.005690, status = Optimal, time(s) = 0.179834\n",
      "run = 2, ‖Δβ‖ = 0.001640, ‖Δτ‖ = 0.029639, ‖ΔL‖ = 0.002028, status = Optimal, time(s) = 0.172222\n",
      "run = 1, ‖Δβ‖ = 0.040207, ‖Δτ‖ = 0.407863, ‖ΔL‖ = 0.001924, status = Optimal, time(s) = 0.172358\n",
      "run = 2, ‖Δβ‖ = 0.002632, ‖Δτ‖ = 0.039609, ‖ΔL‖ = 0.005131, status = Optimal, time(s) = 0.176678\n",
      "run = 1, ‖Δβ‖ = 0.052372, ‖Δτ‖ = 0.828946, ‖ΔL‖ = 0.001277, status = Optimal, time(s) = 0.214144\n",
      "run = 2, ‖Δβ‖ = 0.013694, ‖Δτ‖ = 0.185493, ‖ΔL‖ = 0.007118, status = Optimal, time(s) = 0.182617\n",
      "run = 1, ‖Δβ‖ = 0.032435, ‖Δτ‖ = 0.199659, ‖ΔL‖ = 0.004973, status = Optimal, time(s) = 0.172768\n",
      "run = 2, ‖Δβ‖ = 0.002847, ‖Δτ‖ = 0.032438, ‖ΔL‖ = 0.002941, status = Optimal, time(s) = 0.182617\n",
      "run = 1, ‖Δβ‖ = 0.009362, ‖Δτ‖ = 0.625969, ‖ΔL‖ = 0.002237, status = Optimal, time(s) = 0.210145\n",
      "run = 2, ‖Δβ‖ = 0.005893, ‖Δτ‖ = 0.176417, ‖ΔL‖ = 0.005017, status = Optimal, time(s) = 0.203217\n",
      "run = 1, ‖Δβ‖ = 0.012805, ‖Δτ‖ = 0.243313, ‖ΔL‖ = 0.006289, status = Optimal, time(s) = 0.203942\n",
      "run = 2, ‖Δβ‖ = 0.002636, ‖Δτ‖ = 0.044210, ‖ΔL‖ = 0.003312, status = Optimal, time(s) = 0.201795\n",
      "run = 1, ‖Δβ‖ = 0.014062, ‖Δτ‖ = 0.225841, ‖ΔL‖ = 0.003899, status = Optimal, time(s) = 0.200849\n",
      "run = 2, ‖Δβ‖ = 0.002112, ‖Δτ‖ = 0.030955, ‖ΔL‖ = 0.003860, status = Optimal, time(s) = 0.190436\n",
      "run = 1, ‖Δβ‖ = 0.026425, ‖Δτ‖ = 0.258805, ‖ΔL‖ = 0.004204, status = Optimal, time(s) = 0.209731\n",
      "run = 2, ‖Δβ‖ = 0.001090, ‖Δτ‖ = 0.051281, ‖ΔL‖ = 0.003822, status = Optimal, time(s) = 0.197667\n",
      "run = 1, ‖Δβ‖ = 0.035737, ‖Δτ‖ = 0.174702, ‖ΔL‖ = 0.001439, status = Optimal, time(s) = 0.199694\n",
      "run = 2, ‖Δβ‖ = 0.004776, ‖Δτ‖ = 0.019790, ‖ΔL‖ = 0.001867, status = Optimal, time(s) = 0.184595\n",
      "  4.680844 seconds (938.18 k allocations: 93.700 MiB, 0.77% gc time)\n"
     ]
    },
    {
     "data": {
      "text/plain": [
       "\n",
       "Within-subject variance estimation by robust regression (WiSER)\n",
       "\n",
       "Mean Formula:\n",
       "y ~ 1 + sex + onMeds\n",
       "Random Effects Formula:\n",
       "y ~ 1\n",
       "Within-Subject Variance Formula:\n",
       "y ~ 1 + sex + onMeds\n",
       "\n",
       "Number of individuals/clusters: 324\n",
       "Total observations: 3240\n",
       "\n",
       "Fixed-effects parameters:\n",
       "────────────────────────────────────────────────────────\n",
       "                  Estimate  Std. Error       Z  Pr(>|Z|)\n",
       "────────────────────────────────────────────────────────\n",
       "β1: (Intercept)  13.2282     0.146459    90.32    <1e-99\n",
       "β2: sex          -3.29295    0.2101     -15.67    <1e-54\n",
       "β3: onMeds        0.459585   0.0596002    7.71    <1e-13\n",
       "τ1: (Intercept)   0.792508   0.0850728    9.32    <1e-19\n",
       "τ2: sex          -0.2865     0.0970732   -2.95    0.0032\n",
       "τ3: onMeds        0.422303   0.063825     6.62    <1e-10\n",
       "────────────────────────────────────────────────────────\n",
       "Random effects covariance matrix Σγ:\n",
       " \"γ1: (Intercept)\"  3.32057\n",
       "\n"
      ]
     },
     "execution_count": 33,
     "metadata": {},
     "output_type": "execute_result"
    }
   ],
   "source": [
    "@time vgwas(@formula(y ~ 1 + sex + onMeds),\n",
    "        @formula(y ~ 1),\n",
    "        @formula(y ~ 1 + sex + onMeds),\n",
    "        :id,\n",
    "        datadir * \"vgwas_plinkex.csv\",\n",
    "        datadir * \"hapmap3\",\n",
    "        pvalfile = \"wald.pval.txt\",\n",
    "        snpinds = tophits,\n",
    "        test = :wald)"
   ]
  },
  {
   "cell_type": "code",
   "execution_count": 34,
   "metadata": {},
   "outputs": [
    {
     "data": {
      "text/html": [
       "<table class=\"data-frame\"><thead><tr><th></th><th>chr</th><th>pos</th><th>snpid</th><th>maf</th><th>hwepval</th><th>betaeffect</th><th>betapval</th><th>taueffect</th><th>taupval</th></tr><tr><th></th><th>Int64</th><th>Int64</th><th>String</th><th>Float64</th><th>Float64</th><th>Float64</th><th>Float64</th><th>Float64</th><th>Float64</th></tr></thead><tbody><p>10 rows × 9 columns</p><tr><th>1</th><td>1</td><td>1375074</td><td>rs1312568</td><td>0.441358</td><td>2.5376e-19</td><td>-0.456032</td><td>0.000165921</td><td>0.496452</td><td>1.17735e-36</td></tr><tr><th>2</th><td>1</td><td>11552817</td><td>rs2745282</td><td>0.421053</td><td>1.3537e-14</td><td>-0.67282</td><td>7.6492e-9</td><td>0.425653</td><td>1.45395e-19</td></tr><tr><th>3</th><td>1</td><td>120276030</td><td>rs6688004</td><td>0.469136</td><td>1.75473e-27</td><td>-0.637817</td><td>5.13062e-9</td><td>0.430562</td><td>6.07457e-21</td></tr><tr><th>4</th><td>2</td><td>135623558</td><td>rs6730157</td><td>0.313272</td><td>7.76753e-16</td><td>-0.556166</td><td>1.10163e-5</td><td>0.462346</td><td>2.88628e-20</td></tr><tr><th>5</th><td>9</td><td>126307510</td><td>rs3814134</td><td>0.427469</td><td>4.28276e-33</td><td>0.723472</td><td>1.41601e-11</td><td>-0.518216</td><td>4.75338e-39</td></tr><tr><th>6</th><td>15</td><td>40603025</td><td>rs2617236</td><td>0.390966</td><td>1.16466e-14</td><td>-0.644375</td><td>1.44948e-7</td><td>0.445647</td><td>9.43451e-19</td></tr><tr><th>7</th><td>15</td><td>40803767</td><td>rs3742988</td><td>0.42284</td><td>4.26181e-30</td><td>-0.796743</td><td>2.24785e-13</td><td>0.389234</td><td>7.09349e-17</td></tr><tr><th>8</th><td>17</td><td>56509992</td><td>rs8064681</td><td>0.481481</td><td>1.37485e-21</td><td>-0.58961</td><td>1.9256e-7</td><td>0.425417</td><td>5.60171e-25</td></tr><tr><th>9</th><td>17</td><td>71293786</td><td>rs2125345</td><td>0.339009</td><td>1.75527e-14</td><td>-0.635669</td><td>1.82739e-7</td><td>0.449612</td><td>1.7146e-21</td></tr><tr><th>10</th><td>23</td><td>64815688</td><td>rs5964999</td><td>0.475078</td><td>3.63212e-56</td><td>0.75886</td><td>5.04109e-14</td><td>-0.38849</td><td>5.39098e-23</td></tr></tbody></table>"
      ],
      "text/latex": [
       "\\begin{tabular}{r|ccccccccc}\n",
       "\t& chr & pos & snpid & maf & hwepval & betaeffect & betapval & taueffect & taupval\\\\\n",
       "\t\\hline\n",
       "\t& Int64 & Int64 & String & Float64 & Float64 & Float64 & Float64 & Float64 & Float64\\\\\n",
       "\t\\hline\n",
       "\t1 & 1 & 1375074 & rs1312568 & 0.441358 & 2.5376e-19 & -0.456032 & 0.000165921 & 0.496452 & 1.17735e-36 \\\\\n",
       "\t2 & 1 & 11552817 & rs2745282 & 0.421053 & 1.3537e-14 & -0.67282 & 7.6492e-9 & 0.425653 & 1.45395e-19 \\\\\n",
       "\t3 & 1 & 120276030 & rs6688004 & 0.469136 & 1.75473e-27 & -0.637817 & 5.13062e-9 & 0.430562 & 6.07457e-21 \\\\\n",
       "\t4 & 2 & 135623558 & rs6730157 & 0.313272 & 7.76753e-16 & -0.556166 & 1.10163e-5 & 0.462346 & 2.88628e-20 \\\\\n",
       "\t5 & 9 & 126307510 & rs3814134 & 0.427469 & 4.28276e-33 & 0.723472 & 1.41601e-11 & -0.518216 & 4.75338e-39 \\\\\n",
       "\t6 & 15 & 40603025 & rs2617236 & 0.390966 & 1.16466e-14 & -0.644375 & 1.44948e-7 & 0.445647 & 9.43451e-19 \\\\\n",
       "\t7 & 15 & 40803767 & rs3742988 & 0.42284 & 4.26181e-30 & -0.796743 & 2.24785e-13 & 0.389234 & 7.09349e-17 \\\\\n",
       "\t8 & 17 & 56509992 & rs8064681 & 0.481481 & 1.37485e-21 & -0.58961 & 1.9256e-7 & 0.425417 & 5.60171e-25 \\\\\n",
       "\t9 & 17 & 71293786 & rs2125345 & 0.339009 & 1.75527e-14 & -0.635669 & 1.82739e-7 & 0.449612 & 1.7146e-21 \\\\\n",
       "\t10 & 23 & 64815688 & rs5964999 & 0.475078 & 3.63212e-56 & 0.75886 & 5.04109e-14 & -0.38849 & 5.39098e-23 \\\\\n",
       "\\end{tabular}\n"
      ],
      "text/plain": [
       "\u001b[1m10×9 DataFrame\u001b[0m\n",
       "\u001b[1m Row \u001b[0m│\u001b[1m chr   \u001b[0m\u001b[1m pos       \u001b[0m\u001b[1m snpid     \u001b[0m\u001b[1m maf      \u001b[0m\u001b[1m hwepval     \u001b[0m\u001b[1m betaeffect \u001b[0m\u001b[1m betapval    \u001b[0m\u001b[1m taueffect \u001b[0m\u001b[1m taupval     \u001b[0m\n",
       "\u001b[1m     \u001b[0m│\u001b[90m Int64 \u001b[0m\u001b[90m Int64     \u001b[0m\u001b[90m String    \u001b[0m\u001b[90m Float64  \u001b[0m\u001b[90m Float64     \u001b[0m\u001b[90m Float64    \u001b[0m\u001b[90m Float64     \u001b[0m\u001b[90m Float64   \u001b[0m\u001b[90m Float64     \u001b[0m\n",
       "─────┼─────────────────────────────────────────────────────────────────────────────────────────────────────\n",
       "   1 │     1    1375074  rs1312568  0.441358  2.5376e-19    -0.456032  0.000165921   0.496452  1.17735e-36\n",
       "   2 │     1   11552817  rs2745282  0.421053  1.3537e-14    -0.67282   7.6492e-9     0.425653  1.45395e-19\n",
       "   3 │     1  120276030  rs6688004  0.469136  1.75473e-27   -0.637817  5.13062e-9    0.430562  6.07457e-21\n",
       "   4 │     2  135623558  rs6730157  0.313272  7.76753e-16   -0.556166  1.10163e-5    0.462346  2.88628e-20\n",
       "   5 │     9  126307510  rs3814134  0.427469  4.28276e-33    0.723472  1.41601e-11  -0.518216  4.75338e-39\n",
       "   6 │    15   40603025  rs2617236  0.390966  1.16466e-14   -0.644375  1.44948e-7    0.445647  9.43451e-19\n",
       "   7 │    15   40803767  rs3742988  0.42284   4.26181e-30   -0.796743  2.24785e-13   0.389234  7.09349e-17\n",
       "   8 │    17   56509992  rs8064681  0.481481  1.37485e-21   -0.58961   1.9256e-7     0.425417  5.60171e-25\n",
       "   9 │    17   71293786  rs2125345  0.339009  1.75527e-14   -0.635669  1.82739e-7    0.449612  1.7146e-21\n",
       "  10 │    23   64815688  rs5964999  0.475078  3.63212e-56    0.75886   5.04109e-14  -0.38849   5.39098e-23"
      ]
     },
     "execution_count": 34,
     "metadata": {},
     "output_type": "execute_result"
    }
   ],
   "source": [
    "CSV.read(\"wald.pval.txt\", DataFrame)"
   ]
  },
  {
   "cell_type": "code",
   "execution_count": 39,
   "metadata": {},
   "outputs": [],
   "source": [
    "# clean up\n",
    "rm(\"vgwas.null.txt\", force=true)\n",
    "rm(\"vgwas.pval.txt\", force=true)\n",
    "rm(\"score.pval.txt\", force=true)\n",
    "rm(\"wald.pval.txt\", force=true)"
   ]
  },
  {
   "cell_type": "markdown",
   "metadata": {},
   "source": [
    "## GxE or other interactions\n",
    "\n",
    "### Testing jointly G + GxE \n",
    "\n",
    "In many applications, we want to test SNP effect and/or its interaction with other terms. `testformula` keyword specifies the test unit **besides** the covariates in `nullformula`. \n",
    "\n",
    "In following example, keyword `testformula=@formula(trait ~ snp + snp & sex)` instructs `vgwas` to test joint effect of `snp` and `snp & sex` interaction."
   ]
  },
  {
   "cell_type": "code",
   "execution_count": 35,
   "metadata": {},
   "outputs": [
    {
     "name": "stdout",
     "output_type": "stream",
     "text": [
      "run = 1, ‖Δβ‖ = 0.037090, ‖Δτ‖ = 0.136339, ‖ΔL‖ = 0.005441, status = Optimal, time(s) = 0.149586\n",
      "run = 2, ‖Δβ‖ = 0.000913, ‖Δτ‖ = 0.019810, ‖ΔL‖ = 0.001582, status = Optimal, time(s) = 0.134007\n"
     ]
    },
    {
     "data": {
      "text/plain": [
       "\n",
       "Within-subject variance estimation by robust regression (WiSER)\n",
       "\n",
       "Mean Formula:\n",
       "y ~ 1 + sex + onMeds\n",
       "Random Effects Formula:\n",
       "y ~ 1\n",
       "Within-Subject Variance Formula:\n",
       "y ~ 1 + sex + onMeds\n",
       "\n",
       "Number of individuals/clusters: 324\n",
       "Total observations: 3240\n",
       "\n",
       "Fixed-effects parameters:\n",
       "────────────────────────────────────────────────────────\n",
       "                  Estimate  Std. Error       Z  Pr(>|Z|)\n",
       "────────────────────────────────────────────────────────\n",
       "β1: (Intercept)  13.2282     0.146459    90.32    <1e-99\n",
       "β2: sex          -3.29295    0.2101     -15.67    <1e-54\n",
       "β3: onMeds        0.459585   0.0596002    7.71    <1e-13\n",
       "τ1: (Intercept)   0.792508   0.0850728    9.32    <1e-19\n",
       "τ2: sex          -0.2865     0.0970732   -2.95    0.0032\n",
       "τ3: onMeds        0.422303   0.063825     6.62    <1e-10\n",
       "────────────────────────────────────────────────────────\n",
       "Random effects covariance matrix Σγ:\n",
       " \"γ1: (Intercept)\"  3.32057\n",
       "\n"
      ]
     },
     "execution_count": 35,
     "metadata": {},
     "output_type": "execute_result"
    }
   ],
   "source": [
    "vgwas(@formula(y ~ 1 + sex + onMeds),\n",
    "        @formula(y ~ 1),\n",
    "        @formula(y ~ 1 + sex + onMeds),\n",
    "        :id,\n",
    "        datadir * \"vgwas_plinkex.csv\",\n",
    "        datadir * \"hapmap3\",\n",
    "        pvalfile = \"GxE.pval.txt\",\n",
    "        testformula=@formula(trait ~ snp + snp & sex))"
   ]
  },
  {
   "cell_type": "code",
   "execution_count": 38,
   "metadata": {},
   "outputs": [
    {
     "data": {
      "text/html": [
       "<table class=\"data-frame\"><thead><tr><th></th><th>chr</th><th>pos</th><th>snpid</th><th>maf</th><th>hwepval</th><th>betapval</th><th>taupval</th><th>jointpval</th></tr><tr><th></th><th>Int64</th><th>Int64</th><th>String</th><th>Float64</th><th>Float64</th><th>Float64</th><th>Float64</th><th>Float64</th></tr></thead><tbody><p>5 rows × 8 columns</p><tr><th>1</th><td>1</td><td>554484</td><td>rs10458597</td><td>0.0</td><td>1.0</td><td>1.0</td><td>1.0</td><td>1.0</td></tr><tr><th>2</th><td>1</td><td>758311</td><td>rs12562034</td><td>0.0776398</td><td>0.409876</td><td>0.383</td><td>0.33511</td><td>0.473632</td></tr><tr><th>3</th><td>1</td><td>967643</td><td>rs2710875</td><td>0.324074</td><td>4.07625e-7</td><td>9.98217e-6</td><td>5.73202e-7</td><td>9.96764e-11</td></tr><tr><th>4</th><td>1</td><td>1168108</td><td>rs11260566</td><td>0.191589</td><td>0.128568</td><td>0.00225789</td><td>0.105482</td><td>0.00342268</td></tr><tr><th>5</th><td>1</td><td>1375074</td><td>rs1312568</td><td>0.441358</td><td>2.5376e-19</td><td>0.000928728</td><td>3.48807e-15</td><td>7.51335e-16</td></tr></tbody></table>"
      ],
      "text/latex": [
       "\\begin{tabular}{r|cccccccc}\n",
       "\t& chr & pos & snpid & maf & hwepval & betapval & taupval & jointpval\\\\\n",
       "\t\\hline\n",
       "\t& Int64 & Int64 & String & Float64 & Float64 & Float64 & Float64 & Float64\\\\\n",
       "\t\\hline\n",
       "\t1 & 1 & 554484 & rs10458597 & 0.0 & 1.0 & 1.0 & 1.0 & 1.0 \\\\\n",
       "\t2 & 1 & 758311 & rs12562034 & 0.0776398 & 0.409876 & 0.383 & 0.33511 & 0.473632 \\\\\n",
       "\t3 & 1 & 967643 & rs2710875 & 0.324074 & 4.07625e-7 & 9.98217e-6 & 5.73202e-7 & 9.96764e-11 \\\\\n",
       "\t4 & 1 & 1168108 & rs11260566 & 0.191589 & 0.128568 & 0.00225789 & 0.105482 & 0.00342268 \\\\\n",
       "\t5 & 1 & 1375074 & rs1312568 & 0.441358 & 2.5376e-19 & 0.000928728 & 3.48807e-15 & 7.51335e-16 \\\\\n",
       "\\end{tabular}\n"
      ],
      "text/plain": [
       "\u001b[1m5×8 DataFrame\u001b[0m\n",
       "\u001b[1m Row \u001b[0m│\u001b[1m chr   \u001b[0m\u001b[1m pos     \u001b[0m\u001b[1m snpid      \u001b[0m\u001b[1m maf       \u001b[0m\u001b[1m hwepval    \u001b[0m\u001b[1m betapval    \u001b[0m\u001b[1m taupval     \u001b[0m\u001b[1m jointpval   \u001b[0m\n",
       "\u001b[1m     \u001b[0m│\u001b[90m Int64 \u001b[0m\u001b[90m Int64   \u001b[0m\u001b[90m String     \u001b[0m\u001b[90m Float64   \u001b[0m\u001b[90m Float64    \u001b[0m\u001b[90m Float64     \u001b[0m\u001b[90m Float64     \u001b[0m\u001b[90m Float64     \u001b[0m\n",
       "─────┼──────────────────────────────────────────────────────────────────────────────────────────\n",
       "   1 │     1   554484  rs10458597  0.0        1.0         1.0          1.0          1.0\n",
       "   2 │     1   758311  rs12562034  0.0776398  0.409876    0.383        0.33511      0.473632\n",
       "   3 │     1   967643  rs2710875   0.324074   4.07625e-7  9.98217e-6   5.73202e-7   9.96764e-11\n",
       "   4 │     1  1168108  rs11260566  0.191589   0.128568    0.00225789   0.105482     0.00342268\n",
       "   5 │     1  1375074  rs1312568   0.441358   2.5376e-19  0.000928728  3.48807e-15  7.51335e-16"
      ]
     },
     "execution_count": 38,
     "metadata": {},
     "output_type": "execute_result"
    }
   ],
   "source": [
    "first(CSV.read(\"GxE.pval.txt\", DataFrame), 5)"
   ]
  },
  {
   "cell_type": "code",
   "execution_count": 41,
   "metadata": {},
   "outputs": [],
   "source": [
    "# clean up\n",
    "rm(\"vgwas.null.txt\", force=true)\n",
    "rm(\"GxE.pval.txt\",  force=true)"
   ]
  },
  {
   "cell_type": "markdown",
   "metadata": {},
   "source": [
    "### Testing only GxE interaction term\n",
    "\n",
    "For some applications, the user may want to simply test the GxE interaction effect. This requires fitting the SNP in the null model and is much slower, but the command `vgwas()` with keyword `analysistype = \"gxe\"` can be used test the interaction effect.\n",
    "The environmental variable must be specified in the command using the keyword argument `e`, either as a symbol, such as `:age` or as a string `\"age\"`. "
   ]
  },
  {
   "cell_type": "code",
   "execution_count": 43,
   "metadata": {},
   "outputs": [
    {
     "name": "stdout",
     "output_type": "stream",
     "text": [
      "run = 1, ‖Δβ‖ = 0.037090, ‖Δτ‖ = 0.136339, ‖ΔL‖ = 0.005441, status = Optimal, time(s) = 0.156353\n",
      "run = 2, ‖Δβ‖ = 0.000913, ‖Δτ‖ = 0.019810, ‖ΔL‖ = 0.001582, status = Optimal, time(s) = 0.152398\n",
      "run = 1, ‖Δβ‖ = 0.033243, ‖Δτ‖ = 0.146511, ‖ΔL‖ = 0.005476, status = Optimal, time(s) = 0.192186\n",
      "run = 2, ‖Δβ‖ = 0.005774, ‖Δτ‖ = 0.042246, ‖ΔL‖ = 0.001784, status = Optimal, time(s) = 0.178301\n",
      "run = 1, ‖Δβ‖ = 0.013090, ‖Δτ‖ = 0.130781, ‖ΔL‖ = 0.005011, status = Optimal, time(s) = 0.214996\n",
      "run = 2, ‖Δβ‖ = 0.003913, ‖Δτ‖ = 0.037309, ‖ΔL‖ = 0.001516, status = Optimal, time(s) = 0.208225\n",
      "run = 1, ‖Δβ‖ = 0.022159, ‖Δτ‖ = 0.141135, ‖ΔL‖ = 0.005554, status = Optimal, time(s) = 0.177371\n",
      "run = 2, ‖Δβ‖ = 0.001482, ‖Δτ‖ = 0.021700, ‖ΔL‖ = 0.001435, status = Optimal, time(s) = 0.155733\n",
      "run = 1, ‖Δβ‖ = 0.026764, ‖Δτ‖ = 0.368620, ‖ΔL‖ = 0.000317, status = Optimal, time(s) = 0.171832\n",
      "run = 2, ‖Δβ‖ = 0.003023, ‖Δτ‖ = 0.030938, ‖ΔL‖ = 0.003568, status = Optimal, time(s) = 0.161345\n"
     ]
    },
    {
     "data": {
      "text/plain": [
       "\n",
       "Within-subject variance estimation by robust regression (WiSER)\n",
       "\n",
       "Mean Formula:\n",
       "y ~ 1 + sex + onMeds\n",
       "Random Effects Formula:\n",
       "y ~ 1\n",
       "Within-Subject Variance Formula:\n",
       "y ~ 1 + sex + onMeds\n",
       "\n",
       "Number of individuals/clusters: 324\n",
       "Total observations: 3240\n",
       "\n",
       "Fixed-effects parameters:\n",
       "────────────────────────────────────────────────────────\n",
       "                  Estimate  Std. Error       Z  Pr(>|Z|)\n",
       "────────────────────────────────────────────────────────\n",
       "β1: (Intercept)  13.2282     0.146459    90.32    <1e-99\n",
       "β2: sex          -3.29295    0.2101     -15.67    <1e-54\n",
       "β3: onMeds        0.459585   0.0596002    7.71    <1e-13\n",
       "τ1: (Intercept)   0.792508   0.0850728    9.32    <1e-19\n",
       "τ2: sex          -0.2865     0.0970732   -2.95    0.0032\n",
       "τ3: onMeds        0.422303   0.063825     6.62    <1e-10\n",
       "────────────────────────────────────────────────────────\n",
       "Random effects covariance matrix Σγ:\n",
       " \"γ1: (Intercept)\"  3.32057\n",
       "\n"
      ]
     },
     "execution_count": 43,
     "metadata": {},
     "output_type": "execute_result"
    }
   ],
   "source": [
    "vgwas(@formula(y ~ 1 + sex + onMeds),\n",
    "        @formula(y ~ 1),\n",
    "        @formula(y ~ 1 + sex + onMeds),\n",
    "        :id,\n",
    "        datadir * \"vgwas_plinkex.csv\",\n",
    "        datadir * \"hapmap3\",\n",
    "        pvalfile = \"gxe_snp.pval.txt\", \n",
    "        analysistype = \"gxe\",\n",
    "        e = :sex, \n",
    "        snpinds=1:5)\n"
   ]
  },
  {
   "cell_type": "code",
   "execution_count": 44,
   "metadata": {},
   "outputs": [
    {
     "data": {
      "text/html": [
       "<table class=\"data-frame\"><thead><tr><th></th><th>chr</th><th>pos</th><th>snpid</th><th>maf</th><th>hwepval</th><th>snpeffectnullbeta</th><th>snpeffectnulltau</th><th>betapval</th><th>taupval</th><th>jointpval</th></tr><tr><th></th><th>Int64</th><th>Int64</th><th>String</th><th>Float64</th><th>Float64</th><th>Float64</th><th>Float64</th><th>Float64</th><th>Float64</th><th>Float64</th></tr></thead><tbody><p>5 rows × 10 columns</p><tr><th>1</th><td>1</td><td>554484</td><td>rs10458597</td><td>0.0</td><td>1.0</td><td>0.0</td><td>0.0</td><td>1.0</td><td>1.0</td><td>1.0</td></tr><tr><th>2</th><td>1</td><td>758311</td><td>rs12562034</td><td>0.0776398</td><td>0.409876</td><td>-0.231072</td><td>0.0134058</td><td>0.449093</td><td>0.147252</td><td>0.272065</td></tr><tr><th>3</th><td>1</td><td>967643</td><td>rs2710875</td><td>0.324074</td><td>4.07625e-7</td><td>0.640695</td><td>-0.347633</td><td>0.295171</td><td>0.12668</td><td>0.138741</td></tr><tr><th>4</th><td>1</td><td>1168108</td><td>rs11260566</td><td>0.191589</td><td>0.128568</td><td>0.618825</td><td>-0.147484</td><td>0.590334</td><td>0.270161</td><td>0.48269</td></tr><tr><th>5</th><td>1</td><td>1375074</td><td>rs1312568</td><td>0.441358</td><td>2.5376e-19</td><td>-0.456032</td><td>0.496452</td><td>0.574465</td><td>0.251019</td><td>0.463303</td></tr></tbody></table>"
      ],
      "text/latex": [
       "\\begin{tabular}{r|cccccccccc}\n",
       "\t& chr & pos & snpid & maf & hwepval & snpeffectnullbeta & snpeffectnulltau & betapval & taupval & jointpval\\\\\n",
       "\t\\hline\n",
       "\t& Int64 & Int64 & String & Float64 & Float64 & Float64 & Float64 & Float64 & Float64 & Float64\\\\\n",
       "\t\\hline\n",
       "\t1 & 1 & 554484 & rs10458597 & 0.0 & 1.0 & 0.0 & 0.0 & 1.0 & 1.0 & 1.0 \\\\\n",
       "\t2 & 1 & 758311 & rs12562034 & 0.0776398 & 0.409876 & -0.231072 & 0.0134058 & 0.449093 & 0.147252 & 0.272065 \\\\\n",
       "\t3 & 1 & 967643 & rs2710875 & 0.324074 & 4.07625e-7 & 0.640695 & -0.347633 & 0.295171 & 0.12668 & 0.138741 \\\\\n",
       "\t4 & 1 & 1168108 & rs11260566 & 0.191589 & 0.128568 & 0.618825 & -0.147484 & 0.590334 & 0.270161 & 0.48269 \\\\\n",
       "\t5 & 1 & 1375074 & rs1312568 & 0.441358 & 2.5376e-19 & -0.456032 & 0.496452 & 0.574465 & 0.251019 & 0.463303 \\\\\n",
       "\\end{tabular}\n"
      ],
      "text/plain": [
       "\u001b[1m5×10 DataFrame\u001b[0m\n",
       "\u001b[1m Row \u001b[0m│\u001b[1m chr   \u001b[0m\u001b[1m pos     \u001b[0m\u001b[1m snpid      \u001b[0m\u001b[1m maf       \u001b[0m\u001b[1m hwepval    \u001b[0m\u001b[1m snpeffectnullbeta \u001b[0m\u001b[1m snpeffectnulltau \u001b[0m\u001b[1m betapval \u001b[0m\u001b[1m taupval  \u001b[0m\u001b[1m jointpval \u001b[0m\n",
       "\u001b[1m     \u001b[0m│\u001b[90m Int64 \u001b[0m\u001b[90m Int64   \u001b[0m\u001b[90m String     \u001b[0m\u001b[90m Float64   \u001b[0m\u001b[90m Float64    \u001b[0m\u001b[90m Float64           \u001b[0m\u001b[90m Float64          \u001b[0m\u001b[90m Float64  \u001b[0m\u001b[90m Float64  \u001b[0m\u001b[90m Float64   \u001b[0m\n",
       "─────┼───────────────────────────────────────────────────────────────────────────────────────────────────────────────────────\n",
       "   1 │     1   554484  rs10458597  0.0        1.0                  0.0              0.0        1.0       1.0        1.0\n",
       "   2 │     1   758311  rs12562034  0.0776398  0.409876            -0.231072         0.0134058  0.449093  0.147252   0.272065\n",
       "   3 │     1   967643  rs2710875   0.324074   4.07625e-7           0.640695        -0.347633   0.295171  0.12668    0.138741\n",
       "   4 │     1  1168108  rs11260566  0.191589   0.128568             0.618825        -0.147484   0.590334  0.270161   0.48269\n",
       "   5 │     1  1375074  rs1312568   0.441358   2.5376e-19          -0.456032         0.496452   0.574465  0.251019   0.463303"
      ]
     },
     "execution_count": 44,
     "metadata": {},
     "output_type": "execute_result"
    }
   ],
   "source": [
    "CSV.read(\"gxe_snp.pval.txt\", DataFrame)"
   ]
  },
  {
   "cell_type": "code",
   "execution_count": 46,
   "metadata": {},
   "outputs": [],
   "source": [
    "# clean up\n",
    "rm(\"vgwas.null.txt\", force=true)\n",
    "rm(\"gxe_snp.pval.txt\", force=true)"
   ]
  },
  {
   "cell_type": "markdown",
   "metadata": {},
   "source": [
    "## SNP-set testing\n",
    "\n",
    "In many applications, we want to test a SNP-set. The function with keyword `analysistype = \"snpset\"` can be used to do this. To specify the type of snpset test, use the `snpset` keyword argument. \n",
    "\n",
    "The snpset can be specified as either:\n",
    "- a window (test every X snps) => `snpset = X`\n",
    "- an annotated file.  This requires `snpset = filename` where filename is an input file, with no header and two columns separated by a space. The first column must contain the snpset ID and the second column must contain the snpid's (rsid) identical to the bimfile, or in the case of a BGEN format, the order the data will be read (see BGEN above for more details).\n",
    "- a joint test on only a specific set of snps. `snpset = AbstractVector` where the vector specifies the snps you want to perform one joint snpset test for. The vector can either be a vector of integers where the elements are the indicies of the SNPs to test, a vector of booleans, where true represents that you want to select that SNP index, or a range indicating the indicies of the SNPs to test. \n",
    "\n",
    "SNPset testing is currently only implemented for the score test (not Wald). "
   ]
  },
  {
   "cell_type": "markdown",
   "metadata": {},
   "source": [
    "In the following example, we perform a SNP-set test on the 50th to 55th snps. "
   ]
  },
  {
   "cell_type": "code",
   "execution_count": 47,
   "metadata": {},
   "outputs": [
    {
     "name": "stdout",
     "output_type": "stream",
     "text": [
      "run = 1, ‖Δβ‖ = 0.037090, ‖Δτ‖ = 0.136339, ‖ΔL‖ = 0.005441, status = Optimal, time(s) = 0.153645\n",
      "run = 2, ‖Δβ‖ = 0.000913, ‖Δτ‖ = 0.019810, ‖ΔL‖ = 0.001582, status = Optimal, time(s) = 0.142342\n"
     ]
    },
    {
     "data": {
      "text/plain": [
       "\n",
       "Within-subject variance estimation by robust regression (WiSER)\n",
       "\n",
       "Mean Formula:\n",
       "y ~ 1 + sex + onMeds\n",
       "Random Effects Formula:\n",
       "y ~ 1\n",
       "Within-Subject Variance Formula:\n",
       "y ~ 1 + sex + onMeds\n",
       "\n",
       "Number of individuals/clusters: 324\n",
       "Total observations: 3240\n",
       "\n",
       "Fixed-effects parameters:\n",
       "────────────────────────────────────────────────────────\n",
       "                  Estimate  Std. Error       Z  Pr(>|Z|)\n",
       "────────────────────────────────────────────────────────\n",
       "β1: (Intercept)  13.2282     0.146459    90.32    <1e-99\n",
       "β2: sex          -3.29295    0.2101     -15.67    <1e-54\n",
       "β3: onMeds        0.459585   0.0596002    7.71    <1e-13\n",
       "τ1: (Intercept)   0.792508   0.0850728    9.32    <1e-19\n",
       "τ2: sex          -0.2865     0.0970732   -2.95    0.0032\n",
       "τ3: onMeds        0.422303   0.063825     6.62    <1e-10\n",
       "────────────────────────────────────────────────────────\n",
       "Random effects covariance matrix Σγ:\n",
       " \"γ1: (Intercept)\"  3.32057\n",
       "\n"
      ]
     },
     "execution_count": 47,
     "metadata": {},
     "output_type": "execute_result"
    }
   ],
   "source": [
    "vgwas(@formula(y ~ 1 + sex + onMeds),\n",
    "        @formula(y ~ 1),\n",
    "        @formula(y ~ 1 + sex + onMeds),\n",
    "        :id,\n",
    "        datadir * \"vgwas_plinkex.csv\",\n",
    "        datadir * \"hapmap3\",\n",
    "        pvalfile = \"snpset.pval.txt\", \n",
    "        analysistype = \"snpset\",\n",
    "        snpset = 50:55)"
   ]
  },
  {
   "cell_type": "code",
   "execution_count": 48,
   "metadata": {},
   "outputs": [
    {
     "name": "stdout",
     "output_type": "stream",
     "text": [
      "The joint pvalue of snps indexed at 50:55 is betapval: 2.3156171211970728e-5, taupval: 3.972993706372347e-10, jointpval: 3.987431210288368e-12\n"
     ]
    }
   ],
   "source": [
    "run(`head snpset.pval.txt`);"
   ]
  },
  {
   "cell_type": "code",
   "execution_count": 49,
   "metadata": {},
   "outputs": [],
   "source": [
    "# clean up\n",
    "rm(\"snpset.pval.txt\", force=true)\n",
    "rm(\"vgwas.null.txt\", force=true)"
   ]
  },
  {
   "cell_type": "markdown",
   "metadata": {},
   "source": [
    "In the following example we run a SNP-set test on the annotated SNP-set file."
   ]
  },
  {
   "cell_type": "code",
   "execution_count": 50,
   "metadata": {},
   "outputs": [
    {
     "name": "stdout",
     "output_type": "stream",
     "text": [
      "gene1 rs10458597\n",
      "gene1 rs12562034\n",
      "gene1 rs2710875\n",
      "gene1 rs11260566\n",
      "gene1 rs1312568\n",
      "gene1 rs35154105\n",
      "gene1 rs16824508\n",
      "gene1 rs2678939\n",
      "gene1 rs7553178\n",
      "gene1 rs13376356\n"
     ]
    }
   ],
   "source": [
    "run(`head ../data/hapmap_snpsetfile.txt`);"
   ]
  },
  {
   "cell_type": "code",
   "execution_count": 51,
   "metadata": {},
   "outputs": [
    {
     "name": "stdout",
     "output_type": "stream",
     "text": [
      "run = 1, ‖Δβ‖ = 0.037090, ‖Δτ‖ = 0.136339, ‖ΔL‖ = 0.005441, status = Optimal, time(s) = 0.164930\n",
      "run = 2, ‖Δβ‖ = 0.000913, ‖Δτ‖ = 0.019810, ‖ΔL‖ = 0.001582, status = Optimal, time(s) = 0.146663\n"
     ]
    },
    {
     "data": {
      "text/plain": [
       "\n",
       "Within-subject variance estimation by robust regression (WiSER)\n",
       "\n",
       "Mean Formula:\n",
       "y ~ 1 + sex + onMeds\n",
       "Random Effects Formula:\n",
       "y ~ 1\n",
       "Within-Subject Variance Formula:\n",
       "y ~ 1 + sex + onMeds\n",
       "\n",
       "Number of individuals/clusters: 324\n",
       "Total observations: 3240\n",
       "\n",
       "Fixed-effects parameters:\n",
       "────────────────────────────────────────────────────────\n",
       "                  Estimate  Std. Error       Z  Pr(>|Z|)\n",
       "────────────────────────────────────────────────────────\n",
       "β1: (Intercept)  13.2282     0.146459    90.32    <1e-99\n",
       "β2: sex          -3.29295    0.2101     -15.67    <1e-54\n",
       "β3: onMeds        0.459585   0.0596002    7.71    <1e-13\n",
       "τ1: (Intercept)   0.792508   0.0850728    9.32    <1e-19\n",
       "τ2: sex          -0.2865     0.0970732   -2.95    0.0032\n",
       "τ3: onMeds        0.422303   0.063825     6.62    <1e-10\n",
       "────────────────────────────────────────────────────────\n",
       "Random effects covariance matrix Σγ:\n",
       " \"γ1: (Intercept)\"  3.32057\n",
       "\n"
      ]
     },
     "execution_count": 51,
     "metadata": {},
     "output_type": "execute_result"
    }
   ],
   "source": [
    "vgwas(@formula(y ~ 1 + sex + onMeds),\n",
    "        @formula(y ~ 1),\n",
    "        @formula(y ~ 1 + sex + onMeds),\n",
    "        :id,\n",
    "        datadir * \"vgwas_plinkex.csv\",\n",
    "        datadir * \"hapmap3\",\n",
    "        pvalfile = \"snpset.pval.txt\", \n",
    "        analysistype = \"snpset\",\n",
    "        snpset = datadir * \"/hapmap_snpsetfile.txt\")"
   ]
  },
  {
   "cell_type": "code",
   "execution_count": 55,
   "metadata": {},
   "outputs": [
    {
     "data": {
      "text/html": [
       "<table class=\"data-frame\"><thead><tr><th></th><th>snpsetid</th><th>nsnps</th><th>betapval</th><th>taupval</th><th>jointpval</th></tr><tr><th></th><th>String</th><th>Int64</th><th>Float64</th><th>Float64</th><th>Float64</th></tr></thead><tbody><p>5 rows × 5 columns</p><tr><th>1</th><td>gene1</td><td>93</td><td>0.111864</td><td>0.011595</td><td>0.0536262</td></tr><tr><th>2</th><td>gene2</td><td>93</td><td>0.0249929</td><td>0.0648265</td><td>0.00863506</td></tr><tr><th>3</th><td>gene3</td><td>93</td><td>0.131741</td><td>0.0298884</td><td>0.0176667</td></tr><tr><th>4</th><td>gene4</td><td>92</td><td>0.010327</td><td>0.0584591</td><td>0.0126325</td></tr><tr><th>5</th><td>gene5</td><td>93</td><td>0.0303905</td><td>0.0924954</td><td>0.0494038</td></tr></tbody></table>"
      ],
      "text/latex": [
       "\\begin{tabular}{r|ccccc}\n",
       "\t& snpsetid & nsnps & betapval & taupval & jointpval\\\\\n",
       "\t\\hline\n",
       "\t& String & Int64 & Float64 & Float64 & Float64\\\\\n",
       "\t\\hline\n",
       "\t1 & gene1 & 93 & 0.111864 & 0.011595 & 0.0536262 \\\\\n",
       "\t2 & gene2 & 93 & 0.0249929 & 0.0648265 & 0.00863506 \\\\\n",
       "\t3 & gene3 & 93 & 0.131741 & 0.0298884 & 0.0176667 \\\\\n",
       "\t4 & gene4 & 92 & 0.010327 & 0.0584591 & 0.0126325 \\\\\n",
       "\t5 & gene5 & 93 & 0.0303905 & 0.0924954 & 0.0494038 \\\\\n",
       "\\end{tabular}\n"
      ],
      "text/plain": [
       "\u001b[1m5×5 DataFrame\u001b[0m\n",
       "\u001b[1m Row \u001b[0m│\u001b[1m snpsetid \u001b[0m\u001b[1m nsnps \u001b[0m\u001b[1m betapval  \u001b[0m\u001b[1m taupval   \u001b[0m\u001b[1m jointpval  \u001b[0m\n",
       "\u001b[1m     \u001b[0m│\u001b[90m String   \u001b[0m\u001b[90m Int64 \u001b[0m\u001b[90m Float64   \u001b[0m\u001b[90m Float64   \u001b[0m\u001b[90m Float64    \u001b[0m\n",
       "─────┼───────────────────────────────────────────────────\n",
       "   1 │ gene1        93  0.111864   0.011595   0.0536262\n",
       "   2 │ gene2        93  0.0249929  0.0648265  0.00863506\n",
       "   3 │ gene3        93  0.131741   0.0298884  0.0176667\n",
       "   4 │ gene4        92  0.010327   0.0584591  0.0126325\n",
       "   5 │ gene5        93  0.0303905  0.0924954  0.0494038"
      ]
     },
     "execution_count": 55,
     "metadata": {},
     "output_type": "execute_result"
    }
   ],
   "source": [
    "first(CSV.read(\"snpset.pval.txt\", DataFrame), 5)"
   ]
  },
  {
   "cell_type": "code",
   "execution_count": 56,
   "metadata": {},
   "outputs": [],
   "source": [
    "# clean up\n",
    "rm(\"snpset.pval.txt\", force=true)\n",
    "rm(\"vgwas.null.txt\", force=true)"
   ]
  },
  {
   "cell_type": "markdown",
   "metadata": {},
   "source": [
    "In the following example we run a SNP-set test on every 15 SNPs."
   ]
  },
  {
   "cell_type": "code",
   "execution_count": 57,
   "metadata": {},
   "outputs": [
    {
     "name": "stdout",
     "output_type": "stream",
     "text": [
      "run = 1, ‖Δβ‖ = 0.037090, ‖Δτ‖ = 0.136339, ‖ΔL‖ = 0.005441, status = Optimal, time(s) = 0.174487\n",
      "run = 2, ‖Δβ‖ = 0.000913, ‖Δτ‖ = 0.019810, ‖ΔL‖ = 0.001582, status = Optimal, time(s) = 0.156026\n"
     ]
    },
    {
     "data": {
      "text/plain": [
       "\n",
       "Within-subject variance estimation by robust regression (WiSER)\n",
       "\n",
       "Mean Formula:\n",
       "y ~ 1 + sex + onMeds\n",
       "Random Effects Formula:\n",
       "y ~ 1\n",
       "Within-Subject Variance Formula:\n",
       "y ~ 1 + sex + onMeds\n",
       "\n",
       "Number of individuals/clusters: 324\n",
       "Total observations: 3240\n",
       "\n",
       "Fixed-effects parameters:\n",
       "────────────────────────────────────────────────────────\n",
       "                  Estimate  Std. Error       Z  Pr(>|Z|)\n",
       "────────────────────────────────────────────────────────\n",
       "β1: (Intercept)  13.2282     0.146459    90.32    <1e-99\n",
       "β2: sex          -3.29295    0.2101     -15.67    <1e-54\n",
       "β3: onMeds        0.459585   0.0596002    7.71    <1e-13\n",
       "τ1: (Intercept)   0.792508   0.0850728    9.32    <1e-19\n",
       "τ2: sex          -0.2865     0.0970732   -2.95    0.0032\n",
       "τ3: onMeds        0.422303   0.063825     6.62    <1e-10\n",
       "────────────────────────────────────────────────────────\n",
       "Random effects covariance matrix Σγ:\n",
       " \"γ1: (Intercept)\"  3.32057\n",
       "\n"
      ]
     },
     "execution_count": 57,
     "metadata": {},
     "output_type": "execute_result"
    }
   ],
   "source": [
    "vgwas(@formula(y ~ 1 + sex + onMeds),\n",
    "        @formula(y ~ 1),\n",
    "        @formula(y ~ 1 + sex + onMeds),\n",
    "        :id,\n",
    "        datadir * \"vgwas_plinkex.csv\",\n",
    "        datadir * \"hapmap3\",\n",
    "        pvalfile = \"snpset.pval.txt\", \n",
    "        analysistype = \"snpset\",\n",
    "        snpset = 15)"
   ]
  },
  {
   "cell_type": "code",
   "execution_count": 58,
   "metadata": {},
   "outputs": [
    {
     "data": {
      "text/html": [
       "<table class=\"data-frame\"><thead><tr><th></th><th>startchr</th><th>startpos</th><th>startsnpid</th><th>endchr</th><th>endpos</th><th>endsnpid</th><th>betapval</th><th>taupval</th><th>jointpval</th></tr><tr><th></th><th>Int64</th><th>Int64</th><th>String</th><th>Int64</th><th>Int64</th><th>String</th><th>Float64</th><th>Float64</th><th>Float64</th></tr></thead><tbody><p>5 rows × 9 columns</p><tr><th>1</th><td>1</td><td>554484</td><td>rs10458597</td><td>1</td><td>3431124</td><td>rs12093117</td><td>3.83046e-6</td><td>2.24303e-10</td><td>1.25591e-12</td></tr><tr><th>2</th><td>1</td><td>3633945</td><td>rs10910017</td><td>1</td><td>6514524</td><td>rs932112</td><td>0.000127922</td><td>7.94764e-6</td><td>5.98702e-8</td></tr><tr><th>3</th><td>1</td><td>6715827</td><td>rs441515</td><td>1</td><td>9534606</td><td>rs4926480</td><td>8.10353e-5</td><td>6.11848e-7</td><td>8.1905e-9</td></tr><tr><th>4</th><td>1</td><td>9737551</td><td>rs12047054</td><td>1</td><td>12559747</td><td>rs4845907</td><td>0.000425108</td><td>1.15311e-8</td><td>1.93616e-10</td></tr><tr><th>5</th><td>1</td><td>12760427</td><td>rs848577</td><td>1</td><td>16021797</td><td>rs6679870</td><td>2.75832e-5</td><td>0.00028553</td><td>9.27611e-7</td></tr></tbody></table>"
      ],
      "text/latex": [
       "\\begin{tabular}{r|ccccccccc}\n",
       "\t& startchr & startpos & startsnpid & endchr & endpos & endsnpid & betapval & taupval & jointpval\\\\\n",
       "\t\\hline\n",
       "\t& Int64 & Int64 & String & Int64 & Int64 & String & Float64 & Float64 & Float64\\\\\n",
       "\t\\hline\n",
       "\t1 & 1 & 554484 & rs10458597 & 1 & 3431124 & rs12093117 & 3.83046e-6 & 2.24303e-10 & 1.25591e-12 \\\\\n",
       "\t2 & 1 & 3633945 & rs10910017 & 1 & 6514524 & rs932112 & 0.000127922 & 7.94764e-6 & 5.98702e-8 \\\\\n",
       "\t3 & 1 & 6715827 & rs441515 & 1 & 9534606 & rs4926480 & 8.10353e-5 & 6.11848e-7 & 8.1905e-9 \\\\\n",
       "\t4 & 1 & 9737551 & rs12047054 & 1 & 12559747 & rs4845907 & 0.000425108 & 1.15311e-8 & 1.93616e-10 \\\\\n",
       "\t5 & 1 & 12760427 & rs848577 & 1 & 16021797 & rs6679870 & 2.75832e-5 & 0.00028553 & 9.27611e-7 \\\\\n",
       "\\end{tabular}\n"
      ],
      "text/plain": [
       "\u001b[1m5×9 DataFrame\u001b[0m\n",
       "\u001b[1m Row \u001b[0m│\u001b[1m startchr \u001b[0m\u001b[1m startpos \u001b[0m\u001b[1m startsnpid \u001b[0m\u001b[1m endchr \u001b[0m\u001b[1m endpos   \u001b[0m\u001b[1m endsnpid   \u001b[0m\u001b[1m betapval    \u001b[0m\u001b[1m taupval     \u001b[0m\u001b[1m jointpval   \u001b[0m\n",
       "\u001b[1m     \u001b[0m│\u001b[90m Int64    \u001b[0m\u001b[90m Int64    \u001b[0m\u001b[90m String     \u001b[0m\u001b[90m Int64  \u001b[0m\u001b[90m Int64    \u001b[0m\u001b[90m String     \u001b[0m\u001b[90m Float64     \u001b[0m\u001b[90m Float64     \u001b[0m\u001b[90m Float64     \u001b[0m\n",
       "─────┼─────────────────────────────────────────────────────────────────────────────────────────────────────\n",
       "   1 │        1    554484  rs10458597       1   3431124  rs12093117  3.83046e-6   2.24303e-10  1.25591e-12\n",
       "   2 │        1   3633945  rs10910017       1   6514524  rs932112    0.000127922  7.94764e-6   5.98702e-8\n",
       "   3 │        1   6715827  rs441515         1   9534606  rs4926480   8.10353e-5   6.11848e-7   8.1905e-9\n",
       "   4 │        1   9737551  rs12047054       1  12559747  rs4845907   0.000425108  1.15311e-8   1.93616e-10\n",
       "   5 │        1  12760427  rs848577         1  16021797  rs6679870   2.75832e-5   0.00028553   9.27611e-7"
      ]
     },
     "execution_count": 58,
     "metadata": {},
     "output_type": "execute_result"
    }
   ],
   "source": [
    "first(CSV.read(\"snpset.pval.txt\", DataFrame), 5)"
   ]
  },
  {
   "cell_type": "code",
   "execution_count": 60,
   "metadata": {},
   "outputs": [],
   "source": [
    "# clean up\n",
    "rm(\"snpset.pval.txt\", force=true)\n",
    "rm(\"vgwas.null.txt\", force=true)"
   ]
  },
  {
   "cell_type": "markdown",
   "metadata": {},
   "source": [
    "## Matching Indicies\n",
    "\n",
    "In some cases, there are only a subset of individuals with both genetic data and covariate information available. The null model must be fit on a subset of the individuals with the genetic data. The rows can be specified with the argument `covrowinds` if you pass in a covariate file. The genetic indicies can be specified with the `geneticrowinds` argument. \n",
    "\n",
    "For simplicity, we have implemented a function `matchindices(meanformula, reformula, wsvarformula, idvar, df, geneticsamples)` which can be used to do this.\n",
    "Input the mean, random effects, and within-subject variance formulas, the grouping (id) variable,\n",
    "the dataframe (or table), and a vector of the IDs in the order of the genetic file and it returns `covrowmask, geneticrowmask` for matching indicies in a covariate file and geneticfile.\n",
    "\n",
    "Note: the `idvar` in the dataframe and the `geneticsamples` vector must have the same element type. To convert a vector of integers to strings `string.(intvector)` can be used. To go from a vector of strings to integers you can use\"  `map(x -> parse(Int, x), stringvectoparse)`."
   ]
  },
  {
   "cell_type": "code",
   "execution_count": 8,
   "metadata": {},
   "outputs": [
    {
     "data": {
      "text/plain": [
       "324-element Array{String,1}:\n",
       " \"A1\"\n",
       " \"2\"\n",
       " \"3\"\n",
       " \"4\"\n",
       " \"5\"\n",
       " \"6\"\n",
       " \"7\"\n",
       " \"8\"\n",
       " \"9\"\n",
       " \"10\"\n",
       " \"11\"\n",
       " \"12\"\n",
       " \"13\"\n",
       " ⋮\n",
       " \"313\"\n",
       " \"314\"\n",
       " \"315\"\n",
       " \"316\"\n",
       " \"317\"\n",
       " \"318\"\n",
       " \"319\"\n",
       " \"320\"\n",
       " \"321\"\n",
       " \"322\"\n",
       " \"323\"\n",
       " \"Z324\""
      ]
     },
     "execution_count": 8,
     "metadata": {},
     "output_type": "execute_result"
    }
   ],
   "source": [
    "famfileids = CSV.read(datadir * \"hapmap3.fam\", DataFrame, header = false)[!, 1] # famfile contains the sample IDs for PLINK files"
   ]
  },
  {
   "cell_type": "code",
   "execution_count": 9,
   "metadata": {},
   "outputs": [
    {
     "data": {
      "text/html": [
       "<table class=\"data-frame\"><thead><tr><th></th><th>sex</th><th>onMeds</th><th>snp1</th><th>snp2</th><th>snp3</th><th>snp4</th><th>y</th><th>id</th></tr><tr><th></th><th>Float64</th><th>Float64</th><th>Float64</th><th>Float64</th><th>Float64</th><th>Float64</th><th>Float64</th><th>String</th></tr></thead><tbody><p>11 rows × 8 columns</p><tr><th>1</th><td>0.0</td><td>1.0</td><td>0.0</td><td>1.0</td><td>2.0</td><td>0.0</td><td>12.2667</td><td>A1</td></tr><tr><th>2</th><td>0.0</td><td>0.0</td><td>0.0</td><td>1.0</td><td>2.0</td><td>0.0</td><td>10.2681</td><td>A1</td></tr><tr><th>3</th><td>0.0</td><td>0.0</td><td>0.0</td><td>1.0</td><td>2.0</td><td>0.0</td><td>12.166</td><td>A1</td></tr><tr><th>4</th><td>0.0</td><td>0.0</td><td>0.0</td><td>1.0</td><td>2.0</td><td>0.0</td><td>11.8797</td><td>A1</td></tr><tr><th>5</th><td>0.0</td><td>0.0</td><td>0.0</td><td>1.0</td><td>2.0</td><td>0.0</td><td>12.8127</td><td>A1</td></tr><tr><th>6</th><td>0.0</td><td>0.0</td><td>0.0</td><td>1.0</td><td>2.0</td><td>0.0</td><td>9.98766</td><td>A1</td></tr><tr><th>7</th><td>0.0</td><td>0.0</td><td>0.0</td><td>1.0</td><td>2.0</td><td>0.0</td><td>12.1408</td><td>A1</td></tr><tr><th>8</th><td>0.0</td><td>1.0</td><td>0.0</td><td>1.0</td><td>2.0</td><td>0.0</td><td>13.2058</td><td>A1</td></tr><tr><th>9</th><td>0.0</td><td>0.0</td><td>0.0</td><td>1.0</td><td>2.0</td><td>0.0</td><td>11.3631</td><td>A1</td></tr><tr><th>10</th><td>0.0</td><td>1.0</td><td>0.0</td><td>1.0</td><td>2.0</td><td>0.0</td><td>15.2511</td><td>A1</td></tr><tr><th>11</th><td>0.0</td><td>0.0</td><td>0.0</td><td>0.0</td><td>2.0</td><td>2.0</td><td>12.746</td><td>2</td></tr></tbody></table>"
      ],
      "text/latex": [
       "\\begin{tabular}{r|cccccccc}\n",
       "\t& sex & onMeds & snp1 & snp2 & snp3 & snp4 & y & id\\\\\n",
       "\t\\hline\n",
       "\t& Float64 & Float64 & Float64 & Float64 & Float64 & Float64 & Float64 & String\\\\\n",
       "\t\\hline\n",
       "\t1 & 0.0 & 1.0 & 0.0 & 1.0 & 2.0 & 0.0 & 12.2667 & A1 \\\\\n",
       "\t2 & 0.0 & 0.0 & 0.0 & 1.0 & 2.0 & 0.0 & 10.2681 & A1 \\\\\n",
       "\t3 & 0.0 & 0.0 & 0.0 & 1.0 & 2.0 & 0.0 & 12.166 & A1 \\\\\n",
       "\t4 & 0.0 & 0.0 & 0.0 & 1.0 & 2.0 & 0.0 & 11.8797 & A1 \\\\\n",
       "\t5 & 0.0 & 0.0 & 0.0 & 1.0 & 2.0 & 0.0 & 12.8127 & A1 \\\\\n",
       "\t6 & 0.0 & 0.0 & 0.0 & 1.0 & 2.0 & 0.0 & 9.98766 & A1 \\\\\n",
       "\t7 & 0.0 & 0.0 & 0.0 & 1.0 & 2.0 & 0.0 & 12.1408 & A1 \\\\\n",
       "\t8 & 0.0 & 1.0 & 0.0 & 1.0 & 2.0 & 0.0 & 13.2058 & A1 \\\\\n",
       "\t9 & 0.0 & 0.0 & 0.0 & 1.0 & 2.0 & 0.0 & 11.3631 & A1 \\\\\n",
       "\t10 & 0.0 & 1.0 & 0.0 & 1.0 & 2.0 & 0.0 & 15.2511 & A1 \\\\\n",
       "\t11 & 0.0 & 0.0 & 0.0 & 0.0 & 2.0 & 2.0 & 12.746 & 2 \\\\\n",
       "\\end{tabular}\n"
      ],
      "text/plain": [
       "\u001b[1m11×8 DataFrame\u001b[0m\n",
       "\u001b[1m Row \u001b[0m│\u001b[1m sex     \u001b[0m\u001b[1m onMeds  \u001b[0m\u001b[1m snp1    \u001b[0m\u001b[1m snp2    \u001b[0m\u001b[1m snp3    \u001b[0m\u001b[1m snp4    \u001b[0m\u001b[1m y        \u001b[0m\u001b[1m id     \u001b[0m\n",
       "\u001b[1m     \u001b[0m│\u001b[90m Float64 \u001b[0m\u001b[90m Float64 \u001b[0m\u001b[90m Float64 \u001b[0m\u001b[90m Float64 \u001b[0m\u001b[90m Float64 \u001b[0m\u001b[90m Float64 \u001b[0m\u001b[90m Float64  \u001b[0m\u001b[90m String \u001b[0m\n",
       "─────┼────────────────────────────────────────────────────────────────────────\n",
       "   1 │     0.0      1.0      0.0      1.0      2.0      0.0  12.2667   A1\n",
       "   2 │     0.0      0.0      0.0      1.0      2.0      0.0  10.2681   A1\n",
       "   3 │     0.0      0.0      0.0      1.0      2.0      0.0  12.166    A1\n",
       "   4 │     0.0      0.0      0.0      1.0      2.0      0.0  11.8797   A1\n",
       "   5 │     0.0      0.0      0.0      1.0      2.0      0.0  12.8127   A1\n",
       "   6 │     0.0      0.0      0.0      1.0      2.0      0.0   9.98766  A1\n",
       "   7 │     0.0      0.0      0.0      1.0      2.0      0.0  12.1408   A1\n",
       "   8 │     0.0      1.0      0.0      1.0      2.0      0.0  13.2058   A1\n",
       "   9 │     0.0      0.0      0.0      1.0      2.0      0.0  11.3631   A1\n",
       "  10 │     0.0      1.0      0.0      1.0      2.0      0.0  15.2511   A1\n",
       "  11 │     0.0      0.0      0.0      0.0      2.0      2.0  12.746    2"
      ]
     },
     "execution_count": 9,
     "metadata": {},
     "output_type": "execute_result"
    }
   ],
   "source": [
    "covdf = CSV.read(datadir * \"vgwas_plinkex.csv\", DataFrame)\n",
    "first(covdf, 11)"
   ]
  },
  {
   "cell_type": "code",
   "execution_count": 10,
   "metadata": {},
   "outputs": [],
   "source": [
    "covrowmask, geneticrowmask = matchindices(@formula(y ~ 1 + sex + onMeds),\n",
    "        @formula(y ~ 1),\n",
    "        @formula(y ~ 1 + sex + onMeds),\n",
    "        :id, covdf, famfileids);"
   ]
  },
  {
   "cell_type": "code",
   "execution_count": 11,
   "metadata": {},
   "outputs": [
    {
     "name": "stdout",
     "output_type": "stream",
     "text": [
      "\n",
      "******************************************************************************\n",
      "This program contains Ipopt, a library for large-scale nonlinear optimization.\n",
      " Ipopt is released as open source code under the Eclipse Public License (EPL).\n",
      "         For more information visit https://github.com/coin-or/Ipopt\n",
      "******************************************************************************\n",
      "\n",
      "run = 1, ‖Δβ‖ = 0.037090, ‖Δτ‖ = 0.136339, ‖ΔL‖ = 0.005441, status = Optimal, time(s) = 0.341146\n",
      "run = 2, ‖Δβ‖ = 0.000913, ‖Δτ‖ = 0.019810, ‖ΔL‖ = 0.001582, status = Optimal, time(s) = 0.149456\n"
     ]
    },
    {
     "data": {
      "text/plain": [
       "\n",
       "Within-subject variance estimation by robust regression (WiSER)\n",
       "\n",
       "Mean Formula:\n",
       "y ~ 1 + sex + onMeds\n",
       "Random Effects Formula:\n",
       "y ~ 1\n",
       "Within-Subject Variance Formula:\n",
       "y ~ 1 + sex + onMeds\n",
       "\n",
       "Number of individuals/clusters: 324\n",
       "Total observations: 3240\n",
       "\n",
       "Fixed-effects parameters:\n",
       "────────────────────────────────────────────────────────\n",
       "                  Estimate  Std. Error       Z  Pr(>|Z|)\n",
       "────────────────────────────────────────────────────────\n",
       "β1: (Intercept)  13.2282     0.146459    90.32    <1e-99\n",
       "β2: sex          -3.29295    0.2101     -15.67    <1e-54\n",
       "β3: onMeds        0.459585   0.0596002    7.71    <1e-13\n",
       "τ1: (Intercept)   0.792508   0.0850728    9.32    <1e-19\n",
       "τ2: sex          -0.2865     0.0970732   -2.95    0.0032\n",
       "τ3: onMeds        0.422303   0.063825     6.62    <1e-10\n",
       "────────────────────────────────────────────────────────\n",
       "Random effects covariance matrix Σγ:\n",
       " \"γ1: (Intercept)\"  3.32057\n",
       "\n"
      ]
     },
     "execution_count": 11,
     "metadata": {},
     "output_type": "execute_result"
    }
   ],
   "source": [
    "vgwas(@formula(y ~ 1 + sex + onMeds),\n",
    "        @formula(y ~ 1),\n",
    "        @formula(y ~ 1 + sex + onMeds),\n",
    "        :id,\n",
    "        datadir * \"vgwas_plinkex.csv\",\n",
    "        datadir * \"hapmap3\",\n",
    "        pvalfile = pvalpath,\n",
    "        nullfile = nullpath,\n",
    "        covrowinds = covrowmask,\n",
    "        geneticrowinds = geneticrowmask)"
   ]
  },
  {
   "cell_type": "code",
   "execution_count": 12,
   "metadata": {},
   "outputs": [],
   "source": [
    "# clean up\n",
    "rm(\"vgwas.null.txt\", force=true)\n",
    "rm(\"vgwas.pval.txt\", force=true)"
   ]
  },
  {
   "cell_type": "markdown",
   "metadata": {},
   "source": [
    "## Plotting Results\n",
    "\n",
    "To plot the GWAS results, we recommend using the [MendelPlots.jl package](https://openmendel.github.io/MendelPlots.jl/latest/)."
   ]
  },
  {
   "cell_type": "markdown",
   "metadata": {},
   "source": [
    "## Multiple Plink file sets\n",
    "\n",
    "In large scale studies, genotypes data are split into multiple Plink files, e.g., by chromosome. Then GWAS analysis can be done in parallel. This can be achieved by two steps.\n",
    "\n",
    "Let's first create demo data by splitting hapmap3 according to chromosome:"
   ]
  },
  {
   "cell_type": "code",
   "execution_count": 61,
   "metadata": {},
   "outputs": [
    {
     "data": {
      "text/plain": [
       "75-element Array{String,1}:\n",
       " \"/Users/christophergerman/.julia/dev/vGWAS/data/hapmap3.chr.1.bed\"\n",
       " \"/Users/christophergerman/.julia/dev/vGWAS/data/hapmap3.chr.1.bim\"\n",
       " \"/Users/christophergerman/.julia/dev/vGWAS/data/hapmap3.chr.1.fam\"\n",
       " \"/Users/christophergerman/.julia/dev/vGWAS/data/hapmap3.chr.10.bed\"\n",
       " \"/Users/christophergerman/.julia/dev/vGWAS/data/hapmap3.chr.10.bim\"\n",
       " \"/Users/christophergerman/.julia/dev/vGWAS/data/hapmap3.chr.10.fam\"\n",
       " \"/Users/christophergerman/.julia/dev/vGWAS/data/hapmap3.chr.11.bed\"\n",
       " \"/Users/christophergerman/.julia/dev/vGWAS/data/hapmap3.chr.11.bim\"\n",
       " \"/Users/christophergerman/.julia/dev/vGWAS/data/hapmap3.chr.11.fam\"\n",
       " \"/Users/christophergerman/.julia/dev/vGWAS/data/hapmap3.chr.12.bed\"\n",
       " \"/Users/christophergerman/.julia/dev/vGWAS/data/hapmap3.chr.12.bim\"\n",
       " \"/Users/christophergerman/.julia/dev/vGWAS/data/hapmap3.chr.12.fam\"\n",
       " \"/Users/christophergerman/.julia/dev/vGWAS/data/hapmap3.chr.13.bed\"\n",
       " ⋮\n",
       " \"/Users/christophergerman/.julia/dev/vGWAS/data/hapmap3.chr.6.bed\"\n",
       " \"/Users/christophergerman/.julia/dev/vGWAS/data/hapmap3.chr.6.bim\"\n",
       " \"/Users/christophergerman/.julia/dev/vGWAS/data/hapmap3.chr.6.fam\"\n",
       " \"/Users/christophergerman/.julia/dev/vGWAS/data/hapmap3.chr.7.bed\"\n",
       " \"/Users/christophergerman/.julia/dev/vGWAS/data/hapmap3.chr.7.bim\"\n",
       " \"/Users/christophergerman/.julia/dev/vGWAS/data/hapmap3.chr.7.fam\"\n",
       " \"/Users/christophergerman/.julia/dev/vGWAS/data/hapmap3.chr.8.bed\"\n",
       " \"/Users/christophergerman/.julia/dev/vGWAS/data/hapmap3.chr.8.bim\"\n",
       " \"/Users/christophergerman/.julia/dev/vGWAS/data/hapmap3.chr.8.fam\"\n",
       " \"/Users/christophergerman/.julia/dev/vGWAS/data/hapmap3.chr.9.bed\"\n",
       " \"/Users/christophergerman/.julia/dev/vGWAS/data/hapmap3.chr.9.bim\"\n",
       " \"/Users/christophergerman/.julia/dev/vGWAS/data/hapmap3.chr.9.fam\""
      ]
     },
     "execution_count": 61,
     "metadata": {},
     "output_type": "execute_result"
    }
   ],
   "source": [
    "# split example hapmap3 data according to chromosome\n",
    "SnpArrays.split_plink(datadir * \"hapmap3\", :chromosome; prefix=datadir * \"hapmap3.chr.\")\n",
    "readdir(glob\"hapmap3.chr.*\", datadir)"
   ]
  },
  {
   "cell_type": "markdown",
   "metadata": {},
   "source": [
    "Step 1: Fit the null model. Setting third argument `geneticfile` to `nothing` instructs `vgwas` function to fit the null model only."
   ]
  },
  {
   "cell_type": "code",
   "execution_count": 62,
   "metadata": {},
   "outputs": [
    {
     "name": "stdout",
     "output_type": "stream",
     "text": [
      "run = 1, ‖Δβ‖ = 0.037090, ‖Δτ‖ = 0.136339, ‖ΔL‖ = 0.005441, status = Optimal, time(s) = 0.177518\n",
      "run = 2, ‖Δβ‖ = 0.000913, ‖Δτ‖ = 0.019810, ‖ΔL‖ = 0.001582, status = Optimal, time(s) = 0.141628\n"
     ]
    },
    {
     "data": {
      "text/plain": [
       "\n",
       "Within-subject variance estimation by robust regression (WiSER)\n",
       "\n",
       "Mean Formula:\n",
       "y ~ 1 + sex + onMeds\n",
       "Random Effects Formula:\n",
       "y ~ 1\n",
       "Within-Subject Variance Formula:\n",
       "y ~ 1 + sex + onMeds\n",
       "\n",
       "Number of individuals/clusters: 324\n",
       "Total observations: 3240\n",
       "\n",
       "Fixed-effects parameters:\n",
       "────────────────────────────────────────────────────────\n",
       "                  Estimate  Std. Error       Z  Pr(>|Z|)\n",
       "────────────────────────────────────────────────────────\n",
       "β1: (Intercept)  13.2282     0.146459    90.32    <1e-99\n",
       "β2: sex          -3.29295    0.2101     -15.67    <1e-54\n",
       "β3: onMeds        0.459585   0.0596002    7.71    <1e-13\n",
       "τ1: (Intercept)   0.792508   0.0850728    9.32    <1e-19\n",
       "τ2: sex          -0.2865     0.0970732   -2.95    0.0032\n",
       "τ3: onMeds        0.422303   0.063825     6.62    <1e-10\n",
       "────────────────────────────────────────────────────────\n",
       "Random effects covariance matrix Σγ:\n",
       " \"γ1: (Intercept)\"  3.32057\n",
       "\n"
      ]
     },
     "execution_count": 62,
     "metadata": {},
     "output_type": "execute_result"
    }
   ],
   "source": [
    "nm = vgwas(@formula(y ~ 1 + sex + onMeds),\n",
    "        @formula(y ~ 1),\n",
    "        @formula(y ~ 1 + sex + onMeds),\n",
    "        :id,\n",
    "        datadir * \"vgwas_plinkex.csv\",\n",
    "        nothing)"
   ]
  },
  {
   "cell_type": "markdown",
   "metadata": {},
   "source": [
    "Step 2: GWAS for each chromosome."
   ]
  },
  {
   "cell_type": "code",
   "execution_count": 64,
   "metadata": {},
   "outputs": [],
   "source": [
    "# this part can be submitted as separate jobs\n",
    "for chr in 1:23\n",
    "    plinkfile = datadir * \"hapmap3.chr.\" * string(chr)\n",
    "    pvalfile = plinkfile * \".pval.txt\" \n",
    "    vgwas(nm, plinkfile, pvalfile=pvalfile)\n",
    "end"
   ]
  },
  {
   "cell_type": "code",
   "execution_count": 65,
   "metadata": {},
   "outputs": [
    {
     "data": {
      "text/plain": [
       "23-element Array{String,1}:\n",
       " \"/Users/christophergerman/.julia/dev/vGWAS/data/hapmap3.chr.1.pval.txt\"\n",
       " \"/Users/christophergerman/.julia/dev/vGWAS/data/hapmap3.chr.10.pval.txt\"\n",
       " \"/Users/christophergerman/.julia/dev/vGWAS/data/hapmap3.chr.11.pval.txt\"\n",
       " \"/Users/christophergerman/.julia/dev/vGWAS/data/hapmap3.chr.12.pval.txt\"\n",
       " \"/Users/christophergerman/.julia/dev/vGWAS/data/hapmap3.chr.13.pval.txt\"\n",
       " \"/Users/christophergerman/.julia/dev/vGWAS/data/hapmap3.chr.14.pval.txt\"\n",
       " \"/Users/christophergerman/.julia/dev/vGWAS/data/hapmap3.chr.15.pval.txt\"\n",
       " \"/Users/christophergerman/.julia/dev/vGWAS/data/hapmap3.chr.16.pval.txt\"\n",
       " \"/Users/christophergerman/.julia/dev/vGWAS/data/hapmap3.chr.17.pval.txt\"\n",
       " \"/Users/christophergerman/.julia/dev/vGWAS/data/hapmap3.chr.18.pval.txt\"\n",
       " \"/Users/christophergerman/.julia/dev/vGWAS/data/hapmap3.chr.19.pval.txt\"\n",
       " \"/Users/christophergerman/.julia/dev/vGWAS/data/hapmap3.chr.2.pval.txt\"\n",
       " \"/Users/christophergerman/.julia/dev/vGWAS/data/hapmap3.chr.20.pval.txt\"\n",
       " \"/Users/christophergerman/.julia/dev/vGWAS/data/hapmap3.chr.21.pval.txt\"\n",
       " \"/Users/christophergerman/.julia/dev/vGWAS/data/hapmap3.chr.22.pval.txt\"\n",
       " \"/Users/christophergerman/.julia/dev/vGWAS/data/hapmap3.chr.23.pval.txt\"\n",
       " \"/Users/christophergerman/.julia/dev/vGWAS/data/hapmap3.chr.3.pval.txt\"\n",
       " \"/Users/christophergerman/.julia/dev/vGWAS/data/hapmap3.chr.4.pval.txt\"\n",
       " \"/Users/christophergerman/.julia/dev/vGWAS/data/hapmap3.chr.5.pval.txt\"\n",
       " \"/Users/christophergerman/.julia/dev/vGWAS/data/hapmap3.chr.6.pval.txt\"\n",
       " \"/Users/christophergerman/.julia/dev/vGWAS/data/hapmap3.chr.7.pval.txt\"\n",
       " \"/Users/christophergerman/.julia/dev/vGWAS/data/hapmap3.chr.8.pval.txt\"\n",
       " \"/Users/christophergerman/.julia/dev/vGWAS/data/hapmap3.chr.9.pval.txt\""
      ]
     },
     "execution_count": 65,
     "metadata": {},
     "output_type": "execute_result"
    }
   ],
   "source": [
    "# show the result files\n",
    "readdir(glob\"*.pval.txt\", datadir)"
   ]
  },
  {
   "cell_type": "markdown",
   "metadata": {},
   "source": [
    "In the rare situations where the multiple sets of Plink files lack the `fam` file or the corresponding bed and bim files have different filenames, users can explicitly supply bed filename, bim file name, and number of individuals. Replace Step 2 by \n",
    "\n",
    "Step 2': GWAS for each chromosome."
   ]
  },
  {
   "cell_type": "code",
   "execution_count": 67,
   "metadata": {},
   "outputs": [],
   "source": [
    "# this part can be submitted as separate jobs\n",
    "for chr in 1:23\n",
    "    bedfile = datadir * \"hapmap3.chr.\" * string(chr) * \".bed\"\n",
    "    bimfile = datadir * \"hapmap3.chr.\" * string(chr) * \".bim\"\n",
    "    pvalfile = datadir * \"hapmap3.chr.\" * string(chr) * \".pval.txt\"\n",
    "    vgwas(nm, bedfile, bimfile, 324; pvalfile=pvalfile)\n",
    "end"
   ]
  },
  {
   "cell_type": "code",
   "execution_count": 69,
   "metadata": {},
   "outputs": [],
   "source": [
    "# clean up\n",
    "rm(\"vgwas.null.txt\", force=true)\n",
    "isfile(datadir * \"fittednullmodel.jld2\") && rm(datadir * \"fittednullmodel.jld2\")\n",
    "for chr in 1:23\n",
    "    pvalfile = datadir * \"hapmap3.chr.\" * string(chr) * \".pval.txt\"\n",
    "    rm(pvalfile, force=true)\n",
    "end\n",
    "for chr in 1:26\n",
    "    plinkfile = datadir * \"hapmap3.chr.\" * string(chr)\n",
    "    rm(plinkfile * \".bed\", force=true)\n",
    "    rm(plinkfile * \".fam\", force=true)\n",
    "    rm(plinkfile * \".bim\", force=true)\n",
    "end"
   ]
  },
  {
   "cell_type": "markdown",
   "metadata": {},
   "source": [
    "## Multiple Plink file sets on cluster\n",
    "\n",
    "Running analyses on multiple plink file sets on a cluster computing system is demonstrated with our [OrdinalGWAS.jl pacakge](https://openmendel.github.io/OrdinalGWAS.jl/latest/#Multiple-Plink-file-sets-on-cluster). A similar setup can be used with vGWAS. "
   ]
  },
  {
   "cell_type": "markdown",
   "metadata": {},
   "source": [
    "## Troubleshooting\n",
    "\n",
    "If there are issues you're encountering with running vGWAS, the following are possible remedies.\n",
    "\n",
    "- Null Model\n",
    "    - Issues with null model convergence may be solved by choosing alternate starting values for parameters, using a different solver, transforming variables, and increasing the number of runs (WiSER runs). These are detailed in the [WiSER documentation here](https://github.com/OpenMendel/WiSER.jl/blob/master/docs/src/model_fitting.md#tips-for-improving-estimation).\n",
    "    \n",
    "- GWAS Results\n",
    "    - If you use the score test instead of the SPA-score test (SPA is default for single-SNP analyses), then there can be inflation in type I error and decreased power when (a) the sample size is small, (b) the number of repeated measures is low, or (c) the variants analyzed are rare with low minor allele frequencies. In these cases, the score test is not optimal and it is suggested to use the SPA version (`usespa=true`). SPA is only implemented for single-SNP analyses. These issues can occur in both Wald and score tests. \n",
    "    \n",
    "If you notice any problems with your output or results, [file an issue](https://github.com/OpenMendel/vGWAS.jl/issues). "
   ]
  },
  {
   "cell_type": "code",
   "execution_count": null,
   "metadata": {},
   "outputs": [],
   "source": []
  }
 ],
 "metadata": {
  "@webio": {
   "lastCommId": null,
   "lastKernelId": null
  },
  "kernelspec": {
   "display_name": "Julia 1.5.3",
   "language": "julia",
   "name": "julia-1.5"
  },
  "language_info": {
   "file_extension": ".jl",
   "mimetype": "application/julia",
   "name": "julia",
   "version": "1.5.3"
  },
  "toc": {
   "colors": {
    "hover_highlight": "#DAA520",
    "running_highlight": "#FF0000",
    "selected_highlight": "#FFD700"
   },
   "moveMenuLeft": true,
   "nav_menu": {
    "height": "30px",
    "width": "252px"
   },
   "navigate_menu": true,
   "number_sections": true,
   "sideBar": true,
   "threshold": 4,
   "toc_cell": false,
   "toc_section_display": "block",
   "toc_window_display": true,
   "widenNotebook": false
  }
 },
 "nbformat": 4,
 "nbformat_minor": 4
}
