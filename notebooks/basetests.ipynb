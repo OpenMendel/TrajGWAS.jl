{
 "cells": [
  {
   "cell_type": "code",
   "execution_count": 1,
   "metadata": {},
   "outputs": [
    {
     "name": "stderr",
     "output_type": "stream",
     "text": [
      "┌ Info: Precompiling vGWAS [9514c204-b736-47c9-8157-11c3e9e5ab30]\n",
      "└ @ Base loading.jl:1278\n"
     ]
    }
   ],
   "source": [
    "using CSV, DataFrames, JuliaDB, Random, WiSER, vGWAS"
   ]
  },
  {
   "cell_type": "code",
   "execution_count": 2,
   "metadata": {},
   "outputs": [
    {
     "data": {
      "text/html": [
       "<table class=\"data-frame\"><thead><tr><th></th><th>id</th><th>sbp</th><th>agegroup</th><th>gender</th><th>bmi</th><th>meds</th><th>bmi_std</th><th>obswt</th></tr><tr><th></th><th>Int64</th><th>Float64</th><th>Float64</th><th>String</th><th>Float64</th><th>String</th><th>Float64</th><th>Float64</th></tr></thead><tbody><p>5,011 rows × 8 columns</p><tr><th>1</th><td>1</td><td>159.586</td><td>3.0</td><td>Male</td><td>23.1336</td><td>NoMeds</td><td>-1.57733</td><td>4.0</td></tr><tr><th>2</th><td>1</td><td>161.849</td><td>3.0</td><td>Male</td><td>26.5885</td><td>NoMeds</td><td>1.29927</td><td>4.0</td></tr><tr><th>3</th><td>1</td><td>160.484</td><td>3.0</td><td>Male</td><td>24.8428</td><td>NoMeds</td><td>-0.154204</td><td>4.0</td></tr><tr><th>4</th><td>1</td><td>161.134</td><td>3.0</td><td>Male</td><td>24.9289</td><td>NoMeds</td><td>-0.0825105</td><td>4.0</td></tr><tr><th>5</th><td>1</td><td>165.443</td><td>3.0</td><td>Male</td><td>24.8057</td><td>NoMeds</td><td>-0.185105</td><td>4.0</td></tr><tr><th>6</th><td>1</td><td>160.053</td><td>3.0</td><td>Male</td><td>24.1583</td><td>NoMeds</td><td>-0.72415</td><td>4.0</td></tr><tr><th>7</th><td>1</td><td>162.1</td><td>3.0</td><td>Male</td><td>25.2543</td><td>NoMeds</td><td>0.188379</td><td>4.0</td></tr><tr><th>8</th><td>1</td><td>163.153</td><td>3.0</td><td>Male</td><td>24.3951</td><td>NoMeds</td><td>-0.527037</td><td>4.0</td></tr><tr><th>9</th><td>1</td><td>166.675</td><td>3.0</td><td>Male</td><td>26.1514</td><td>NoMeds</td><td>0.935336</td><td>4.0</td></tr><tr><th>10</th><td>2</td><td>130.765</td><td>1.0</td><td>Male</td><td>22.6263</td><td>NoMeds</td><td>-1.99977</td><td>3.0</td></tr><tr><th>11</th><td>2</td><td>131.044</td><td>1.0</td><td>Male</td><td>24.7404</td><td>NoMeds</td><td>-0.239477</td><td>3.0</td></tr><tr><th>12</th><td>2</td><td>131.22</td><td>1.0</td><td>Male</td><td>25.3415</td><td>NoMeds</td><td>0.260949</td><td>3.0</td></tr><tr><th>13</th><td>2</td><td>131.96</td><td>1.0</td><td>Male</td><td>25.6933</td><td>NoMeds</td><td>0.553886</td><td>3.0</td></tr><tr><th>14</th><td>2</td><td>130.09</td><td>1.0</td><td>Male</td><td>21.7646</td><td>NoMeds</td><td>-2.71724</td><td>3.0</td></tr><tr><th>15</th><td>2</td><td>130.556</td><td>1.0</td><td>Male</td><td>23.7895</td><td>NoMeds</td><td>-1.03123</td><td>3.0</td></tr><tr><th>16</th><td>2</td><td>132.001</td><td>1.0</td><td>Male</td><td>26.9103</td><td>NoMeds</td><td>1.56716</td><td>3.0</td></tr><tr><th>17</th><td>2</td><td>131.879</td><td>1.0</td><td>Male</td><td>24.1153</td><td>NoMeds</td><td>-0.759929</td><td>3.0</td></tr><tr><th>18</th><td>2</td><td>131.609</td><td>1.0</td><td>Male</td><td>25.3372</td><td>NoMeds</td><td>0.257432</td><td>3.0</td></tr><tr><th>19</th><td>2</td><td>132.149</td><td>1.0</td><td>Male</td><td>23.7171</td><td>NoMeds</td><td>-1.09154</td><td>3.0</td></tr><tr><th>20</th><td>2</td><td>130.653</td><td>1.0</td><td>Male</td><td>25.5947</td><td>NoMeds</td><td>0.471793</td><td>3.0</td></tr><tr><th>21</th><td>3</td><td>145.655</td><td>2.0</td><td>Male</td><td>25.3645</td><td>NoMeds</td><td>0.280102</td><td>4.0</td></tr><tr><th>22</th><td>3</td><td>147.384</td><td>2.0</td><td>Male</td><td>26.6756</td><td>NoMeds</td><td>1.37179</td><td>4.0</td></tr><tr><th>23</th><td>3</td><td>146.558</td><td>2.0</td><td>Male</td><td>25.6001</td><td>NoMeds</td><td>0.476309</td><td>4.0</td></tr><tr><th>24</th><td>3</td><td>146.731</td><td>2.0</td><td>Male</td><td>26.3532</td><td>NoMeds</td><td>1.10337</td><td>4.0</td></tr><tr><th>25</th><td>3</td><td>143.037</td><td>2.0</td><td>Male</td><td>24.4092</td><td>NoMeds</td><td>-0.515285</td><td>4.0</td></tr><tr><th>26</th><td>3</td><td>144.845</td><td>2.0</td><td>Male</td><td>25.1193</td><td>NoMeds</td><td>0.075975</td><td>4.0</td></tr><tr><th>27</th><td>3</td><td>145.366</td><td>2.0</td><td>Male</td><td>25.5029</td><td>NoMeds</td><td>0.395354</td><td>4.0</td></tr><tr><th>28</th><td>3</td><td>145.506</td><td>2.0</td><td>Male</td><td>25.9668</td><td>NoMeds</td><td>0.781658</td><td>4.0</td></tr><tr><th>29</th><td>3</td><td>143.155</td><td>2.0</td><td>Male</td><td>24.9327</td><td>NoMeds</td><td>-0.0793522</td><td>4.0</td></tr><tr><th>30</th><td>3</td><td>146.147</td><td>2.0</td><td>Male</td><td>25.0029</td><td>NoMeds</td><td>-0.020953</td><td>4.0</td></tr><tr><th>&vellip;</th><td>&vellip;</td><td>&vellip;</td><td>&vellip;</td><td>&vellip;</td><td>&vellip;</td><td>&vellip;</td><td>&vellip;</td><td>&vellip;</td></tr></tbody></table>"
      ],
      "text/latex": [
       "\\begin{tabular}{r|cccccccc}\n",
       "\t& id & sbp & agegroup & gender & bmi & meds & bmi\\_std & obswt\\\\\n",
       "\t\\hline\n",
       "\t& Int64 & Float64 & Float64 & String & Float64 & String & Float64 & Float64\\\\\n",
       "\t\\hline\n",
       "\t1 & 1 & 159.586 & 3.0 & Male & 23.1336 & NoMeds & -1.57733 & 4.0 \\\\\n",
       "\t2 & 1 & 161.849 & 3.0 & Male & 26.5885 & NoMeds & 1.29927 & 4.0 \\\\\n",
       "\t3 & 1 & 160.484 & 3.0 & Male & 24.8428 & NoMeds & -0.154204 & 4.0 \\\\\n",
       "\t4 & 1 & 161.134 & 3.0 & Male & 24.9289 & NoMeds & -0.0825105 & 4.0 \\\\\n",
       "\t5 & 1 & 165.443 & 3.0 & Male & 24.8057 & NoMeds & -0.185105 & 4.0 \\\\\n",
       "\t6 & 1 & 160.053 & 3.0 & Male & 24.1583 & NoMeds & -0.72415 & 4.0 \\\\\n",
       "\t7 & 1 & 162.1 & 3.0 & Male & 25.2543 & NoMeds & 0.188379 & 4.0 \\\\\n",
       "\t8 & 1 & 163.153 & 3.0 & Male & 24.3951 & NoMeds & -0.527037 & 4.0 \\\\\n",
       "\t9 & 1 & 166.675 & 3.0 & Male & 26.1514 & NoMeds & 0.935336 & 4.0 \\\\\n",
       "\t10 & 2 & 130.765 & 1.0 & Male & 22.6263 & NoMeds & -1.99977 & 3.0 \\\\\n",
       "\t11 & 2 & 131.044 & 1.0 & Male & 24.7404 & NoMeds & -0.239477 & 3.0 \\\\\n",
       "\t12 & 2 & 131.22 & 1.0 & Male & 25.3415 & NoMeds & 0.260949 & 3.0 \\\\\n",
       "\t13 & 2 & 131.96 & 1.0 & Male & 25.6933 & NoMeds & 0.553886 & 3.0 \\\\\n",
       "\t14 & 2 & 130.09 & 1.0 & Male & 21.7646 & NoMeds & -2.71724 & 3.0 \\\\\n",
       "\t15 & 2 & 130.556 & 1.0 & Male & 23.7895 & NoMeds & -1.03123 & 3.0 \\\\\n",
       "\t16 & 2 & 132.001 & 1.0 & Male & 26.9103 & NoMeds & 1.56716 & 3.0 \\\\\n",
       "\t17 & 2 & 131.879 & 1.0 & Male & 24.1153 & NoMeds & -0.759929 & 3.0 \\\\\n",
       "\t18 & 2 & 131.609 & 1.0 & Male & 25.3372 & NoMeds & 0.257432 & 3.0 \\\\\n",
       "\t19 & 2 & 132.149 & 1.0 & Male & 23.7171 & NoMeds & -1.09154 & 3.0 \\\\\n",
       "\t20 & 2 & 130.653 & 1.0 & Male & 25.5947 & NoMeds & 0.471793 & 3.0 \\\\\n",
       "\t21 & 3 & 145.655 & 2.0 & Male & 25.3645 & NoMeds & 0.280102 & 4.0 \\\\\n",
       "\t22 & 3 & 147.384 & 2.0 & Male & 26.6756 & NoMeds & 1.37179 & 4.0 \\\\\n",
       "\t23 & 3 & 146.558 & 2.0 & Male & 25.6001 & NoMeds & 0.476309 & 4.0 \\\\\n",
       "\t24 & 3 & 146.731 & 2.0 & Male & 26.3532 & NoMeds & 1.10337 & 4.0 \\\\\n",
       "\t25 & 3 & 143.037 & 2.0 & Male & 24.4092 & NoMeds & -0.515285 & 4.0 \\\\\n",
       "\t26 & 3 & 144.845 & 2.0 & Male & 25.1193 & NoMeds & 0.075975 & 4.0 \\\\\n",
       "\t27 & 3 & 145.366 & 2.0 & Male & 25.5029 & NoMeds & 0.395354 & 4.0 \\\\\n",
       "\t28 & 3 & 145.506 & 2.0 & Male & 25.9668 & NoMeds & 0.781658 & 4.0 \\\\\n",
       "\t29 & 3 & 143.155 & 2.0 & Male & 24.9327 & NoMeds & -0.0793522 & 4.0 \\\\\n",
       "\t30 & 3 & 146.147 & 2.0 & Male & 25.0029 & NoMeds & -0.020953 & 4.0 \\\\\n",
       "\t$\\dots$ & $\\dots$ & $\\dots$ & $\\dots$ & $\\dots$ & $\\dots$ & $\\dots$ & $\\dots$ & $\\dots$ \\\\\n",
       "\\end{tabular}\n"
      ],
      "text/plain": [
       "5011×8 DataFrame. Omitted printing of 1 columns\n",
       "│ Row  │ id    │ sbp     │ agegroup │ gender │ bmi     │ meds   │ bmi_std    │\n",
       "│      │ \u001b[90mInt64\u001b[39m │ \u001b[90mFloat64\u001b[39m │ \u001b[90mFloat64\u001b[39m  │ \u001b[90mString\u001b[39m │ \u001b[90mFloat64\u001b[39m │ \u001b[90mString\u001b[39m │ \u001b[90mFloat64\u001b[39m    │\n",
       "├──────┼───────┼─────────┼──────────┼────────┼─────────┼────────┼────────────┤\n",
       "│ 1    │ 1     │ 159.586 │ 3.0      │ Male   │ 23.1336 │ NoMeds │ -1.57733   │\n",
       "│ 2    │ 1     │ 161.849 │ 3.0      │ Male   │ 26.5885 │ NoMeds │ 1.29927    │\n",
       "│ 3    │ 1     │ 160.484 │ 3.0      │ Male   │ 24.8428 │ NoMeds │ -0.154204  │\n",
       "│ 4    │ 1     │ 161.134 │ 3.0      │ Male   │ 24.9289 │ NoMeds │ -0.0825105 │\n",
       "│ 5    │ 1     │ 165.443 │ 3.0      │ Male   │ 24.8057 │ NoMeds │ -0.185105  │\n",
       "│ 6    │ 1     │ 160.053 │ 3.0      │ Male   │ 24.1583 │ NoMeds │ -0.72415   │\n",
       "│ 7    │ 1     │ 162.1   │ 3.0      │ Male   │ 25.2543 │ NoMeds │ 0.188379   │\n",
       "│ 8    │ 1     │ 163.153 │ 3.0      │ Male   │ 24.3951 │ NoMeds │ -0.527037  │\n",
       "│ 9    │ 1     │ 166.675 │ 3.0      │ Male   │ 26.1514 │ NoMeds │ 0.935336   │\n",
       "│ 10   │ 2     │ 130.765 │ 1.0      │ Male   │ 22.6263 │ NoMeds │ -1.99977   │\n",
       "⋮\n",
       "│ 5001 │ 499   │ 152.893 │ 3.0      │ Female │ 24.0633 │ NoMeds │ -0.803273  │\n",
       "│ 5002 │ 499   │ 154.394 │ 3.0      │ Female │ 26.3314 │ NoMeds │ 1.08521    │\n",
       "│ 5003 │ 500   │ 148.485 │ 3.0      │ Female │ 23.2373 │ NoMeds │ -1.49104   │\n",
       "│ 5004 │ 500   │ 149.752 │ 3.0      │ Female │ 22.7247 │ NoMeds │ -1.91781   │\n",
       "│ 5005 │ 500   │ 155.672 │ 3.0      │ Female │ 24.4651 │ NoMeds │ -0.468741  │\n",
       "│ 5006 │ 500   │ 148.389 │ 3.0      │ Female │ 25.8129 │ NoMeds │ 0.653514   │\n",
       "│ 5007 │ 500   │ 152.491 │ 3.0      │ Female │ 24.5818 │ NoMeds │ -0.371555  │\n",
       "│ 5008 │ 500   │ 153.844 │ 3.0      │ Female │ 25.721  │ NoMeds │ 0.57693    │\n",
       "│ 5009 │ 500   │ 150.164 │ 3.0      │ Female │ 24.3545 │ NoMeds │ -0.560843  │\n",
       "│ 5010 │ 500   │ 150.248 │ 3.0      │ Female │ 23.8532 │ NoMeds │ -0.978159  │\n",
       "│ 5011 │ 500   │ 152.433 │ 3.0      │ Female │ 26.1232 │ NoMeds │ 0.911814   │"
      ]
     },
     "execution_count": 2,
     "metadata": {},
     "output_type": "execute_result"
    }
   ],
   "source": [
    "filepath = normpath(joinpath(dirname(pathof(WiSER)), \"../data/\"))\n",
    "df = DataFrame!(CSV.File(filepath * \"sbp.csv\"))"
   ]
  },
  {
   "cell_type": "markdown",
   "metadata": {},
   "source": [
    "## Fitting the null model"
   ]
  },
  {
   "cell_type": "code",
   "execution_count": 3,
   "metadata": {},
   "outputs": [
    {
     "name": "stdout",
     "output_type": "stream",
     "text": [
      "\n",
      "******************************************************************************\n",
      "This program contains Ipopt, a library for large-scale nonlinear optimization.\n",
      " Ipopt is released as open source code under the Eclipse Public License (EPL).\n",
      "         For more information visit http://projects.coin-or.org/Ipopt\n",
      "******************************************************************************\n",
      "\n",
      "run = 1, ‖Δβ‖ = 0.044552, ‖Δτ‖ = 0.151438, ‖ΔL‖ = 0.098432, status = Optimal, time(s) = 0.450155\n",
      "run = 2, ‖Δβ‖ = 0.004636, ‖Δτ‖ = 0.008802, ‖ΔL‖ = 0.051024, status = Optimal, time(s) = 0.278350\n"
     ]
    },
    {
     "data": {
      "text/plain": [
       "\n",
       "Within-subject variance estimation by robust regression (WiSER)\n",
       "Number of individuals/clusters: 500\n",
       "Total observations: 5011\n",
       "\n",
       "Fixed-effects parameters:\n",
       "────────────────────────────────────────────────────────────\n",
       "                      Estimate  Std. Error       Z  Pr(>|Z|)\n",
       "────────────────────────────────────────────────────────────\n",
       "β1: (Intercept)   106.251        0.177737   597.80    <1e-99\n",
       "β2: agegroup       14.9835       0.0631725  237.18    <1e-99\n",
       "β3: bmi_std         0.296316     0.0138896   21.33    <1e-99\n",
       "β4: meds: OnMeds  -10.1092       0.122774   -82.34    <1e-99\n",
       "β5: gender: Male   10.0741       0.100391   100.35    <1e-99\n",
       "β6: obswt           0.0190901    0.0340886    0.56    0.5755\n",
       "τ1: (Intercept)    -2.52738      0.529471    -4.77    <1e-5\n",
       "τ2: agegroup        1.50685      0.180431     8.35    <1e-16\n",
       "τ3: bmi_std         0.00572271   0.0226308    0.25    0.8004\n",
       "τ4: meds: OnMeds   -0.436        0.0686369   -6.35    <1e-9\n",
       "τ5: gender: Male   -0.0148606    0.0399953   -0.37    0.7102\n",
       "τ6: obswt           0.00487574   0.0127234    0.38    0.7016\n",
       "────────────────────────────────────────────────────────────\n",
       "Random effects covariance matrix Σγ:\n",
       " \"γ1: (Intercept)\"  1.00099    0.0179842\n",
       " \"γ2: bmi_std\"      0.0179842  0.000448263\n",
       "\n"
      ]
     },
     "execution_count": 3,
     "metadata": {},
     "output_type": "execute_result"
    }
   ],
   "source": [
    "vlmm_reference = WSVarLmmModel(\n",
    "    @formula(sbp ~ 1 + agegroup + bmi_std + meds + gender + obswt), \n",
    "    @formula(sbp ~ 1 + bmi_std), \n",
    "    @formula(sbp ~ 1 + agegroup + bmi_std + meds + gender + obswt),\n",
    "    :id, df);\n",
    "WiSER.fit!(vlmm_reference)"
   ]
  },
  {
   "cell_type": "code",
   "execution_count": 4,
   "metadata": {},
   "outputs": [],
   "source": [
    "vlmm = WSVarLmmModel(\n",
    "    @formula(sbp ~ 1 + agegroup + bmi_std + meds), # removed gender\n",
    "    @formula(sbp ~ 1 + bmi_std), \n",
    "    @formula(sbp ~ 1 + agegroup + bmi_std), # removed meds\n",
    "    :id, df);"
   ]
  },
  {
   "cell_type": "code",
   "execution_count": 5,
   "metadata": {},
   "outputs": [
    {
     "name": "stdout",
     "output_type": "stream",
     "text": [
      "run = 1, ‖Δβ‖ = 0.226739, ‖Δτ‖ = 0.457389, ‖ΔL‖ = 0.109248, status = Optimal, time(s) = 0.212109\n",
      "run = 2, ‖Δβ‖ = 0.057532, ‖Δτ‖ = 0.014932, ‖ΔL‖ = 0.041254, status = Optimal, time(s) = 0.210104\n"
     ]
    },
    {
     "data": {
      "text/plain": [
       "\n",
       "Within-subject variance estimation by robust regression (WiSER)\n",
       "Number of individuals/clusters: 500\n",
       "Total observations: 5011\n",
       "\n",
       "Fixed-effects parameters:\n",
       "────────────────────────────────────────────────────────────\n",
       "                      Estimate  Std. Error       Z  Pr(>|Z|)\n",
       "────────────────────────────────────────────────────────────\n",
       "β1: (Intercept)   111.687        0.623582   179.11    <1e-99\n",
       "β2: agegroup       14.8285       0.280548    52.86    <1e-99\n",
       "β3: bmi_std         0.298112     0.0142789   20.88    <1e-96\n",
       "β4: meds: OnMeds  -10.5763       0.614858   -17.20    <1e-65\n",
       "τ1: (Intercept)    -2.58057      0.135136   -19.10    <1e-80\n",
       "τ2: agegroup        1.5058       0.0488147   30.85    <1e-99\n",
       "τ3: bmi_std         0.00705727   0.0227397    0.31    0.7563\n",
       "────────────────────────────────────────────────────────────\n",
       "Random effects covariance matrix Σγ:\n",
       " \"γ1: (Intercept)\"  26.3486     -0.0200966\n",
       " \"γ2: bmi_std\"      -0.0200966   0.00184969\n",
       "\n"
      ]
     },
     "execution_count": 5,
     "metadata": {},
     "output_type": "execute_result"
    }
   ],
   "source": [
    "WiSER.fit!(vlmm)"
   ]
  },
  {
   "cell_type": "code",
   "execution_count": 6,
   "metadata": {},
   "outputs": [
    {
     "data": {
      "text/plain": [
       "5011"
      ]
     },
     "execution_count": 6,
     "metadata": {},
     "output_type": "execute_result"
    }
   ],
   "source": [
    "sum(x -> size(x.Xt, 2), vlmm.data)"
   ]
  },
  {
   "cell_type": "code",
   "execution_count": 7,
   "metadata": {},
   "outputs": [],
   "source": [
    "df_cut = df[!, [:obswt, :gender, :meds]]\n",
    "df_cut[!, :gender_bool] = map(x -> x == \"Male\", df_cut[!, :gender])\n",
    "df_cut[!, :meds_bool] = map(x -> x == \"OnMeds\", df_cut[!, :meds])\n",
    "df_cut = df_cut[!, setdiff(names(df_cut), [\"meds\", \"gender\"])];"
   ]
  },
  {
   "cell_type": "code",
   "execution_count": 8,
   "metadata": {},
   "outputs": [
    {
     "data": {
      "text/html": [
       "<table class=\"data-frame\"><thead><tr><th></th><th>obswt</th><th>gender_bool</th><th>meds_bool</th></tr><tr><th></th><th>Float64</th><th>Bool</th><th>Bool</th></tr></thead><tbody><p>6 rows × 3 columns</p><tr><th>1</th><td>4.0</td><td>1</td><td>0</td></tr><tr><th>2</th><td>4.0</td><td>1</td><td>0</td></tr><tr><th>3</th><td>4.0</td><td>1</td><td>0</td></tr><tr><th>4</th><td>4.0</td><td>1</td><td>0</td></tr><tr><th>5</th><td>4.0</td><td>1</td><td>0</td></tr><tr><th>6</th><td>4.0</td><td>1</td><td>0</td></tr></tbody></table>"
      ],
      "text/latex": [
       "\\begin{tabular}{r|ccc}\n",
       "\t& obswt & gender\\_bool & meds\\_bool\\\\\n",
       "\t\\hline\n",
       "\t& Float64 & Bool & Bool\\\\\n",
       "\t\\hline\n",
       "\t1 & 4.0 & 1 & 0 \\\\\n",
       "\t2 & 4.0 & 1 & 0 \\\\\n",
       "\t3 & 4.0 & 1 & 0 \\\\\n",
       "\t4 & 4.0 & 1 & 0 \\\\\n",
       "\t5 & 4.0 & 1 & 0 \\\\\n",
       "\t6 & 4.0 & 1 & 0 \\\\\n",
       "\\end{tabular}\n"
      ],
      "text/plain": [
       "6×3 DataFrame\n",
       "│ Row │ obswt   │ gender_bool │ meds_bool │\n",
       "│     │ \u001b[90mFloat64\u001b[39m │ \u001b[90mBool\u001b[39m        │ \u001b[90mBool\u001b[39m      │\n",
       "├─────┼─────────┼─────────────┼───────────┤\n",
       "│ 1   │ 4.0     │ 1           │ 0         │\n",
       "│ 2   │ 4.0     │ 1           │ 0         │\n",
       "│ 3   │ 4.0     │ 1           │ 0         │\n",
       "│ 4   │ 4.0     │ 1           │ 0         │\n",
       "│ 5   │ 4.0     │ 1           │ 0         │\n",
       "│ 6   │ 4.0     │ 1           │ 0         │"
      ]
     },
     "execution_count": 8,
     "metadata": {},
     "output_type": "execute_result"
    }
   ],
   "source": [
    "head(df_cut)"
   ]
  },
  {
   "cell_type": "markdown",
   "metadata": {},
   "source": [
    "## Testing time-variant features"
   ]
  },
  {
   "cell_type": "code",
   "execution_count": 9,
   "metadata": {},
   "outputs": [],
   "source": [
    "X1vec = Matrix{Float64}[]\n",
    "W1vec = Matrix{Float64}[]\n",
    "for i in unique(df[!, :id])\n",
    "    push!(X1vec, convert(Matrix{Float64}, df_cut[df[!, :id] .== i, :]))\n",
    "    push!(W1vec, convert(Matrix{Float64}, df_cut[df[!, :id] .== i, :]))\n",
    "end"
   ]
  },
  {
   "cell_type": "code",
   "execution_count": 10,
   "metadata": {},
   "outputs": [
    {
     "data": {
      "text/plain": [
       "(1.7216052995999737e-101, 6.236443105947029e-11, 1.6927415749513886e-98)"
      ]
     },
     "execution_count": 10,
     "metadata": {},
     "output_type": "execute_result"
    }
   ],
   "source": [
    "st = vGWAS.WSVarScoreTest(vlmm, 3, 3)\n",
    "vGWAS.test!(st, X1vec, W1vec) "
   ]
  },
  {
   "cell_type": "markdown",
   "metadata": {},
   "source": [
    "First is the test for mean fixed effect, second is for within-subject variance fixed effect, and the thired is for both effects."
   ]
  },
  {
   "cell_type": "markdown",
   "metadata": {},
   "source": [
    "Now, let's test each variable separately."
   ]
  },
  {
   "cell_type": "code",
   "execution_count": 11,
   "metadata": {},
   "outputs": [],
   "source": [
    "st = vGWAS.WSVarScoreTest(vlmm, 1, 1); # one mean component, one within-subject variance component"
   ]
  },
  {
   "cell_type": "code",
   "execution_count": 12,
   "metadata": {},
   "outputs": [
    {
     "data": {
      "text/plain": [
       "(0.4409730648525017, 0.7156750808059059, 0.6854385016534825)"
      ]
     },
     "execution_count": 12,
     "metadata": {},
     "output_type": "execute_result"
    }
   ],
   "source": [
    "# testing for obswt\n",
    "X1vec_obswt = map(x -> x[:, 1], X1vec)\n",
    "vGWAS.test!(st, X1vec_obswt, X1vec_obswt)"
   ]
  },
  {
   "cell_type": "markdown",
   "metadata": {},
   "source": [
    "`WSVarScoreTest` object is reusable with the same size of input."
   ]
  },
  {
   "cell_type": "code",
   "execution_count": 13,
   "metadata": {},
   "outputs": [
    {
     "data": {
      "text/plain": [
       "(1.4865241182101787e-104, 0.8535798925691855, 3.9043122001214924e-103)"
      ]
     },
     "execution_count": 13,
     "metadata": {},
     "output_type": "execute_result"
    }
   ],
   "source": [
    "# testing for gender \n",
    "X1vec_gender = map(x -> x[:, 2], X1vec)\n",
    "vGWAS.test!(st, X1vec_gender, X1vec_gender)"
   ]
  },
  {
   "cell_type": "code",
   "execution_count": 14,
   "metadata": {},
   "outputs": [
    {
     "data": {
      "text/plain": [
       "(-1.0, 1.3935485985991808e-12, -1.0)"
      ]
     },
     "execution_count": 14,
     "metadata": {},
     "output_type": "execute_result"
    }
   ],
   "source": [
    "# testing for meds. meds is already included in the null model.\n",
    "st = vGWAS.WSVarScoreTest(vlmm, 0, 1)\n",
    "X1vec_meds = map(x -> x[:, 3], X1vec)\n",
    "vGWAS.test!(st, nothing, X1vec_meds)"
   ]
  },
  {
   "cell_type": "markdown",
   "metadata": {},
   "source": [
    "## Testing time-invariant features"
   ]
  },
  {
   "cell_type": "markdown",
   "metadata": {},
   "source": [
    "In fact, we have been dealing with time-invariant features."
   ]
  },
  {
   "cell_type": "code",
   "execution_count": 15,
   "metadata": {},
   "outputs": [],
   "source": [
    "for i in 1:length(X1vec)\n",
    "    for j in 1:size(X1vec[i], 1)\n",
    "        @assert all(X1vec[i][j, :] .== X1vec[i][1, :]) # in fact, we are dealing with time-invariant features\n",
    "    end\n",
    "end"
   ]
  },
  {
   "cell_type": "markdown",
   "metadata": {},
   "source": [
    "For time-invariant features, we have faster treatment. First, we gather the data as a matrix."
   ]
  },
  {
   "cell_type": "code",
   "execution_count": 16,
   "metadata": {},
   "outputs": [],
   "source": [
    "X1 = Matrix{Float64}(undef, length(X1vec), 3)\n",
    "for i in 1:length(X1vec)\n",
    "    X1[i, :] .= X1vec[i][1, :]\n",
    "end\n",
    "W1 = copy(X1); "
   ]
  },
  {
   "cell_type": "code",
   "execution_count": 17,
   "metadata": {},
   "outputs": [
    {
     "data": {
      "text/plain": [
       "(1.769549022751789e-101, 6.236443105947029e-11, 1.7204195903998925e-98)"
      ]
     },
     "execution_count": 17,
     "metadata": {},
     "output_type": "execute_result"
    }
   ],
   "source": [
    "st_i = vGWAS.WSVarScoreTestInvariant(vlmm, 3, 3)\n",
    "vGWAS.test!(st_i, X1, W1)"
   ]
  },
  {
   "cell_type": "markdown",
   "metadata": {},
   "source": [
    "Now testing for each component:"
   ]
  },
  {
   "cell_type": "code",
   "execution_count": 18,
   "metadata": {},
   "outputs": [],
   "source": [
    "st_i = vGWAS.WSVarScoreTestInvariant(vlmm, 1, 1);"
   ]
  },
  {
   "cell_type": "code",
   "execution_count": 19,
   "metadata": {},
   "outputs": [
    {
     "data": {
      "text/plain": [
       "(0.44097306485250154, 0.7156750808059059, 0.6854385016534823)"
      ]
     },
     "execution_count": 19,
     "metadata": {},
     "output_type": "execute_result"
    }
   ],
   "source": [
    "# obswt\n",
    "vGWAS.test!(st_i, X1[:, 1], W1[:, 1])"
   ]
  },
  {
   "cell_type": "markdown",
   "metadata": {},
   "source": [
    "Once again, `WSVarScoreTestInvariant` object is reusable with the same size of input."
   ]
  },
  {
   "cell_type": "code",
   "execution_count": 20,
   "metadata": {},
   "outputs": [
    {
     "data": {
      "text/plain": [
       "(1.4865241182105607e-104, 0.8535798925691862, 3.904312200122491e-103)"
      ]
     },
     "execution_count": 20,
     "metadata": {},
     "output_type": "execute_result"
    }
   ],
   "source": [
    "# gender\n",
    "vGWAS.test!(st_i, X1[:, 2], W1[:, 2])"
   ]
  },
  {
   "cell_type": "code",
   "execution_count": 21,
   "metadata": {},
   "outputs": [
    {
     "data": {
      "text/plain": [
       "(-1.0, 1.393548598599186e-12, -1.0)"
      ]
     },
     "execution_count": 21,
     "metadata": {},
     "output_type": "execute_result"
    }
   ],
   "source": [
    "# meds\n",
    "st_i = vGWAS.WSVarScoreTestInvariant(vlmm, 0, 1);\n",
    "vGWAS.test!(st_i, nothing, W1[:, 3])"
   ]
  },
  {
   "cell_type": "markdown",
   "metadata": {},
   "source": [
    "The results are equivalent to the above."
   ]
  }
 ],
 "metadata": {
  "kernelspec": {
   "display_name": "Julia 1.5.2",
   "language": "julia",
   "name": "julia-1.5"
  },
  "language_info": {
   "file_extension": ".jl",
   "mimetype": "application/julia",
   "name": "julia",
   "version": "1.5.2"
  }
 },
 "nbformat": 4,
 "nbformat_minor": 4
}
