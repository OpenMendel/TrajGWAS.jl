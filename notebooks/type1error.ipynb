{
 "cells": [
  {
   "cell_type": "code",
   "execution_count": 1,
   "metadata": {},
   "outputs": [
    {
     "name": "stderr",
     "output_type": "stream",
     "text": [
      "┌ Info: Precompiling vGWAS [9514c204-b736-47c9-8157-11c3e9e5ab30]\n",
      "└ @ Base loading.jl:1278\n"
     ]
    }
   ],
   "source": [
    "using CSV, DataFrames, JuliaDB, Random, WiSER, vGWAS"
   ]
  },
  {
   "cell_type": "code",
   "execution_count": 2,
   "metadata": {},
   "outputs": [
    {
     "data": {
      "text/html": [
       "<table class=\"data-frame\"><thead><tr><th></th><th>id</th><th>sbp</th><th>agegroup</th><th>gender</th><th>bmi</th><th>meds</th><th>bmi_std</th><th>obswt</th></tr><tr><th></th><th>Int64</th><th>Float64</th><th>Float64</th><th>String</th><th>Float64</th><th>String</th><th>Float64</th><th>Float64</th></tr></thead><tbody><p>5,011 rows × 8 columns</p><tr><th>1</th><td>1</td><td>159.586</td><td>3.0</td><td>Male</td><td>23.1336</td><td>NoMeds</td><td>-1.57733</td><td>4.0</td></tr><tr><th>2</th><td>1</td><td>161.849</td><td>3.0</td><td>Male</td><td>26.5885</td><td>NoMeds</td><td>1.29927</td><td>4.0</td></tr><tr><th>3</th><td>1</td><td>160.484</td><td>3.0</td><td>Male</td><td>24.8428</td><td>NoMeds</td><td>-0.154204</td><td>4.0</td></tr><tr><th>4</th><td>1</td><td>161.134</td><td>3.0</td><td>Male</td><td>24.9289</td><td>NoMeds</td><td>-0.0825105</td><td>4.0</td></tr><tr><th>5</th><td>1</td><td>165.443</td><td>3.0</td><td>Male</td><td>24.8057</td><td>NoMeds</td><td>-0.185105</td><td>4.0</td></tr><tr><th>6</th><td>1</td><td>160.053</td><td>3.0</td><td>Male</td><td>24.1583</td><td>NoMeds</td><td>-0.72415</td><td>4.0</td></tr><tr><th>7</th><td>1</td><td>162.1</td><td>3.0</td><td>Male</td><td>25.2543</td><td>NoMeds</td><td>0.188379</td><td>4.0</td></tr><tr><th>8</th><td>1</td><td>163.153</td><td>3.0</td><td>Male</td><td>24.3951</td><td>NoMeds</td><td>-0.527037</td><td>4.0</td></tr><tr><th>9</th><td>1</td><td>166.675</td><td>3.0</td><td>Male</td><td>26.1514</td><td>NoMeds</td><td>0.935336</td><td>4.0</td></tr><tr><th>10</th><td>2</td><td>130.765</td><td>1.0</td><td>Male</td><td>22.6263</td><td>NoMeds</td><td>-1.99977</td><td>3.0</td></tr><tr><th>11</th><td>2</td><td>131.044</td><td>1.0</td><td>Male</td><td>24.7404</td><td>NoMeds</td><td>-0.239477</td><td>3.0</td></tr><tr><th>12</th><td>2</td><td>131.22</td><td>1.0</td><td>Male</td><td>25.3415</td><td>NoMeds</td><td>0.260949</td><td>3.0</td></tr><tr><th>13</th><td>2</td><td>131.96</td><td>1.0</td><td>Male</td><td>25.6933</td><td>NoMeds</td><td>0.553886</td><td>3.0</td></tr><tr><th>14</th><td>2</td><td>130.09</td><td>1.0</td><td>Male</td><td>21.7646</td><td>NoMeds</td><td>-2.71724</td><td>3.0</td></tr><tr><th>15</th><td>2</td><td>130.556</td><td>1.0</td><td>Male</td><td>23.7895</td><td>NoMeds</td><td>-1.03123</td><td>3.0</td></tr><tr><th>16</th><td>2</td><td>132.001</td><td>1.0</td><td>Male</td><td>26.9103</td><td>NoMeds</td><td>1.56716</td><td>3.0</td></tr><tr><th>17</th><td>2</td><td>131.879</td><td>1.0</td><td>Male</td><td>24.1153</td><td>NoMeds</td><td>-0.759929</td><td>3.0</td></tr><tr><th>18</th><td>2</td><td>131.609</td><td>1.0</td><td>Male</td><td>25.3372</td><td>NoMeds</td><td>0.257432</td><td>3.0</td></tr><tr><th>19</th><td>2</td><td>132.149</td><td>1.0</td><td>Male</td><td>23.7171</td><td>NoMeds</td><td>-1.09154</td><td>3.0</td></tr><tr><th>20</th><td>2</td><td>130.653</td><td>1.0</td><td>Male</td><td>25.5947</td><td>NoMeds</td><td>0.471793</td><td>3.0</td></tr><tr><th>21</th><td>3</td><td>145.655</td><td>2.0</td><td>Male</td><td>25.3645</td><td>NoMeds</td><td>0.280102</td><td>4.0</td></tr><tr><th>22</th><td>3</td><td>147.384</td><td>2.0</td><td>Male</td><td>26.6756</td><td>NoMeds</td><td>1.37179</td><td>4.0</td></tr><tr><th>23</th><td>3</td><td>146.558</td><td>2.0</td><td>Male</td><td>25.6001</td><td>NoMeds</td><td>0.476309</td><td>4.0</td></tr><tr><th>24</th><td>3</td><td>146.731</td><td>2.0</td><td>Male</td><td>26.3532</td><td>NoMeds</td><td>1.10337</td><td>4.0</td></tr><tr><th>25</th><td>3</td><td>143.037</td><td>2.0</td><td>Male</td><td>24.4092</td><td>NoMeds</td><td>-0.515285</td><td>4.0</td></tr><tr><th>26</th><td>3</td><td>144.845</td><td>2.0</td><td>Male</td><td>25.1193</td><td>NoMeds</td><td>0.075975</td><td>4.0</td></tr><tr><th>27</th><td>3</td><td>145.366</td><td>2.0</td><td>Male</td><td>25.5029</td><td>NoMeds</td><td>0.395354</td><td>4.0</td></tr><tr><th>28</th><td>3</td><td>145.506</td><td>2.0</td><td>Male</td><td>25.9668</td><td>NoMeds</td><td>0.781658</td><td>4.0</td></tr><tr><th>29</th><td>3</td><td>143.155</td><td>2.0</td><td>Male</td><td>24.9327</td><td>NoMeds</td><td>-0.0793522</td><td>4.0</td></tr><tr><th>30</th><td>3</td><td>146.147</td><td>2.0</td><td>Male</td><td>25.0029</td><td>NoMeds</td><td>-0.020953</td><td>4.0</td></tr><tr><th>&vellip;</th><td>&vellip;</td><td>&vellip;</td><td>&vellip;</td><td>&vellip;</td><td>&vellip;</td><td>&vellip;</td><td>&vellip;</td><td>&vellip;</td></tr></tbody></table>"
      ],
      "text/latex": [
       "\\begin{tabular}{r|cccccccc}\n",
       "\t& id & sbp & agegroup & gender & bmi & meds & bmi\\_std & obswt\\\\\n",
       "\t\\hline\n",
       "\t& Int64 & Float64 & Float64 & String & Float64 & String & Float64 & Float64\\\\\n",
       "\t\\hline\n",
       "\t1 & 1 & 159.586 & 3.0 & Male & 23.1336 & NoMeds & -1.57733 & 4.0 \\\\\n",
       "\t2 & 1 & 161.849 & 3.0 & Male & 26.5885 & NoMeds & 1.29927 & 4.0 \\\\\n",
       "\t3 & 1 & 160.484 & 3.0 & Male & 24.8428 & NoMeds & -0.154204 & 4.0 \\\\\n",
       "\t4 & 1 & 161.134 & 3.0 & Male & 24.9289 & NoMeds & -0.0825105 & 4.0 \\\\\n",
       "\t5 & 1 & 165.443 & 3.0 & Male & 24.8057 & NoMeds & -0.185105 & 4.0 \\\\\n",
       "\t6 & 1 & 160.053 & 3.0 & Male & 24.1583 & NoMeds & -0.72415 & 4.0 \\\\\n",
       "\t7 & 1 & 162.1 & 3.0 & Male & 25.2543 & NoMeds & 0.188379 & 4.0 \\\\\n",
       "\t8 & 1 & 163.153 & 3.0 & Male & 24.3951 & NoMeds & -0.527037 & 4.0 \\\\\n",
       "\t9 & 1 & 166.675 & 3.0 & Male & 26.1514 & NoMeds & 0.935336 & 4.0 \\\\\n",
       "\t10 & 2 & 130.765 & 1.0 & Male & 22.6263 & NoMeds & -1.99977 & 3.0 \\\\\n",
       "\t11 & 2 & 131.044 & 1.0 & Male & 24.7404 & NoMeds & -0.239477 & 3.0 \\\\\n",
       "\t12 & 2 & 131.22 & 1.0 & Male & 25.3415 & NoMeds & 0.260949 & 3.0 \\\\\n",
       "\t13 & 2 & 131.96 & 1.0 & Male & 25.6933 & NoMeds & 0.553886 & 3.0 \\\\\n",
       "\t14 & 2 & 130.09 & 1.0 & Male & 21.7646 & NoMeds & -2.71724 & 3.0 \\\\\n",
       "\t15 & 2 & 130.556 & 1.0 & Male & 23.7895 & NoMeds & -1.03123 & 3.0 \\\\\n",
       "\t16 & 2 & 132.001 & 1.0 & Male & 26.9103 & NoMeds & 1.56716 & 3.0 \\\\\n",
       "\t17 & 2 & 131.879 & 1.0 & Male & 24.1153 & NoMeds & -0.759929 & 3.0 \\\\\n",
       "\t18 & 2 & 131.609 & 1.0 & Male & 25.3372 & NoMeds & 0.257432 & 3.0 \\\\\n",
       "\t19 & 2 & 132.149 & 1.0 & Male & 23.7171 & NoMeds & -1.09154 & 3.0 \\\\\n",
       "\t20 & 2 & 130.653 & 1.0 & Male & 25.5947 & NoMeds & 0.471793 & 3.0 \\\\\n",
       "\t21 & 3 & 145.655 & 2.0 & Male & 25.3645 & NoMeds & 0.280102 & 4.0 \\\\\n",
       "\t22 & 3 & 147.384 & 2.0 & Male & 26.6756 & NoMeds & 1.37179 & 4.0 \\\\\n",
       "\t23 & 3 & 146.558 & 2.0 & Male & 25.6001 & NoMeds & 0.476309 & 4.0 \\\\\n",
       "\t24 & 3 & 146.731 & 2.0 & Male & 26.3532 & NoMeds & 1.10337 & 4.0 \\\\\n",
       "\t25 & 3 & 143.037 & 2.0 & Male & 24.4092 & NoMeds & -0.515285 & 4.0 \\\\\n",
       "\t26 & 3 & 144.845 & 2.0 & Male & 25.1193 & NoMeds & 0.075975 & 4.0 \\\\\n",
       "\t27 & 3 & 145.366 & 2.0 & Male & 25.5029 & NoMeds & 0.395354 & 4.0 \\\\\n",
       "\t28 & 3 & 145.506 & 2.0 & Male & 25.9668 & NoMeds & 0.781658 & 4.0 \\\\\n",
       "\t29 & 3 & 143.155 & 2.0 & Male & 24.9327 & NoMeds & -0.0793522 & 4.0 \\\\\n",
       "\t30 & 3 & 146.147 & 2.0 & Male & 25.0029 & NoMeds & -0.020953 & 4.0 \\\\\n",
       "\t$\\dots$ & $\\dots$ & $\\dots$ & $\\dots$ & $\\dots$ & $\\dots$ & $\\dots$ & $\\dots$ & $\\dots$ \\\\\n",
       "\\end{tabular}\n"
      ],
      "text/plain": [
       "5011×8 DataFrame. Omitted printing of 1 columns\n",
       "│ Row  │ id    │ sbp     │ agegroup │ gender │ bmi     │ meds   │ bmi_std    │\n",
       "│      │ \u001b[90mInt64\u001b[39m │ \u001b[90mFloat64\u001b[39m │ \u001b[90mFloat64\u001b[39m  │ \u001b[90mString\u001b[39m │ \u001b[90mFloat64\u001b[39m │ \u001b[90mString\u001b[39m │ \u001b[90mFloat64\u001b[39m    │\n",
       "├──────┼───────┼─────────┼──────────┼────────┼─────────┼────────┼────────────┤\n",
       "│ 1    │ 1     │ 159.586 │ 3.0      │ Male   │ 23.1336 │ NoMeds │ -1.57733   │\n",
       "│ 2    │ 1     │ 161.849 │ 3.0      │ Male   │ 26.5885 │ NoMeds │ 1.29927    │\n",
       "│ 3    │ 1     │ 160.484 │ 3.0      │ Male   │ 24.8428 │ NoMeds │ -0.154204  │\n",
       "│ 4    │ 1     │ 161.134 │ 3.0      │ Male   │ 24.9289 │ NoMeds │ -0.0825105 │\n",
       "│ 5    │ 1     │ 165.443 │ 3.0      │ Male   │ 24.8057 │ NoMeds │ -0.185105  │\n",
       "│ 6    │ 1     │ 160.053 │ 3.0      │ Male   │ 24.1583 │ NoMeds │ -0.72415   │\n",
       "│ 7    │ 1     │ 162.1   │ 3.0      │ Male   │ 25.2543 │ NoMeds │ 0.188379   │\n",
       "│ 8    │ 1     │ 163.153 │ 3.0      │ Male   │ 24.3951 │ NoMeds │ -0.527037  │\n",
       "│ 9    │ 1     │ 166.675 │ 3.0      │ Male   │ 26.1514 │ NoMeds │ 0.935336   │\n",
       "│ 10   │ 2     │ 130.765 │ 1.0      │ Male   │ 22.6263 │ NoMeds │ -1.99977   │\n",
       "⋮\n",
       "│ 5001 │ 499   │ 152.893 │ 3.0      │ Female │ 24.0633 │ NoMeds │ -0.803273  │\n",
       "│ 5002 │ 499   │ 154.394 │ 3.0      │ Female │ 26.3314 │ NoMeds │ 1.08521    │\n",
       "│ 5003 │ 500   │ 148.485 │ 3.0      │ Female │ 23.2373 │ NoMeds │ -1.49104   │\n",
       "│ 5004 │ 500   │ 149.752 │ 3.0      │ Female │ 22.7247 │ NoMeds │ -1.91781   │\n",
       "│ 5005 │ 500   │ 155.672 │ 3.0      │ Female │ 24.4651 │ NoMeds │ -0.468741  │\n",
       "│ 5006 │ 500   │ 148.389 │ 3.0      │ Female │ 25.8129 │ NoMeds │ 0.653514   │\n",
       "│ 5007 │ 500   │ 152.491 │ 3.0      │ Female │ 24.5818 │ NoMeds │ -0.371555  │\n",
       "│ 5008 │ 500   │ 153.844 │ 3.0      │ Female │ 25.721  │ NoMeds │ 0.57693    │\n",
       "│ 5009 │ 500   │ 150.164 │ 3.0      │ Female │ 24.3545 │ NoMeds │ -0.560843  │\n",
       "│ 5010 │ 500   │ 150.248 │ 3.0      │ Female │ 23.8532 │ NoMeds │ -0.978159  │\n",
       "│ 5011 │ 500   │ 152.433 │ 3.0      │ Female │ 26.1232 │ NoMeds │ 0.911814   │"
      ]
     },
     "execution_count": 2,
     "metadata": {},
     "output_type": "execute_result"
    }
   ],
   "source": [
    "filepath = normpath(joinpath(dirname(pathof(WiSER)), \"../data/\"))\n",
    "df = DataFrame!(CSV.File(filepath * \"sbp.csv\"))"
   ]
  },
  {
   "cell_type": "code",
   "execution_count": 3,
   "metadata": {},
   "outputs": [],
   "source": [
    "vlmm = WSVarLmmModel(\n",
    "    @formula(sbp ~ 1 + agegroup + gender + bmi_std + meds), \n",
    "    @formula(sbp ~ 1 + bmi_std), \n",
    "    @formula(sbp ~ 1 + agegroup + meds + bmi_std),\n",
    "    :id, df);"
   ]
  },
  {
   "cell_type": "code",
   "execution_count": 4,
   "metadata": {},
   "outputs": [
    {
     "name": "stdout",
     "output_type": "stream",
     "text": [
      "\n",
      "******************************************************************************\n",
      "This program contains Ipopt, a library for large-scale nonlinear optimization.\n",
      " Ipopt is released as open source code under the Eclipse Public License (EPL).\n",
      "         For more information visit http://projects.coin-or.org/Ipopt\n",
      "******************************************************************************\n",
      "\n",
      "run = 1, ‖Δβ‖ = 0.037311, ‖Δτ‖ = 0.166678, ‖ΔL‖ = 0.100999, status = Optimal, time(s) = 0.386473\n",
      "run = 2, ‖Δβ‖ = 0.005220, ‖Δτ‖ = 0.006748, ‖ΔL‖ = 0.048735, status = Optimal, time(s) = 0.237642\n"
     ]
    },
    {
     "data": {
      "text/plain": [
       "\n",
       "Within-subject variance estimation by robust regression (WiSER)\n",
       "Number of individuals/clusters: 500\n",
       "Total observations: 5011\n",
       "\n",
       "Fixed-effects parameters:\n",
       "───────────────────────────────────────────────────────────\n",
       "                     Estimate  Std. Error       Z  Pr(>|Z|)\n",
       "───────────────────────────────────────────────────────────\n",
       "β1: (Intercept)   106.308       0.14384    739.07    <1e-99\n",
       "β2: agegroup       14.9844      0.0633245  236.63    <1e-99\n",
       "β3: gender: Male   10.0749      0.100279   100.47    <1e-99\n",
       "β4: bmi_std         0.296424    0.0139071   21.31    <1e-99\n",
       "β5: meds: OnMeds  -10.1107      0.122918   -82.26    <1e-99\n",
       "τ1: (Intercept)    -2.5212      0.393792    -6.40    <1e-9\n",
       "τ2: agegroup        1.50759     0.135456    11.13    <1e-28\n",
       "τ3: meds: OnMeds   -0.435225    0.0621076   -7.01    <1e-11\n",
       "τ4: bmi_std         0.0052695   0.0224039    0.24    0.8140\n",
       "───────────────────────────────────────────────────────────\n",
       "Random effects covariance matrix Σγ:\n",
       " \"γ1: (Intercept)\"  1.00196    0.0181387\n",
       " \"γ2: bmi_std\"      0.0181387  0.000549357\n",
       "\n"
      ]
     },
     "execution_count": 4,
     "metadata": {},
     "output_type": "execute_result"
    }
   ],
   "source": [
    "WiSER.fit!(vlmm)"
   ]
  },
  {
   "cell_type": "code",
   "execution_count": 5,
   "metadata": {},
   "outputs": [
    {
     "data": {
      "text/plain": [
       "5011"
      ]
     },
     "execution_count": 5,
     "metadata": {},
     "output_type": "execute_result"
    }
   ],
   "source": [
    "sum(x -> size(x.Xt, 2), vlmm.data)"
   ]
  },
  {
   "cell_type": "code",
   "execution_count": 6,
   "metadata": {},
   "outputs": [],
   "source": [
    "using Random\n",
    "Random.seed!(333)\n",
    "df[!, :rand1] = randn(size(df, 1));"
   ]
  },
  {
   "cell_type": "code",
   "execution_count": 7,
   "metadata": {},
   "outputs": [],
   "source": [
    "X1vec = Matrix{Float64}[]\n",
    "W1vec = Matrix{Float64}[]\n",
    "for i in unique(df[!, :id])\n",
    "    push!(X1vec, reshape(df[df[!, :id].==i, :rand1], :, 1))\n",
    "    push!(W1vec, reshape(df[df[!, :id].==i, :rand1], :, 1))\n",
    "end"
   ]
  },
  {
   "cell_type": "code",
   "execution_count": 8,
   "metadata": {},
   "outputs": [
    {
     "data": {
      "text/plain": [
       "(0.3833668584762737, 0.45613663515756114, 0.5030914655169818)"
      ]
     },
     "execution_count": 8,
     "metadata": {},
     "output_type": "execute_result"
    }
   ],
   "source": [
    "st = vGWAS.WSVarScoreTest(vlmm, 1, 1)\n",
    "vGWAS.test!(st, X1vec, W1vec)"
   ]
  },
  {
   "cell_type": "code",
   "execution_count": 9,
   "metadata": {},
   "outputs": [
    {
     "data": {
      "text/plain": [
       "(0.3833668584762737, -1.0, -1.0)"
      ]
     },
     "execution_count": 9,
     "metadata": {},
     "output_type": "execute_result"
    }
   ],
   "source": [
    "st = vGWAS.WSVarScoreTest(vlmm, 1, 0)\n",
    "vGWAS.test!(st, X1vec, nothing)"
   ]
  },
  {
   "cell_type": "code",
   "execution_count": 10,
   "metadata": {},
   "outputs": [
    {
     "data": {
      "text/plain": [
       "(-1.0, 0.45613663515756114, -1.0)"
      ]
     },
     "execution_count": 10,
     "metadata": {},
     "output_type": "execute_result"
    }
   ],
   "source": [
    "st = vGWAS.WSVarScoreTest(vlmm, 0, 1)\n",
    "vGWAS.test!(st, nothing, W1vec)"
   ]
  },
  {
   "cell_type": "code",
   "execution_count": null,
   "metadata": {},
   "outputs": [],
   "source": [
    "using Random\n",
    "pvals1 = Float64[]\n",
    "pvals2 = Float64[]\n",
    "pvals3 = Float64[]\n",
    "st = vGWAS.WSVarScoreTest(vlmm, 1, 1)\n",
    "for i in 1:10000\n",
    "    Random.seed!(37410+i)\n",
    "    df[!, :rand1] = randn(size(df, 1))\n",
    "    df[!, :rand2] = randn(size(df, 1))\n",
    "    X1vec = Matrix{Float64}[]\n",
    "    W1vec = Matrix{Float64}[]\n",
    "    for i in unique(df[!, :id])\n",
    "        push!(X1vec, reshape(df[df[!, :id].==i, :rand1], :, 1))\n",
    "        push!(W1vec, reshape(df[df[!, :id].==i, :rand2], :, 1))\n",
    "    end\n",
    "    pval1, pval2, pval3 = vGWAS.test!(st, X1vec, W1vec)\n",
    "    push!(pvals1, pval1)\n",
    "    push!(pvals2, pval2)\n",
    "    push!(pvals3, pval3)\n",
    "end"
   ]
  },
  {
   "cell_type": "code",
   "execution_count": null,
   "metadata": {},
   "outputs": [],
   "source": [
    "count(pvals1 .< 0.01), count(pvals2 .< 0.01), count(pvals3 .< 0.01)"
   ]
  },
  {
   "cell_type": "code",
   "execution_count": null,
   "metadata": {},
   "outputs": [],
   "source": [
    "count(pvals1 .< 0.05), count(pvals2 .< 0.05), count(pvals3 .< 0.05)"
   ]
  },
  {
   "cell_type": "code",
   "execution_count": null,
   "metadata": {},
   "outputs": [],
   "source": [
    "count(pvals1 .< 0.10), count(pvals2 .< 0.10), count(pvals3 .< 0.10)"
   ]
  },
  {
   "cell_type": "code",
   "execution_count": null,
   "metadata": {},
   "outputs": [],
   "source": []
  }
 ],
 "metadata": {
  "kernelspec": {
   "display_name": "Julia 1.5.2",
   "language": "julia",
   "name": "julia-1.5"
  },
  "language_info": {
   "file_extension": ".jl",
   "mimetype": "application/julia",
   "name": "julia",
   "version": "1.5.2"
  }
 },
 "nbformat": 4,
 "nbformat_minor": 4
}
