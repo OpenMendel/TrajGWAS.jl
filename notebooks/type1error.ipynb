{
 "cells": [
  {
   "cell_type": "code",
   "execution_count": 1,
   "metadata": {},
   "outputs": [
    {
     "name": "stderr",
     "output_type": "stream",
     "text": [
      "┌ Info: Precompiling vGWAS [9514c204-b736-47c9-8157-11c3e9e5ab30]\n",
      "└ @ Base loading.jl:1278\n"
     ]
    }
   ],
   "source": [
    "using CSV, DataFrames, JuliaDB, Random, WiSER, vGWAS"
   ]
  },
  {
   "cell_type": "code",
   "execution_count": 38,
   "metadata": {},
   "outputs": [],
   "source": [
    "filepath = normpath(joinpath(dirname(pathof(WiSER)), \"../data/\"))\n",
    "df = DataFrame!(CSV.File(filepath * \"sbp.csv\"))\n"
   ]
  },
  {
   "cell_type": "code",
   "execution_count": 39,
   "metadata": {},
   "outputs": [],
   "source": [
    "vlmm = WSVarLmmModel(\n",
    "    @formula(sbp ~ 1 + agegroup + gender + bmi_std + meds), \n",
    "    @formula(sbp ~ 1 + bmi_std), \n",
    "    @formula(sbp ~ 1 + agegroup + meds + bmi_std),\n",
    "    :id, df);"
   ]
  },
  {
   "cell_type": "code",
   "execution_count": 40,
   "metadata": {},
   "outputs": [
    {
     "name": "stdout",
     "output_type": "stream",
     "text": [
      "run = 1, ‖Δβ‖ = 0.037311, ‖Δτ‖ = 0.166678, ‖ΔL‖ = 0.100999, status = Optimal, time(s) = 0.210738\n",
      "run = 2, ‖Δβ‖ = 0.005220, ‖Δτ‖ = 0.006748, ‖ΔL‖ = 0.048735, status = Optimal, time(s) = 0.228190\n"
     ]
    },
    {
     "data": {
      "text/plain": [
       "\n",
       "Within-subject variance estimation by robust regression (WiSER)\n",
       "Number of individuals/clusters: 500\n",
       "Total observations: 5011\n",
       "\n",
       "Fixed-effects parameters:\n",
       "───────────────────────────────────────────────────────────\n",
       "                     Estimate  Std. Error       Z  Pr(>|Z|)\n",
       "───────────────────────────────────────────────────────────\n",
       "β1: (Intercept)   106.308       0.14384    739.07    <1e-99\n",
       "β2: agegroup       14.9844      0.0633245  236.63    <1e-99\n",
       "β3: gender: Male   10.0749      0.100279   100.47    <1e-99\n",
       "β4: bmi_std         0.296424    0.0139071   21.31    <1e-99\n",
       "β5: meds: OnMeds  -10.1107      0.122918   -82.26    <1e-99\n",
       "τ1: (Intercept)    -2.5212      0.393792    -6.40    <1e-9\n",
       "τ2: agegroup        1.50759     0.135456    11.13    <1e-28\n",
       "τ3: meds: OnMeds   -0.435225    0.0621076   -7.01    <1e-11\n",
       "τ4: bmi_std         0.0052695   0.0224039    0.24    0.8140\n",
       "───────────────────────────────────────────────────────────\n",
       "Random effects covariance matrix Σγ:\n",
       " \"γ1: (Intercept)\"  1.00196    0.0181387\n",
       " \"γ2: bmi_std\"      0.0181387  0.000549357\n",
       "\n"
      ]
     },
     "execution_count": 40,
     "metadata": {},
     "output_type": "execute_result"
    }
   ],
   "source": [
    "WiSER.fit!(vlmm)"
   ]
  },
  {
   "cell_type": "code",
   "execution_count": 41,
   "metadata": {},
   "outputs": [
    {
     "data": {
      "text/plain": [
       "3×9 Array{Float64,2}:\n",
       "  0.00380916   0.00368106    0.00374837   …   0.00376479  0.00369839\n",
       " -0.0125459    0.0112974    -0.000892967     -0.00397387  0.00821902\n",
       "  0.000652577  0.000487816   3.17296e-6       6.35072e-5  0.000260769"
      ]
     },
     "execution_count": 41,
     "metadata": {},
     "output_type": "execute_result"
    }
   ],
   "source": [
    "vlmm.data[1].storage_q◺n"
   ]
  },
  {
   "cell_type": "code",
   "execution_count": 42,
   "metadata": {},
   "outputs": [
    {
     "data": {
      "text/plain": [
       "5011"
      ]
     },
     "execution_count": 42,
     "metadata": {},
     "output_type": "execute_result"
    }
   ],
   "source": [
    "sum(x -> size(x.Xt, 2), vlmm.data)"
   ]
  },
  {
   "cell_type": "code",
   "execution_count": 52,
   "metadata": {},
   "outputs": [],
   "source": [
    "using Random\n",
    "Random.seed!(333)\n",
    "df[!, :rand1] = randn(size(df, 1));"
   ]
  },
  {
   "cell_type": "code",
   "execution_count": 53,
   "metadata": {},
   "outputs": [],
   "source": [
    "X1vec = Matrix{Float64}[]\n",
    "W1vec = Matrix{Float64}[]\n",
    "for i in unique(df[!, :id])\n",
    "    push!(X1vec, reshape(df[df[!, :id].==i, :rand1], :, 1))\n",
    "    push!(W1vec, reshape(df[df[!, :id].==i, :rand1], :, 1))\n",
    "end"
   ]
  },
  {
   "cell_type": "code",
   "execution_count": 82,
   "metadata": {},
   "outputs": [],
   "source": [
    "st = vGWAS.WSVarScoreTest(vlmm, X1vec, W1vec);"
   ]
  },
  {
   "cell_type": "code",
   "execution_count": 83,
   "metadata": {},
   "outputs": [
    {
     "data": {
      "text/plain": [
       "0.8648855615088483"
      ]
     },
     "execution_count": 83,
     "metadata": {},
     "output_type": "execute_result"
    }
   ],
   "source": [
    "V = 1/st.m * (transpose(st.ψ_1) * inv(st.B_11 - transpose(st.A_21) * vlmm.Ainv * st.B_21 - \n",
    "    transpose(st.B_21) * vlmm.Ainv * st.A_21 + \n",
    "    transpose(st.A_21) * vlmm.Ainv * vlmm.B * vlmm.Ainv * st.A_21) * st.ψ_1)"
   ]
  },
  {
   "cell_type": "code",
   "execution_count": 84,
   "metadata": {},
   "outputs": [
    {
     "data": {
      "text/plain": [
       "2-element Array{Float64,1}:\n",
       " -46.87478145488263\n",
       " -56.7301877534061"
      ]
     },
     "execution_count": 84,
     "metadata": {},
     "output_type": "execute_result"
    }
   ],
   "source": [
    "st.ψ_1"
   ]
  },
  {
   "cell_type": "code",
   "execution_count": 85,
   "metadata": {},
   "outputs": [],
   "source": [
    "using Distributions"
   ]
  },
  {
   "cell_type": "code",
   "execution_count": 86,
   "metadata": {},
   "outputs": [
    {
     "data": {
      "text/plain": [
       "0.6489219828984738"
      ]
     },
     "execution_count": 86,
     "metadata": {},
     "output_type": "execute_result"
    }
   ],
   "source": [
    "Distributions.ccdf.(Chisq(2), V)"
   ]
  },
  {
   "cell_type": "code",
   "execution_count": 111,
   "metadata": {},
   "outputs": [],
   "source": [
    "using Random\n",
    "pvals = []\n",
    "for i in 1:10000\n",
    "    Random.seed!(98765+i)\n",
    "    df[!, :rand1] = randn(size(df, 1))\n",
    "    df[!, :rand2] = randn(size(df, 1))\n",
    "    X1vec = Matrix{Float64}[]\n",
    "    W1vec = Matrix{Float64}[]\n",
    "    for i in unique(df[!, :id])\n",
    "        push!(X1vec, reshape(df[df[!, :id].==i, :rand1], :, 1))\n",
    "        push!(W1vec, reshape(df[df[!, :id].==i, :rand2], :, 1))\n",
    "    end\n",
    "    st = vGWAS.WSVarScoreTest(vlmm, X1vec, W1vec)\n",
    "    V = 1/st.m * (transpose(st.ψ_1) * inv(st.B_11 - transpose(st.A_21) * vlmm.Ainv * st.B_21 - \n",
    "        transpose(st.B_21) * vlmm.Ainv * st.A_21 + \n",
    "        transpose(st.A_21) * vlmm.Ainv * vlmm.B * vlmm.Ainv * st.A_21) * st.ψ_1)\n",
    "    push!(pvals, Distributions.ccdf.(Chisq(2), V)) \n",
    "end"
   ]
  },
  {
   "cell_type": "code",
   "execution_count": 112,
   "metadata": {},
   "outputs": [
    {
     "data": {
      "text/plain": [
       "72"
      ]
     },
     "execution_count": 112,
     "metadata": {},
     "output_type": "execute_result"
    }
   ],
   "source": [
    "count(pvals .< 0.01)"
   ]
  },
  {
   "cell_type": "code",
   "execution_count": 113,
   "metadata": {},
   "outputs": [
    {
     "data": {
      "text/plain": [
       "435"
      ]
     },
     "execution_count": 113,
     "metadata": {},
     "output_type": "execute_result"
    }
   ],
   "source": [
    "count(pvals .< 0.05)"
   ]
  },
  {
   "cell_type": "code",
   "execution_count": 114,
   "metadata": {},
   "outputs": [
    {
     "data": {
      "text/plain": [
       "948"
      ]
     },
     "execution_count": 114,
     "metadata": {},
     "output_type": "execute_result"
    }
   ],
   "source": [
    "count(pvals .< 0.10)"
   ]
  },
  {
   "cell_type": "code",
   "execution_count": null,
   "metadata": {},
   "outputs": [],
   "source": []
  }
 ],
 "metadata": {
  "kernelspec": {
   "display_name": "Julia 1.5.2",
   "language": "julia",
   "name": "julia-1.5"
  },
  "language_info": {
   "file_extension": ".jl",
   "mimetype": "application/julia",
   "name": "julia",
   "version": "1.5.2"
  }
 },
 "nbformat": 4,
 "nbformat_minor": 4
}
